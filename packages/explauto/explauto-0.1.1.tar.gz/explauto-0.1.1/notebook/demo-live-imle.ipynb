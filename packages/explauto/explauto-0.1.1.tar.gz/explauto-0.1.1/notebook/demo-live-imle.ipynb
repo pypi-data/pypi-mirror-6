{
 "metadata": {
  "name": "demo-live-imle"
 },
 "nbformat": 3,
 "nbformat_minor": 0,
 "worksheets": [
  {
   "cells": [
    {
     "cell_type": "code",
     "collapsed": false,
     "input": [
      "import sys\n",
      "\n",
      "sys.path.append('..')"
     ],
     "language": "python",
     "metadata": {},
     "outputs": [],
     "prompt_number": 1
    },
    {
     "cell_type": "code",
     "collapsed": false,
     "input": [
      "from skel_xp_torso import Torso\n",
      "\n",
      "torso = Torso(os='linux', opti_addr='193.50.110.196')"
     ],
     "language": "python",
     "metadata": {},
     "outputs": [],
     "prompt_number": 2
    },
    {
     "cell_type": "code",
     "collapsed": false,
     "input": [
      "for m in torso.robot.motors:\n",
      "    m.compliant = False"
     ],
     "language": "python",
     "metadata": {},
     "outputs": [],
     "prompt_number": 3
    },
    {
     "cell_type": "code",
     "collapsed": false,
     "input": [
      "for m in torso.robot.left_arm:\n",
      "    m.compliant = True"
     ],
     "language": "python",
     "metadata": {},
     "outputs": [],
     "prompt_number": 4
    },
    {
     "cell_type": "code",
     "collapsed": false,
     "input": [
      "data = load('clement.npy')\n",
      "#data = vstack([load('../data/torso-trajectoiries/record_{}.npy'.format(i)) for i in range(1, 5)])\n",
      "\n",
      "#random.shuffle(data)\n",
      "\n",
      "#data = data[:5000, :]\n",
      "\n",
      "q_train = data[:, :7]\n",
      "pos_train = data[:, 7:]"
     ],
     "language": "python",
     "metadata": {},
     "outputs": [],
     "prompt_number": 5
    },
    {
     "cell_type": "code",
     "collapsed": false,
     "input": [
      "import imle"
     ],
     "language": "python",
     "metadata": {},
     "outputs": [],
     "prompt_number": 6
    },
    {
     "cell_type": "code",
     "collapsed": false,
     "input": [
      "noise_value = 0.01\n",
      "#model = imle.Imle(p0=0.1, wsigma=0.1, wSigma=0.1, wNu=0.1, wLambda=0.1, wPsi=0.1, nSolMax=10, multiValuedSignificance=0.1)\n",
      "model = imle.Imle(Psi0=[noise_value] * 3, p0=0.1, wsigma=0.1, wSigma=0.1, wNu=0.1, wLambda=0.1, wPsi=80, nSolMax=10, multiValuedSignificance=0.1)"
     ],
     "language": "python",
     "metadata": {},
     "outputs": [],
     "prompt_number": 7
    },
    {
     "cell_type": "code",
     "collapsed": false,
     "input": [
      "i = 0\n",
      "for z, x in zip(q_train, pos_train):\n",
      "    if i % 1000 == 0:\n",
      "        print i\n",
      "    i+=1\n",
      "    model.update(z, x)"
     ],
     "language": "python",
     "metadata": {},
     "outputs": [
      {
       "output_type": "stream",
       "stream": "stdout",
       "text": [
        "0\n"
       ]
      }
     ],
     "prompt_number": 8
    },
    {
     "cell_type": "code",
     "collapsed": false,
     "input": [
      "model.number_of_experts"
     ],
     "language": "python",
     "metadata": {},
     "outputs": [
      {
       "output_type": "pyout",
       "prompt_number": 9,
       "text": [
        "1"
       ]
      }
     ],
     "prompt_number": 9
    },
    {
     "cell_type": "code",
     "collapsed": false,
     "input": [
      "from pypot.kinematics import translation_from_transf\n",
      "\n",
      "e = []\n",
      "nsol = []\n",
      "sol = []\n",
      "weight = []\n",
      "\n",
      "for p in pos_train:\n",
      "    qs = model.predict_inverse(p)\n",
      "    \n",
      "    es = []\n",
      "    nsol.append(len(qs))\n",
      "    for q in qs:\n",
      "        p2 = translation_from_transf(torso.right_arm_chain.forward_kinematics(q)[0])\n",
      "        es.append(norm(p2 - p))\n",
      "        \n",
      "    e.append(min(es))\n",
      "    sol.append(argmin(es))\n",
      "    weight.append(argmax(model.get_prediction_weight()))"
     ],
     "language": "python",
     "metadata": {},
     "outputs": [],
     "prompt_number": 9
    },
    {
     "cell_type": "code",
     "collapsed": false,
     "input": [
      "plot(pos_train[:,0], e, 'o')"
     ],
     "language": "python",
     "metadata": {},
     "outputs": [
      {
       "output_type": "pyout",
       "prompt_number": 11,
       "text": [
        "[<matplotlib.lines.Line2D at 0x995608c>]"
       ]
      },
      {
       "output_type": "display_data",
       "png": "[encoded data removed]"
      },
      {
       "output_type": "stream",
       "stream": "stderr",
       "text": [
        "WARNING:root:timeout occured in motors 21 after sending DxlInstructionPacket(id=21, instruction=2, parameters=(36, 6))\n"
       ]
      }
     ],
     "prompt_number": 11
    },
    {
     "cell_type": "code",
     "collapsed": false,
     "input": [
      "from pypot.kinematics import translation_from_transf\n",
      "\n",
      "import pypot.primitive\n",
      "import time\n",
      "\n",
      "class Follow(pypot.primitive.LoopPrimitive):\n",
      "    def __init__(self, freq, torso, model):\n",
      "        pypot.primitive.LoopPrimitive.__init__(self, torso.robot, freq)\n",
      "        \n",
      "        self.torso = torso\n",
      "        self.model = model\n",
      "        \n",
      "    def update(self):\n",
      "        target = self.torso.goal_position\n",
      "        target[2] += 0.1\n",
      "        \n",
      "        qs = self.model.predict_inverse(target)\n",
      "        \n",
      "        e = []\n",
      "        \n",
      "        for q in qs:\n",
      "            p2 = translation_from_transf(torso.right_arm_chain.forward_kinematics(q)[0])\n",
      "            e.append(norm(p2 - target))\n",
      "\n",
      "        q = qs[argmin(e)]\n",
      "            \n",
      "        #if self.model.getPredictionWeight[0]!=max(self.model.getPredictionWeight):\n",
      "        #    print 'Warning'\n",
      "        #    print self.model.getPredictionWeight[0], max(self.model.getPredictionWeight)\n",
      "        q_deg = rad2deg(q)\n",
      "        \n",
      "        self.torso.goto(q_deg, 'right', 0.3, wait=True)\n",
      "        #time.sleep(0.3)\n",
      "        self.model.update(q, self.torso.right_hand_position)"
     ],
     "language": "python",
     "metadata": {},
     "outputs": [],
     "prompt_number": 15
    },
    {
     "cell_type": "code",
     "collapsed": false,
     "input": [
      "prim = Follow(3, torso, model)"
     ],
     "language": "python",
     "metadata": {},
     "outputs": [],
     "prompt_number": 16
    },
    {
     "cell_type": "code",
     "collapsed": false,
     "input": [
      "prim.start()"
     ],
     "language": "python",
     "metadata": {},
     "outputs": [
      {
       "output_type": "stream",
       "stream": "stderr",
       "text": [
        "Exception in thread Thread-6:\n",
        "Traceback (most recent call last):\n",
        "  File \"/usr/lib/python2.7/threading.py\", line 552, in __bootstrap_inner\n",
        "    self.run()\n",
        "  File \"/usr/lib/python2.7/threading.py\", line 505, in run\n",
        "    self.__target(*self.__args, **self.__kwargs)\n",
        "  File \"/mnt/hgfs/pierrerouanet/dev/PyPot/pypot/primitive/primitive.py\", line 54, in _wrapped_run\n",
        "    self.run(*self.args, **self.kwargs)\n",
        "  File \"/mnt/hgfs/pierrerouanet/dev/PyPot/pypot/primitive/primitive.py\", line 151, in run\n",
        "    self.update(*self.args, **self.kwargs)\n",
        "  File \"<ipython-input-15-9e4a11c17222>\", line 17, in update\n",
        "    qs = self.model.predict_inverse(target)\n",
        "  File \"../imle.py\", line 49, in predict_inverse\n",
        "    return numpy.array(self._delegate.predict_inverse(list(x)))\n",
        "RuntimeError: Error in function boost::math::chi_squared_distribution<d>::chi_squared_distribution: Degrees of freedom argument is nan, but must be > 0 !\n",
        "\n",
        "WARNING:root:timeout occured in motors 16 after sending DxlInstructionPacket(id=16, instruction=2, parameters=(36, 6))\n"
       ]
      },
      {
       "output_type": "stream",
       "stream": "stderr",
       "text": [
        "WARNING:root:timeout occured in motors 31 after sending DxlInstructionPacket(id=31, instruction=2, parameters=(36, 6))\n"
       ]
      },
      {
       "output_type": "stream",
       "stream": "stderr",
       "text": [
        "WARNING:root:timeout occured in motors 31 after sending DxlInstructionPacket(id=31, instruction=2, parameters=(36, 6))\n"
       ]
      },
      {
       "output_type": "stream",
       "stream": "stderr",
       "text": [
        "WARNING:root:timeout occured in motors 31 after sending DxlInstructionPacket(id=31, instruction=2, parameters=(36, 6))\n"
       ]
      },
      {
       "output_type": "stream",
       "stream": "stderr",
       "text": [
        "WARNING:root:timeout occured in motors 31 after sending DxlInstructionPacket(id=31, instruction=2, parameters=(36, 6))\n"
       ]
      },
      {
       "output_type": "stream",
       "stream": "stderr",
       "text": [
        "WARNING:root:timeout occured in motors 31 after sending DxlInstructionPacket(id=31, instruction=2, parameters=(36, 6))\n"
       ]
      },
      {
       "output_type": "stream",
       "stream": "stderr",
       "text": [
        "WARNING:root:timeout occured in motors 31 after sending DxlInstructionPacket(id=31, instruction=2, parameters=(6, 4))\n"
       ]
      },
      {
       "output_type": "stream",
       "stream": "stderr",
       "text": [
        "WARNING:root:timeout occured in motors 31 after sending DxlInstructionPacket(id=31, instruction=2, parameters=(36, 6))\n"
       ]
      },
      {
       "output_type": "stream",
       "stream": "stderr",
       "text": [
        "WARNING:root:timeout occured in motors 31 after sending DxlInstructionPacket(id=31, instruction=2, parameters=(36, 6))\n"
       ]
      },
      {
       "output_type": "stream",
       "stream": "stderr",
       "text": [
        "WARNING:root:timeout occured in motors 31 after sending DxlInstructionPacket(id=31, instruction=2, parameters=(42, 1))\n"
       ]
      },
      {
       "output_type": "stream",
       "stream": "stderr",
       "text": [
        "WARNING:root:timeout occured in motors 31 after sending DxlInstructionPacket(id=31, instruction=2, parameters=(36, 6))\n"
       ]
      },
      {
       "output_type": "stream",
       "stream": "stderr",
       "text": [
        "WARNING:root:timeout occured in motors 31 after sending DxlInstructionPacket(id=31, instruction=2, parameters=(43, 1))\n"
       ]
      },
      {
       "output_type": "stream",
       "stream": "stderr",
       "text": [
        "WARNING:root:timeout occured in motors 31 after sending DxlInstructionPacket(id=31, instruction=2, parameters=(36, 6))\n"
       ]
      },
      {
       "output_type": "stream",
       "stream": "stderr",
       "text": [
        "WARNING:root:timeout occured in motors 31 after sending DxlInstructionPacket(id=31, instruction=2, parameters=(36, 6))\n"
       ]
      },
      {
       "output_type": "stream",
       "stream": "stderr",
       "text": [
        "WARNING:root:timeout occured in motors 31 after sending DxlInstructionPacket(id=31, instruction=2, parameters=(36, 6))\n"
       ]
      },
      {
       "output_type": "stream",
       "stream": "stderr",
       "text": [
        "WARNING:root:timeout occured in motors 31 after sending DxlInstructionPacket(id=31, instruction=2, parameters=(36, 6))\n"
       ]
      },
      {
       "output_type": "stream",
       "stream": "stderr",
       "text": [
        "WARNING:root:timeout occured in motors 31 after sending DxlInstructionPacket(id=31, instruction=2, parameters=(36, 6))\n"
       ]
      },
      {
       "output_type": "stream",
       "stream": "stderr",
       "text": [
        "WARNING:root:timeout occured in motors 31 after sending DxlInstructionPacket(id=31, instruction=2, parameters=(36, 6))\n"
       ]
      },
      {
       "output_type": "stream",
       "stream": "stderr",
       "text": [
        "WARNING:root:timeout occured in motors 31 after sending DxlInstructionPacket(id=31, instruction=2, parameters=(36, 6))\n"
       ]
      },
      {
       "output_type": "stream",
       "stream": "stderr",
       "text": [
        "WARNING:root:timeout occured in motors 31 after sending DxlInstructionPacket(id=31, instruction=2, parameters=(36, 6))\n"
       ]
      },
      {
       "output_type": "stream",
       "stream": "stderr",
       "text": [
        "WARNING:root:timeout occured in motors 31 after sending DxlInstructionPacket(id=31, instruction=2, parameters=(36, 6))\n"
       ]
      }
     ],
     "prompt_number": 17
    },
    {
     "cell_type": "code",
     "collapsed": false,
     "input": [],
     "language": "python",
     "metadata": {},
     "outputs": [],
     "prompt_number": 13
    },
    {
     "cell_type": "code",
     "collapsed": false,
     "input": [
      "prim.stop()"
     ],
     "language": "python",
     "metadata": {},
     "outputs": [],
     "prompt_number": 14
    },
    {
     "cell_type": "code",
     "collapsed": false,
     "input": [],
     "language": "python",
     "metadata": {},
     "outputs": []
    }
   ],
   "metadata": {}
  }
 ]
}
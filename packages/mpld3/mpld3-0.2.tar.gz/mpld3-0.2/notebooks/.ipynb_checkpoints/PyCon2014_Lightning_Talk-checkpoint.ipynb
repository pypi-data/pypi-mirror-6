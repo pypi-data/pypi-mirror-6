{
 "metadata": {
  "name": "",
  "signature": "sha256:42fb78e92fff9f5f46dc4ef23d663bd2c59c6bd9d79878fb44b5624daf0a3eac"
 },
 "nbformat": 3,
 "nbformat_minor": 0,
 "worksheets": [
  {
   "cells": [
    {
     "cell_type": "markdown",
     "metadata": {
      "slideshow": {
       "slide_type": "slide"
      }
     },
     "source": [
      "# mpld3: Bridging Matplotlib and D3js\n",
      "\n",
      "## http://mpld3.github.io\n",
      "\n",
      "## Jake VanderPlas\n",
      "\n",
      "## [@jakevdp](http://twitter.com/jakevdp)"
     ]
    },
    {
     "cell_type": "markdown",
     "metadata": {
      "slideshow": {
       "slide_type": "slide"
      }
     },
     "source": [
      "# If you haven't noticed, IPython notebook is\n",
      "# *awesome* for interactive data analysis"
     ]
    },
    {
     "cell_type": "code",
     "collapsed": false,
     "input": [
      "%matplotlib inline\n",
      "import numpy as np\n",
      "import matplotlib.pyplot as plt"
     ],
     "language": "python",
     "metadata": {},
     "outputs": []
    },
    {
     "cell_type": "code",
     "collapsed": false,
     "input": [
      "x, y = np.random.normal(0, 1, [2, 100])\n",
      "c, s = 800 * np.random.random([2, 100])\n",
      "\n",
      "fig = plt.figure()\n",
      "points = plt.scatter(x, y, c=c, s=s, alpha=0.3)\n",
      "plt.grid(color=\"lightgray\");"
     ],
     "language": "python",
     "metadata": {},
     "outputs": []
    },
    {
     "cell_type": "heading",
     "level": 1,
     "metadata": {
      "slideshow": {
       "slide_type": "slide"
      }
     },
     "source": [
      "The Solution: translate matplotlib to D3js!"
     ]
    },
    {
     "cell_type": "code",
     "collapsed": false,
     "input": [
      "import mpld3\n",
      "mpld3.enable_notebook(local=True)\n",
      "fig"
     ],
     "language": "python",
     "metadata": {},
     "outputs": []
    },
    {
     "cell_type": "markdown",
     "metadata": {
      "slideshow": {
       "slide_type": "slide"
      }
     },
     "source": [
      "# What is this actually doing?\n",
      "\n",
      "## Using the [mplexporter](http://github.com/mpld3/mplexporter) package to scrape info from the matplotlib object\n",
      "\n",
      "## Outputs a JSON representation of the figure"
     ]
    },
    {
     "cell_type": "code",
     "collapsed": false,
     "input": [
      "mpld3.fig_to_dict(fig)"
     ],
     "language": "python",
     "metadata": {
      "slideshow": {
       "slide_type": "fragment"
      }
     },
     "outputs": []
    },
    {
     "cell_type": "markdown",
     "metadata": {
      "slideshow": {
       "slide_type": "slide"
      }
     },
     "source": [
      "# This is interpreted by ``mpld3.js``\n",
      "\n",
      "## ~1500 line JS library"
     ]
    },
    {
     "cell_type": "markdown",
     "metadata": {
      "slideshow": {
       "slide_type": "slide"
      }
     },
     "source": [
      "# mpld3 produces a *pure client-side view* of a Matplotlib plot\n",
      "\n",
      "## No requirement for a server-side callback!\n",
      "\n",
      "## Easy to embed on any static website"
     ]
    },
    {
     "cell_type": "markdown",
     "metadata": {
      "slideshow": {
       "slide_type": "slide"
      }
     },
     "source": [
      "# But there's more... mpld3 allows you to add plugins:\n",
      "\n",
      "## Plugins = endless possibilities for interactive behavior!"
     ]
    },
    {
     "cell_type": "markdown",
     "metadata": {
      "slideshow": {
       "slide_type": "slide"
      }
     },
     "source": [
      "# Tooltip Plugin:"
     ]
    },
    {
     "cell_type": "code",
     "collapsed": false,
     "input": [
      "from mpld3 import plugins\n",
      "\n",
      "labels = ['Point {0}'.format(i) for i in range(100)]\n",
      "\n",
      "tooltips = plugins.PointLabelTooltip(points, labels)\n",
      "plugins.connect(fig, tooltips)\n",
      "fig"
     ],
     "language": "python",
     "metadata": {},
     "outputs": []
    },
    {
     "cell_type": "markdown",
     "metadata": {
      "slideshow": {
       "slide_type": "slide"
      }
     },
     "source": [
      "# Linked Brushing plugin:"
     ]
    },
    {
     "cell_type": "code",
     "collapsed": false,
     "input": [
      "from sklearn.datasets import load_iris\n",
      "iris = load_iris()\n",
      "\n",
      "# dither the data for clearer plotting\n",
      "iris.data += 0.1 * np.random.random(iris.data.shape)\n",
      "\n",
      "fig, ax = plt.subplots(4, 4, sharex=\"col\", sharey=\"row\", figsize=(8, 8))\n",
      "fig.subplots_adjust(left=0.05, right=0.95, bottom=0.05, top=0.95,\n",
      "                    hspace=0.1, wspace=0.1)\n",
      "\n",
      "for i in range(4):\n",
      "    for j in range(4):\n",
      "        points = ax[3 - i, j].scatter(iris.data[:, j], iris.data[:, i],\n",
      "                                      c=iris.target, s=40, alpha=0.6)\n",
      "\n",
      "# remove tick labels\n",
      "for axi in ax.flat:\n",
      "    for axis in [axi.xaxis, axi.yaxis]:\n",
      "        axis.set_major_formatter(plt.NullFormatter())\n",
      "\n",
      "# Here we connect the linked brush plugin\n",
      "plugins.connect(fig, plugins.LinkedBrush(points))"
     ],
     "language": "python",
     "metadata": {},
     "outputs": []
    },
    {
     "cell_type": "markdown",
     "metadata": {
      "slideshow": {
       "slide_type": "slide"
      }
     },
     "source": [
      "# Custom Plugins:\n",
      "## Just write a bit of Python + JS"
     ]
    },
    {
     "cell_type": "code",
     "collapsed": false,
     "input": [
      "from mpld3 import plugins, utils\n",
      "\n",
      "\n",
      "class HighlightLines(plugins.PluginBase):\n",
      "    \"\"\"A plugin to highlight lines on hover\"\"\"\n",
      "\n",
      "    JAVASCRIPT = \"\"\"\n",
      "    mpld3.register_plugin(\"linehighlight\", LineHighlightPlugin);\n",
      "    LineHighlightPlugin.prototype = Object.create(mpld3.Plugin.prototype);\n",
      "    LineHighlightPlugin.prototype.constructor = LineHighlightPlugin;\n",
      "    LineHighlightPlugin.prototype.requiredProps = [\"line_ids\"];\n",
      "    LineHighlightPlugin.prototype.defaultProps = {alpha_bg:0.3, alpha_fg:1.0}\n",
      "    function LineHighlightPlugin(fig, props){\n",
      "        mpld3.Plugin.call(this, fig, props);\n",
      "    };\n",
      "\n",
      "    LineHighlightPlugin.prototype.draw = function(){\n",
      "      for(var i=0; i<this.props.line_ids.length; i++){\n",
      "         var obj = mpld3.get_element(this.props.line_ids[i]),\n",
      "             alpha_fg = this.props.alpha_fg;\n",
      "             alpha_bg = this.props.alpha_bg;\n",
      "         obj.elements()\n",
      "             .on(\"mouseover\", function(d, i){\n",
      "                            d3.select(this).transition().duration(50)\n",
      "                              .style(\"stroke-opacity\", alpha_fg); })\n",
      "             .on(\"mouseout\", function(d, i){\n",
      "                            d3.select(this).transition().duration(200)\n",
      "                              .style(\"stroke-opacity\", alpha_bg); });\n",
      "      }\n",
      "    };\n",
      "    \"\"\"\n",
      "    def __init__(self, lines):\n",
      "        self.lines = lines\n",
      "        self.dict_ = {\"type\": \"linehighlight\",\n",
      "                      \"line_ids\": [utils.get_id(line) for line in lines],\n",
      "                      \"alpha_bg\": lines[0].get_alpha(),\n",
      "                      \"alpha_fg\": 1.0}\n",
      "\n",
      "\n",
      "x = np.linspace(0, 10, 100)\n",
      "y = 0.1 * (np.random.random((50, 100)) - 0.5)\n",
      "y = y.cumsum(1)\n",
      "\n",
      "fig, ax = plt.subplots(subplot_kw={'xticks': [], 'yticks': []})\n",
      "lines = ax.plot(x, y.T, color='blue', lw=4, alpha=0.1)\n",
      "plugins.connect(fig, HighlightLines(lines))"
     ],
     "language": "python",
     "metadata": {},
     "outputs": []
    },
    {
     "cell_type": "markdown",
     "metadata": {
      "slideshow": {
       "slide_type": "slide"
      }
     },
     "source": [
      "# Check it out! \u2013 http://mpld3.github.io\n",
      "\n",
      "## Jake VanderPlas\n",
      "\n",
      "## [@jakevdp](http://twitter.com/jakevdp)"
     ]
    },
    {
     "cell_type": "code",
     "collapsed": false,
     "input": [
      "# CSS formatting: run this first!\n",
      "from IPython.display import HTML\n",
      "HTML(\"\"\"\n",
      "<style>\n",
      "h1 {text-align:center}\n",
      "h2 {text-align:center}\n",
      "h3 {text-align:center}\n",
      "</style>\n",
      "\"\"\")"
     ],
     "language": "python",
     "metadata": {
      "slideshow": {
       "slide_type": "notes"
      }
     },
     "outputs": []
    }
   ],
   "metadata": {}
  }
 ]
}
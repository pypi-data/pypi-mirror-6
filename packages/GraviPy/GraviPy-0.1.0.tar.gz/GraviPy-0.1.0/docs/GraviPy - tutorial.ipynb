{
 "metadata": {
  "name": ""
 },
 "nbformat": 3,
 "nbformat_minor": 0,
 "worksheets": [
  {
   "cells": [
    {
     "cell_type": "heading",
     "level": 1,
     "metadata": {},
     "source": [
      "GraviPy - tutorial"
     ]
    },
    {
     "cell_type": "heading",
     "level": 2,
     "metadata": {},
     "source": [
      "_Coordinates_ and _MetricTensor_"
     ]
    },
    {
     "cell_type": "markdown",
     "metadata": {},
     "source": [
      "To start working with the gravipy package you must load the package and to initialize a pretty-printing mode in IPython environment"
     ]
    },
    {
     "cell_type": "code",
     "collapsed": false,
     "input": [
      "from gravipy import * # import SymPy and GraviPy package\n",
      "init_printing()"
     ],
     "language": "python",
     "metadata": {},
     "outputs": [],
     "prompt_number": 1
    },
    {
     "cell_type": "markdown",
     "metadata": {},
     "source": [
      "The next step is to choose coordinates and  to define a metric tensor of a particular space. Let's take, for example, the Schwarzschild metric - vacuum solution to the Einstein's field equations which describes the gravitational field of a spherical mass distribution."
     ]
    },
    {
     "cell_type": "code",
     "collapsed": false,
     "input": [
      "t, r, theta, phi, M = symbols('t, r, \\\\theta, \\phi, M') # define some symbolic variables\n",
      "x = Coordinates('\\chi', [t, r, theta, phi]) # create a four-vector of coordinates object instantiating the Coordinates class\n",
      "Metric = diag(-(1-2*M/r), 1/(1-2*M/r), r**2, r**2*sin(theta)**2) # define a matrix of a metric tensor components  \n",
      "g = MetricTensor('g', x, Metric) # create a metric tensor object instantiating the MetricTensor class"
     ],
     "language": "python",
     "metadata": {},
     "outputs": [],
     "prompt_number": 2
    },
    {
     "cell_type": "markdown",
     "metadata": {},
     "source": [
      "Each component of any tensor object, can be computed by calling the appropriate instance of the _GeneralTensor_ subclass with indices as arguments. The covariant indices take positive integer values (1, 2, ..., dim). The contravariant indices take negative values (-dim, ..., -2, -1)."
     ]
    },
    {
     "cell_type": "code",
     "collapsed": false,
     "input": [
      "x(-1)"
     ],
     "language": "python",
     "metadata": {},
     "outputs": [
      {
       "latex": [
        "$$t$$"
       ],
       "metadata": {},
       "output_type": "pyout",
       "png": "[encoded data removed]",
       "prompt_number": 3,
       "text": [
        "t"
       ]
      }
     ],
     "prompt_number": 3
    },
    {
     "cell_type": "code",
     "collapsed": false,
     "input": [
      "g(1, 1)"
     ],
     "language": "python",
     "metadata": {},
     "outputs": [
      {
       "latex": [
        "$$\\frac{2 M}{r} - 1$$"
       ],
       "metadata": {},
       "output_type": "pyout",
       "png": "[encoded data removed]",
       "prompt_number": 4,
       "text": [
        "2\u22c5M    \n",
        "\u2500\u2500\u2500 - 1\n",
        " r     "
       ]
      }
     ],
     "prompt_number": 4
    },
    {
     "cell_type": "code",
     "collapsed": false,
     "input": [
      "x(1)"
     ],
     "language": "python",
     "metadata": {},
     "outputs": [
      {
       "latex": [
        "$$t \\left(\\frac{2 M}{r} - 1\\right)$$"
       ],
       "metadata": {},
       "output_type": "pyout",
       "png": "[encoded data removed]",
       "prompt_number": 5,
       "text": [
        "  \u239b2\u22c5M    \u239e\n",
        "t\u22c5\u239c\u2500\u2500\u2500 - 1\u239f\n",
        "  \u239d r     \u23a0"
       ]
      }
     ],
     "prompt_number": 5
    },
    {
     "cell_type": "markdown",
     "metadata": {},
     "source": [
      "Matrix representation of a tensor can be obtained in the following way"
     ]
    },
    {
     "cell_type": "code",
     "collapsed": false,
     "input": [
      "x(-All)"
     ],
     "language": "python",
     "metadata": {},
     "outputs": [
      {
       "latex": [
        "$$\\left[\\begin{matrix}t & r & \\theta & \\phi\\end{matrix}\\right]$$"
       ],
       "metadata": {},
       "output_type": "pyout",
       "prompt_number": 6,
       "text": [
        "[t  r  \\theta  \\phi]"
       ]
      }
     ],
     "prompt_number": 6
    },
    {
     "cell_type": "code",
     "collapsed": false,
     "input": [
      "g(All, All)"
     ],
     "language": "python",
     "metadata": {},
     "outputs": [
      {
       "latex": [
        "$$\\left[\\begin{matrix}\\frac{2 M}{r} - 1 & 0 & 0 & 0\\\\0 & \\frac{1}{- \\frac{2 M}{r} + 1} & 0 & 0\\\\0 & 0 & r^{2} & 0\\\\0 & 0 & 0 & r^{2} \\sin^{2}{\\left (\\theta \\right )}\\end{matrix}\\right]$$"
       ],
       "metadata": {},
       "output_type": "pyout",
       "prompt_number": 7,
       "text": [
        "\u23a12\u22c5M                                    \u23a4\n",
        "\u23a2\u2500\u2500\u2500 - 1      0      0          0       \u23a5\n",
        "\u23a2 r                                     \u23a5\n",
        "\u23a2                                       \u23a5\n",
        "\u23a2             1                         \u23a5\n",
        "\u23a2   0     \u2500\u2500\u2500\u2500\u2500\u2500\u2500\u2500\u2500  0          0       \u23a5\n",
        "\u23a2           2\u22c5M                         \u23a5\n",
        "\u23a2         - \u2500\u2500\u2500 + 1                     \u23a5\n",
        "\u23a2            r                          \u23a5\n",
        "\u23a2                                       \u23a5\n",
        "\u23a2                     2                 \u23a5\n",
        "\u23a2   0         0      r          0       \u23a5\n",
        "\u23a2                                       \u23a5\n",
        "\u23a2                         2    2        \u23a5\n",
        "\u23a3   0         0      0   r \u22c5sin (\\theta)\u23a6"
       ]
      }
     ],
     "prompt_number": 7
    },
    {
     "cell_type": "code",
     "collapsed": false,
     "input": [
      "g(All, 4)"
     ],
     "language": "python",
     "metadata": {},
     "outputs": [
      {
       "latex": [
        "$$\\left[\\begin{matrix}0 & 0 & 0 & r^{2} \\sin^{2}{\\left (\\theta \\right )}\\end{matrix}\\right]$$"
       ],
       "metadata": {},
       "output_type": "pyout",
       "prompt_number": 8,
       "text": [
        "\u23a1          2    2        \u23a4\n",
        "\u23a30  0  0  r \u22c5sin (\\theta)\u23a6"
       ]
      }
     ],
     "prompt_number": 8
    },
    {
     "cell_type": "heading",
     "level": 2,
     "metadata": {},
     "source": [
      "Predefined _Tensor_ Classes"
     ]
    },
    {
     "cell_type": "markdown",
     "metadata": {},
     "source": [
      "The GraviPy package contains a number of the _Tensor_ subclasses that can be used to calculate a tensor components. The _Tensor_ subclasses available in the current version of GraviPy package are"
     ]
    },
    {
     "cell_type": "code",
     "collapsed": false,
     "input": [
      "print([cls.__name__ for cls in vars()['Tensor'].__subclasses__()])"
     ],
     "language": "python",
     "metadata": {},
     "outputs": [
      {
       "output_type": "stream",
       "stream": "stdout",
       "text": [
        "['Christoffel', 'Ricci', 'Riemann', 'Einstein', 'Geodesic']\n"
       ]
      }
     ],
     "prompt_number": 9
    },
    {
     "cell_type": "heading",
     "level": 3,
     "metadata": {},
     "source": [
      "The _Christoffel_ symbols"
     ]
    },
    {
     "cell_type": "markdown",
     "metadata": {},
     "source": [
      "The first one is the _Christoffel_ class that represents Christoffel symbols of the first and second kind. (Note that the Christoffel symbols are not tensors) Components of the _Christoffel_ objects are computed from the below formula "
     ]
    },
    {
     "cell_type": "markdown",
     "metadata": {},
     "source": [
      "$$ \\Gamma_{\\rho \\mu \\nu} = g_{\\rho \\sigma}\\Gamma^{\\sigma}_{\\ \\mu \\nu} = \\frac{1}{2}(g_{\\rho \\mu, \\nu} + g_{\\rho \\nu, \\mu} - g_{\\mu \\nu, \\rho})$$\n"
     ]
    },
    {
     "cell_type": "markdown",
     "metadata": {},
     "source": [
      "Let's create an instance of the _Christoffel_ class for the Schwarzschild metric g and compute some components of the object"
     ]
    },
    {
     "cell_type": "code",
     "collapsed": false,
     "input": [
      "Ga = Christoffel('Ga', g)\n",
      "Ga(1, 2, 1)"
     ],
     "language": "python",
     "metadata": {},
     "outputs": [
      {
       "latex": [
        "$$- \\frac{M}{r^{2}}$$"
       ],
       "metadata": {},
       "output_type": "pyout",
       "png": "[encoded data removed]",
       "prompt_number": 10,
       "text": [
        "-M \n",
        "\u2500\u2500\u2500\n",
        "  2\n",
        " r "
       ]
      }
     ],
     "prompt_number": 10
    },
    {
     "cell_type": "markdown",
     "metadata": {},
     "source": [
      "Each component of the _Tensor_ object is computed only once due to memoization procedure implemented in the _Tensor_ class. Computed value of a tensor component is stored in _components_ dictionary (attribute of a _Tensor_ instance) and returned by the next call to the instance."
     ]
    },
    {
     "cell_type": "code",
     "collapsed": false,
     "input": [
      "Ga.components"
     ],
     "language": "python",
     "metadata": {},
     "outputs": [
      {
       "latex": [
        "$$\\begin{Bmatrix}\\begin{pmatrix}1, & 1, & 2\\end{pmatrix} : - \\frac{M}{r^{2}}, & \\begin{pmatrix}1, & 2, & 1\\end{pmatrix} : - \\frac{M}{r^{2}}\\end{Bmatrix}$$"
       ],
       "metadata": {},
       "output_type": "pyout",
       "prompt_number": 11,
       "text": [
        "\u23a7           -M              -M \u23ab\n",
        "\u23aa(1, 1, 2): \u2500\u2500\u2500, (1, 2, 1): \u2500\u2500\u2500\u23aa\n",
        "\u23a8             2               2\u23ac\n",
        "\u23aa            r               r \u23aa\n",
        "\u23a9                              \u23ad"
       ]
      }
     ],
     "prompt_number": 11
    },
    {
     "cell_type": "markdown",
     "metadata": {},
     "source": [
      "The above dictionary consists of two elements because the symmetry of the Christoffel symbols is implemented in the _Christoffel_ class. "
     ]
    },
    {
     "cell_type": "markdown",
     "metadata": {},
     "source": [
      "If necessary, you can clear the _components_ dictionary"
     ]
    },
    {
     "cell_type": "code",
     "collapsed": false,
     "input": [
      "Ga.components = {}\n",
      "Ga.components"
     ],
     "language": "python",
     "metadata": {},
     "outputs": [
      {
       "latex": [
        "$$\\begin{Bmatrix}\\end{Bmatrix}$$"
       ],
       "metadata": {},
       "output_type": "pyout",
       "prompt_number": 12,
       "text": [
        "{}"
       ]
      }
     ],
     "prompt_number": 12
    },
    {
     "cell_type": "markdown",
     "metadata": {},
     "source": [
      "The _Matrix_ representation of the Christoffel symbols is the following"
     ]
    },
    {
     "cell_type": "code",
     "collapsed": false,
     "input": [
      "Ga(All, All, All)"
     ],
     "language": "python",
     "metadata": {},
     "outputs": [
      {
       "latex": [
        "$$\\left[\\begin{matrix}\\left[\\begin{matrix}0 & - \\frac{M}{r^{2}} & 0 & 0\\\\- \\frac{M}{r^{2}} & 0 & 0 & 0\\\\0 & 0 & 0 & 0\\\\0 & 0 & 0 & 0\\end{matrix}\\right] & \\left[\\begin{matrix}\\frac{M}{r^{2}} & 0 & 0 & 0\\\\0 & - \\frac{M}{\\left(2 M - r\\right)^{2}} & 0 & 0\\\\0 & 0 & - r & 0\\\\0 & 0 & 0 & - r \\sin^{2}{\\left (\\theta \\right )}\\end{matrix}\\right] & \\left[\\begin{matrix}0 & 0 & 0 & 0\\\\0 & 0 & r & 0\\\\0 & r & 0 & 0\\\\0 & 0 & 0 & - \\frac{r^{2}}{2} \\sin{\\left (2 \\theta \\right )}\\end{matrix}\\right] & \\left[\\begin{matrix}0 & 0 & 0 & 0\\\\0 & 0 & 0 & r \\sin^{2}{\\left (\\theta \\right )}\\\\0 & 0 & 0 & \\frac{r^{2}}{2} \\sin{\\left (2 \\theta \\right )}\\\\0 & r \\sin^{2}{\\left (\\theta \\right )} & \\frac{r^{2}}{2} \\sin{\\left (2 \\theta \\right )} & 0\\end{matrix}\\right]\\end{matrix}\\right]$$"
       ],
       "metadata": {},
       "output_type": "pyout",
       "prompt_number": 13,
       "text": [
        "\u23a1\u23a1     -M       \u23a4  \u23a1M                                  \u23a4                      \n",
        "\u23a2\u23a2 0   \u2500\u2500\u2500  0  0\u23a5  \u23a2\u2500\u2500      0       0          0       \u23a5  \u23a10  0  0          0 \n",
        "\u23a2\u23a2       2      \u23a5  \u23a2 2                                 \u23a5  \u23a2                   \n",
        "\u23a2\u23a2      r       \u23a5  \u23a2r                                  \u23a5  \u23a20  0  r          0 \n",
        "\u23a2\u23a2              \u23a5  \u23a2                                   \u23a5  \u23a2                   \n",
        "\u23a2\u23a2-M            \u23a5  \u23a2       -M                          \u23a5  \u23a20  r  0          0 \n",
        "\u23a2\u23a2\u2500\u2500\u2500   0   0  0\u23a5  \u23a20   \u2500\u2500\u2500\u2500\u2500\u2500\u2500\u2500\u2500\u2500  0          0       \u23a5  \u23a2                   \n",
        "\u23a2\u23a2  2           \u23a5  \u23a2             2                     \u23a5  \u23a2           2       \n",
        "\u23a2\u23a2 r            \u23a5  \u23a2    (2\u22c5M - r)                      \u23a5  \u23a2         -r \u22c5sin(2\u22c5\n",
        "\u23a2\u23a2              \u23a5  \u23a2                                   \u23a5  \u23a20  0  0  \u2500\u2500\u2500\u2500\u2500\u2500\u2500\u2500\u2500\u2500\n",
        "\u23a2\u23a2 0    0   0  0\u23a5  \u23a20       0       -r         0       \u23a5  \u23a3                 2 \n",
        "\u23a2\u23a2              \u23a5  \u23a2                                   \u23a5                      \n",
        "\u23a2\u23a3 0    0   0  0\u23a6  \u23a2                          2        \u23a5                      \n",
        "\u23a2                  \u23a30       0       0   -r\u22c5sin (\\theta)\u23a6                      \n",
        "\u23a3                                                                             \n",
        "\n",
        "                                                                  \u23a4\n",
        "        \u23a4  \u23a10        0                0                 0        \u23a4\u23a5\n",
        "        \u23a5  \u23a2                                                     \u23a5\u23a5\n",
        "        \u23a5  \u23a2                                           2         \u23a5\u23a5\n",
        "        \u23a5  \u23a20        0                0           r\u22c5sin (\\theta) \u23a5\u23a5\n",
        "        \u23a5  \u23a2                                                     \u23a5\u23a5\n",
        "        \u23a5  \u23a2                                      2              \u23a5\u23a5\n",
        "        \u23a5  \u23a2                                     r \u22c5sin(2\u22c5\\theta)\u23a5\u23a5\n",
        "\\theta) \u23a5  \u23a20        0                0          \u2500\u2500\u2500\u2500\u2500\u2500\u2500\u2500\u2500\u2500\u2500\u2500\u2500\u2500\u2500\u2500\u23a5\u23a5\n",
        "\u2500\u2500\u2500\u2500\u2500\u2500\u2500\u2500\u23a5  \u23a2                                            2        \u23a5\u23a5\n",
        "        \u23a6  \u23a2                                                     \u23a5\u23a5\n",
        "           \u23a2                    2                                \u23a5\u23a5\n",
        "           \u23a2        2          r \u22c5sin(2\u22c5\\theta)                  \u23a5\u23a5\n",
        "           \u23a20  r\u22c5sin (\\theta)  \u2500\u2500\u2500\u2500\u2500\u2500\u2500\u2500\u2500\u2500\u2500\u2500\u2500\u2500\u2500\u2500         0        \u23a5\u23a5\n",
        "           \u23a3                          2                          \u23a6\u23a6"
       ]
      }
     ],
     "prompt_number": 13
    },
    {
     "cell_type": "markdown",
     "metadata": {},
     "source": [
      "You can get help on any of classes mentioned before by running the command"
     ]
    },
    {
     "cell_type": "code",
     "collapsed": false,
     "input": [
      "help(Christoffel)"
     ],
     "language": "python",
     "metadata": {},
     "outputs": [
      {
       "output_type": "stream",
       "stream": "stdout",
       "text": [
        "Help on class Christoffel in module gravipy.tensorial:\n",
        "\n",
        "class Christoffel(Tensor)\n",
        " |  Represents a class of Christoffel symbols of the first and second kind.\n",
        " |  \n",
        " |  Parameters\n",
        " |  ==========\n",
        " |  \n",
        " |  symbol : python string - name of the Christoffel symbol\n",
        " |  metric : GraviPy MtricTensor object\n",
        " |  \n",
        " |  Examples\n",
        " |  ========\n",
        " |  \n",
        " |  Define a Christoffel symbols for the Schwarzschild metric:\n",
        " |  \n",
        " |  >>> from gravipy import *\n",
        " |  >>> t, r, theta, phi = symbols('t, r, \\\\theta, \\phi')\n",
        " |  >>> chi = Coordinates('\\chi', [t, r, theta, phi])\n",
        " |  >>> M = Symbol('M')\n",
        " |  >>> Metric = diag(-(1 - 2 * M / r), 1 / (1 - 2 * M / r), r ** 2,\n",
        " |  ...                  r ** 2 * sin(theta) ** 2)\n",
        " |  >>> g = MetricTensor('g', chi, Metric)\n",
        " |  >>> Ga = Christoffel('Ga', g)\n",
        " |  >>> Ga(-1, 2, 1)\n",
        " |  -M/(r*(2*M - r))\n",
        " |  >>> Ga(2, All, All)\n",
        " |  Matrix([\n",
        " |  [M/r**2,               0,  0,                 0],\n",
        " |  [     0, -M/(2*M - r)**2,  0,                 0],\n",
        " |  [     0,               0, -r,                 0],\n",
        " |  [     0,               0,  0, -r*sin(\\theta)**2]])\n",
        " |  >>> Ga(1, -1, 2) # doctest: +IGNORE_EXCEPTION_DETAIL\n",
        " |  Traceback (most recent call last):\n",
        " |  GraviPyError: \"Tensor component Ga(1, -1, 2) doesn't  exist\"\n",
        " |  \n",
        " |  Method resolution order:\n",
        " |      Christoffel\n",
        " |      Tensor\n",
        " |      GeneralTensor\n",
        " |      __builtin__.object\n",
        " |  \n",
        " |  Methods defined here:\n",
        " |  \n",
        " |  __init__(self, symbol, metric, *args, **kwargs)\n",
        " |  \n",
        " |  ----------------------------------------------------------------------\n",
        " |  Data and other attributes inherited from Tensor:\n",
        " |  \n",
        " |  TensorObjects = [<gravipy.tensorial.Christoffel object>]\n",
        " |  \n",
        " |  ----------------------------------------------------------------------\n",
        " |  Methods inherited from GeneralTensor:\n",
        " |  \n",
        " |  __call__(self, *idxs)\n",
        " |  \n",
        " |  covariantD(self, *idxs)\n",
        " |  \n",
        " |  partialD(self, *idxs)\n",
        " |  \n",
        " |  ----------------------------------------------------------------------\n",
        " |  Static methods inherited from GeneralTensor:\n",
        " |  \n",
        " |  get_nmatrixel(M, idxs)\n",
        " |  \n",
        " |  ----------------------------------------------------------------------\n",
        " |  Data descriptors inherited from GeneralTensor:\n",
        " |  \n",
        " |  __dict__\n",
        " |      dictionary for instance variables (if defined)\n",
        " |  \n",
        " |  __weakref__\n",
        " |      list of weak references to the object (if defined)\n",
        " |  \n",
        " |  ----------------------------------------------------------------------\n",
        " |  Data and other attributes inherited from GeneralTensor:\n",
        " |  \n",
        " |  GeneralTensorObjects = [<gravipy.tensorial.Coordinates object>, <gravi...\n",
        "\n"
       ]
      }
     ],
     "prompt_number": 14
    },
    {
     "cell_type": "markdown",
     "metadata": {},
     "source": [
      "Try also \"_Christoffel?_\" and  \"_Christoffel??_\""
     ]
    },
    {
     "cell_type": "heading",
     "level": 3,
     "metadata": {},
     "source": [
      "The _Ricci_ tensor"
     ]
    },
    {
     "cell_type": "markdown",
     "metadata": {},
     "source": [
      "$$ R_{\\mu \\nu} = \\frac{\\partial \\Gamma^{\\sigma}_{\\ \\mu \\nu}}{\\partial x^{\\sigma}} - \\frac{\\partial \\Gamma^{\\sigma}_{\\ \\mu \\sigma}}{\\partial x^{\\nu}} + \\Gamma^{\\sigma}_{\\ \\mu \\nu}\\Gamma^{\\rho}_{\\ \\sigma \\rho} - \\Gamma^{\\rho}_{\\ \\mu \\sigma}\\Gamma^{\\sigma}_{\\ \\nu \\rho} $$"
     ]
    },
    {
     "cell_type": "code",
     "collapsed": false,
     "input": [
      "Ri = Ricci('Ri', g)\n",
      "Ri(All, All)"
     ],
     "language": "python",
     "metadata": {},
     "outputs": [
      {
       "latex": [
        "$$\\left[\\begin{matrix}0 & 0 & 0 & 0\\\\0 & 0 & 0 & 0\\\\0 & 0 & 0 & 0\\\\0 & 0 & 0 & 0\\end{matrix}\\right]$$"
       ],
       "metadata": {},
       "output_type": "pyout",
       "prompt_number": 15,
       "text": [
        "\u23a10  0  0  0\u23a4\n",
        "\u23a2          \u23a5\n",
        "\u23a20  0  0  0\u23a5\n",
        "\u23a2          \u23a5\n",
        "\u23a20  0  0  0\u23a5\n",
        "\u23a2          \u23a5\n",
        "\u23a30  0  0  0\u23a6"
       ]
      }
     ],
     "prompt_number": 15
    },
    {
     "cell_type": "markdown",
     "metadata": {},
     "source": [
      "Contraction of the _Ricci_ tensor $R = R_{\\mu}^{\\ \\mu} = g^{\\mu \\nu}R_{\\mu \\nu}$"
     ]
    },
    {
     "cell_type": "code",
     "collapsed": false,
     "input": [
      "Ri.scalar()"
     ],
     "language": "python",
     "metadata": {},
     "outputs": [
      {
       "latex": [
        "$$0$$"
       ],
       "metadata": {},
       "output_type": "pyout",
       "png": "[encoded data removed]",
       "prompt_number": 16,
       "text": [
        "0"
       ]
      }
     ],
     "prompt_number": 16
    },
    {
     "cell_type": "heading",
     "level": 3,
     "metadata": {},
     "source": [
      "The _Riemann_ tensor"
     ]
    },
    {
     "cell_type": "markdown",
     "metadata": {},
     "source": [
      "$$ R_{\\mu \\nu \\rho \\sigma} = \\frac{\\partial \\Gamma_{\\mu \\nu \\sigma}}{\\partial x^{\\rho}} - \\frac{\\partial \\Gamma_{\\mu \\nu \\rho}}{\\partial x^{\\sigma}} + \\Gamma^{\\alpha}_{\\ \\nu \\sigma}\\Gamma_{\\mu \\rho \\alpha} - \\Gamma^{\\alpha}_{\\ \\nu \\rho}\\Gamma_{\\mu \\sigma \\alpha} - \\frac{\\partial g_{\\mu \\alpha}}{\\partial x^{\\rho}}\\Gamma^{\\alpha}_{\\ \\nu \\sigma} + \\frac{\\partial g_{\\mu \\alpha}}{\\partial x^{\\sigma}}\\Gamma^{\\alpha}_{\\ \\nu \\rho} $$"
     ]
    },
    {
     "cell_type": "code",
     "collapsed": false,
     "input": [
      "Rm = Riemann('Rm', g)"
     ],
     "language": "python",
     "metadata": {},
     "outputs": [],
     "prompt_number": 17
    },
    {
     "cell_type": "markdown",
     "metadata": {},
     "source": [
      "Some nonzero components of the _Riemann_ tensor are"
     ]
    },
    {
     "cell_type": "code",
     "collapsed": false,
     "input": [
      "from IPython.core.display import display, Math\n",
      "for i, j, k, l in list(variations(range(1, 5), 4, True)):\n",
      "    if Rm(i, j, k, l) != 0 and k<l and i<j:\n",
      "        display(Math('R_{'+str(i)+str(j)+str(k)+str(l)+'} = '+latex(Rm(i, j, k, l))))"
     ],
     "language": "python",
     "metadata": {},
     "outputs": [
      {
       "latex": [
        "$$R_{1212} = - \\frac{2 M}{r^{3}}$$"
       ],
       "metadata": {},
       "output_type": "display_data",
       "text": [
        "<IPython.core.display.Math at 0xbd4bfac>"
       ]
      },
      {
       "latex": [
        "$$R_{1313} = \\frac{M}{r^{2}} \\left(- 2 M + r\\right)$$"
       ],
       "metadata": {},
       "output_type": "display_data",
       "text": [
        "<IPython.core.display.Math at 0xbd51cec>"
       ]
      },
      {
       "latex": [
        "$$R_{1414} = \\frac{M}{r^{2}} \\left(- 2 M + r\\right) \\sin^{2}{\\left (\\theta \\right )}$$"
       ],
       "metadata": {},
       "output_type": "display_data",
       "text": [
        "<IPython.core.display.Math at 0xc06960c>"
       ]
      },
      {
       "latex": [
        "$$R_{2323} = \\frac{M}{2 M - r}$$"
       ],
       "metadata": {},
       "output_type": "display_data",
       "text": [
        "<IPython.core.display.Math at 0xbd4bfac>"
       ]
      },
      {
       "latex": [
        "$$R_{2424} = \\frac{M \\sin^{2}{\\left (\\theta \\right )}}{2 M - r}$$"
       ],
       "metadata": {},
       "output_type": "display_data",
       "text": [
        "<IPython.core.display.Math at 0xbd538ec>"
       ]
      },
      {
       "latex": [
        "$$R_{3434} = 2 M r \\sin^{2}{\\left (\\theta \\right )}$$"
       ],
       "metadata": {},
       "output_type": "display_data",
       "text": [
        "<IPython.core.display.Math at 0xbd85acc>"
       ]
      }
     ],
     "prompt_number": 18
    },
    {
     "cell_type": "markdown",
     "metadata": {},
     "source": [
      "You can also display the matrix representation of the tensor"
     ]
    },
    {
     "cell_type": "code",
     "collapsed": false,
     "input": [
      "# Rm(All, All, All, All)"
     ],
     "language": "python",
     "metadata": {},
     "outputs": [],
     "prompt_number": 19
    },
    {
     "cell_type": "markdown",
     "metadata": {},
     "source": [
      "Contraction of the _Riemann_ tensor $R_{\\mu \\nu} = R^{\\rho}_{\\ \\mu \\rho \\nu} $"
     ]
    },
    {
     "cell_type": "code",
     "collapsed": false,
     "input": [
      "ricci = sum([Rm(i, All, k, All)*g(-i, -k) for i, k in list(variations(range(1, 5), 2, True))], zeros(4))\n",
      "ricci.simplify()\n",
      "ricci"
     ],
     "language": "python",
     "metadata": {},
     "outputs": [
      {
       "latex": [
        "$$\\left[\\begin{matrix}0 & 0 & 0 & 0\\\\0 & 0 & 0 & 0\\\\0 & 0 & 0 & 0\\\\0 & 0 & 0 & 0\\end{matrix}\\right]$$"
       ],
       "metadata": {},
       "output_type": "pyout",
       "prompt_number": 20,
       "text": [
        "\u23a10  0  0  0\u23a4\n",
        "\u23a2          \u23a5\n",
        "\u23a20  0  0  0\u23a5\n",
        "\u23a2          \u23a5\n",
        "\u23a20  0  0  0\u23a5\n",
        "\u23a2          \u23a5\n",
        "\u23a30  0  0  0\u23a6"
       ]
      }
     ],
     "prompt_number": 20
    },
    {
     "cell_type": "heading",
     "level": 3,
     "metadata": {},
     "source": [
      "The _Einstein_ tensor"
     ]
    },
    {
     "cell_type": "markdown",
     "metadata": {},
     "source": [
      "$$ G_{\\mu \\nu} = R_{\\mu \\nu} - \\frac{1}{2}g_{\\mu \\nu}R $$"
     ]
    },
    {
     "cell_type": "code",
     "collapsed": false,
     "input": [
      "G = Einstein('G', Ri)\n",
      "G(All, All)"
     ],
     "language": "python",
     "metadata": {},
     "outputs": [
      {
       "latex": [
        "$$\\left[\\begin{matrix}0 & 0 & 0 & 0\\\\0 & 0 & 0 & 0\\\\0 & 0 & 0 & 0\\\\0 & 0 & 0 & 0\\end{matrix}\\right]$$"
       ],
       "metadata": {},
       "output_type": "pyout",
       "prompt_number": 21,
       "text": [
        "\u23a10  0  0  0\u23a4\n",
        "\u23a2          \u23a5\n",
        "\u23a20  0  0  0\u23a5\n",
        "\u23a2          \u23a5\n",
        "\u23a20  0  0  0\u23a5\n",
        "\u23a2          \u23a5\n",
        "\u23a30  0  0  0\u23a6"
       ]
      }
     ],
     "prompt_number": 21
    },
    {
     "cell_type": "heading",
     "level": 3,
     "metadata": {},
     "source": [
      "_Geodesics_"
     ]
    },
    {
     "cell_type": "markdown",
     "metadata": {},
     "source": [
      "$$ w_{\\mu} = \\frac{Du_{\\mu}}{d\\tau} = \\frac{d^2x_{\\mu}}{d\\tau^2} - \\frac{1}{2}g_{\\rho \\sigma, \\mu} \\frac{dx^{\\rho}}{d\\tau}\\frac{dx^{\\sigma}}{d\\tau} $$"
     ]
    },
    {
     "cell_type": "code",
     "collapsed": false,
     "input": [
      "tau = Symbol('\\\\tau')\n",
      "w = Geodesic('w', g, tau)\n",
      "w(All).transpose()"
     ],
     "language": "python",
     "metadata": {},
     "outputs": [
      {
       "latex": [
        "$$\\left[\\begin{matrix}- \\frac{2 M \\frac{d}{d \\tau} r{\\left (\\tau \\right )}}{r^{2}{\\left (\\tau \\right )}} \\frac{d}{d \\tau} t{\\left (\\tau \\right )} + \\left(\\frac{2 M}{r{\\left (\\tau \\right )}} - 1\\right) \\frac{d^{2}}{d \\tau^{2}}  t{\\left (\\tau \\right )}\\\\\\frac{M \\left(\\frac{d}{d \\tau} t{\\left (\\tau \\right )}\\right)^{2}}{r^{2}{\\left (\\tau \\right )}} - \\frac{M \\left(\\frac{d}{d \\tau} r{\\left (\\tau \\right )}\\right)^{2}}{\\left(- \\frac{2 M}{r{\\left (\\tau \\right )}} + 1\\right)^{2} r^{2}{\\left (\\tau \\right )}} - r{\\left (\\tau \\right )} \\sin^{2}{\\left (\\theta{\\left (\\tau \\right )} \\right )} \\left(\\frac{d}{d \\tau} \\phi{\\left (\\tau \\right )}\\right)^{2} - r{\\left (\\tau \\right )} \\left(\\frac{d}{d \\tau} \\theta{\\left (\\tau \\right )}\\right)^{2} + \\frac{\\frac{d^{2}}{d \\tau^{2}}  r{\\left (\\tau \\right )}}{- \\frac{2 M}{r{\\left (\\tau \\right )}} + 1}\\\\- r^{2}{\\left (\\tau \\right )} \\sin{\\left (\\theta{\\left (\\tau \\right )} \\right )} \\cos{\\left (\\theta{\\left (\\tau \\right )} \\right )} \\left(\\frac{d}{d \\tau} \\phi{\\left (\\tau \\right )}\\right)^{2} + r^{2}{\\left (\\tau \\right )} \\frac{d^{2}}{d \\tau^{2}}  \\theta{\\left (\\tau \\right )} + 2 r{\\left (\\tau \\right )} \\frac{d}{d \\tau} \\theta{\\left (\\tau \\right )} \\frac{d}{d \\tau} r{\\left (\\tau \\right )}\\\\r^{2}{\\left (\\tau \\right )} \\sin^{2}{\\left (\\theta{\\left (\\tau \\right )} \\right )} \\frac{d^{2}}{d \\tau^{2}}  \\phi{\\left (\\tau \\right )} + 2 r^{2}{\\left (\\tau \\right )} \\sin{\\left (\\theta{\\left (\\tau \\right )} \\right )} \\cos{\\left (\\theta{\\left (\\tau \\right )} \\right )} \\frac{d}{d \\tau} \\phi{\\left (\\tau \\right )} \\frac{d}{d \\tau} \\theta{\\left (\\tau \\right )} + 2 r{\\left (\\tau \\right )} \\sin^{2}{\\left (\\theta{\\left (\\tau \\right )} \\right )} \\frac{d}{d \\tau} \\phi{\\left (\\tau \\right )} \\frac{d}{d \\tau} r{\\left (\\tau \\right )}\\end{matrix}\\right]$$"
       ],
       "metadata": {},
       "output_type": "pyout",
       "prompt_number": 22,
       "text": [
        "\u23a1                                                                         d   \n",
        "\u23a2                                                                   2\u22c5M\u22c5\u2500\u2500\u2500\u2500\u2500(\n",
        "\u23a2                                                                       d\\tau \n",
        "\u23a2                                                                 - \u2500\u2500\u2500\u2500\u2500\u2500\u2500\u2500\u2500\u2500\n",
        "\u23a2                                                                             \n",
        "\u23a2                                                                             \n",
        "\u23a2                                                                             \n",
        "\u23a2                                                                             \n",
        "\u23a2                                          2                        2         \n",
        "\u23a2                          \u239b  d           \u239e         \u239b  d           \u239e          \n",
        "\u23a2                        M\u22c5\u239c\u2500\u2500\u2500\u2500\u2500(t(\\tau))\u239f       M\u22c5\u239c\u2500\u2500\u2500\u2500\u2500(r(\\tau))\u239f          \n",
        "\u23a2                          \u239dd\\tau         \u23a0         \u239dd\\tau         \u23a0          \n",
        "\u23a2                        \u2500\u2500\u2500\u2500\u2500\u2500\u2500\u2500\u2500\u2500\u2500\u2500\u2500\u2500\u2500\u2500\u2500\u2500\u2500 - \u2500\u2500\u2500\u2500\u2500\u2500\u2500\u2500\u2500\u2500\u2500\u2500\u2500\u2500\u2500\u2500\u2500\u2500\u2500\u2500\u2500\u2500\u2500\u2500\u2500 - r(\\\n",
        "\u23a2                               2                             2               \n",
        "\u23a2                              r (\\tau)        \u239b    2\u22c5M      \u239e   2            \n",
        "\u23a2                                              \u239c- \u2500\u2500\u2500\u2500\u2500\u2500\u2500 + 1\u239f \u22c5r (\\tau)      \n",
        "\u23a2                                              \u239d  r(\\tau)    \u23a0                \n",
        "\u23a2                                                                             \n",
        "\u23a2                                                                             \n",
        "\u23a2                            2                                           \u239b  d \n",
        "\u23a2                         - r (\\tau)\u22c5sin(\\theta(\\tau))\u22c5cos(\\theta(\\tau))\u22c5\u239c\u2500\u2500\u2500\u2500\n",
        "\u23a2                                                                        \u239dd\\ta\n",
        "\u23a2                                                                             \n",
        "\u23a2                                                                             \n",
        "\u23a2                               2                                             \n",
        "\u23a2 2          2                 d                     2                        \n",
        "\u23a2r (\\tau)\u22c5sin (\\theta(\\tau))\u22c5\u2500\u2500\u2500\u2500\u2500\u2500(\\phi(\\tau)) + 2\u22c5r (\\tau)\u22c5sin(\\theta(\\tau))\n",
        "\u23a2                                 2                                           \n",
        "\u23a3                            d\\tau                                            \n",
        "\n",
        "           d                                                                  \n",
        "r(\\tau))\u22c5\u2500\u2500\u2500\u2500\u2500(t(\\tau))                    2                                  \n",
        "         d\\tau            \u239b  2\u22c5M      \u239e   d                                   \n",
        "\u2500\u2500\u2500\u2500\u2500\u2500\u2500\u2500\u2500\u2500\u2500\u2500\u2500\u2500\u2500\u2500\u2500\u2500\u2500\u2500\u2500\u2500\u2500 + \u239c\u2500\u2500\u2500\u2500\u2500\u2500\u2500 - 1\u239f\u22c5\u2500\u2500\u2500\u2500\u2500\u2500(t(\\tau))                       \n",
        "    2                     \u239dr(\\tau)    \u23a0      2                                \n",
        "   r (\\tau)                             d\\tau                                 \n",
        "                                                                              \n",
        "                                                                              \n",
        "                                                                              \n",
        "                                                                              \n",
        "                                           2                                2 \n",
        "        2               \u239b  d              \u239e            \u239b  d                \u239e  \n",
        "tau)\u22c5sin (\\theta(\\tau))\u22c5\u239c\u2500\u2500\u2500\u2500\u2500(\\phi(\\tau))\u239f  - r(\\tau)\u22c5\u239c\u2500\u2500\u2500\u2500\u2500(\\theta(\\tau))\u239f  \n",
        "                        \u239dd\\tau            \u23a0            \u239dd\\tau              \u23a0  \n",
        "                                                                              \n",
        "                                                                              \n",
        "                                                                              \n",
        "                                                                              \n",
        "              2               2                                               \n",
        "             \u239e     2         d                                d               \n",
        "\u2500(\\phi(\\tau))\u239f  + r (\\tau)\u22c5\u2500\u2500\u2500\u2500\u2500\u2500(\\theta(\\tau)) + 2\u22c5r(\\tau)\u22c5\u2500\u2500\u2500\u2500\u2500(\\theta(\\tau)\n",
        "u            \u23a0                  2                           d\\tau             \n",
        "                           d\\tau                                              \n",
        "                                                                              \n",
        "                                                                              \n",
        "                     d                 d                                2     \n",
        "\u22c5cos(\\theta(\\tau))\u22c5\u2500\u2500\u2500\u2500\u2500(\\phi(\\tau))\u22c5\u2500\u2500\u2500\u2500\u2500(\\theta(\\tau)) + 2\u22c5r(\\tau)\u22c5sin (\\the\n",
        "                   d\\tau             d\\tau                                    \n",
        "                                                                              \n",
        "\n",
        "                                          \u23a4\n",
        "                                          \u23a5\n",
        "                                          \u23a5\n",
        "                                          \u23a5\n",
        "                                          \u23a5\n",
        "                                          \u23a5\n",
        "                                          \u23a5\n",
        "     2                                    \u23a5\n",
        "    d                                     \u23a5\n",
        "  \u2500\u2500\u2500\u2500\u2500\u2500(r(\\tau))                         \u23a5\n",
        "       2                                  \u23a5\n",
        "  d\\tau                                   \u23a5\n",
        "+ \u2500\u2500\u2500\u2500\u2500\u2500\u2500\u2500\u2500\u2500\u2500\u2500\u2500\u2500\u2500                         \u23a5\n",
        "       2\u22c5M                                \u23a5\n",
        "   - \u2500\u2500\u2500\u2500\u2500\u2500\u2500 + 1                          \u23a5\n",
        "     r(\\tau)                              \u23a5\n",
        "                                          \u23a5\n",
        "                                          \u23a5\n",
        "                                          \u23a5\n",
        "    d                                     \u23a5\n",
        ")\u22c5\u2500\u2500\u2500\u2500\u2500(r(\\tau))                          \u23a5\n",
        "  d\\tau                                   \u23a5\n",
        "                                          \u23a5\n",
        "                                          \u23a5\n",
        "                                          \u23a5\n",
        "            d                 d           \u23a5\n",
        "ta(\\tau))\u22c5\u2500\u2500\u2500\u2500\u2500(\\phi(\\tau))\u22c5\u2500\u2500\u2500\u2500\u2500(r(\\tau))\u23a5\n",
        "          d\\tau             d\\tau         \u23a5\n",
        "                                          \u23a6"
       ]
      }
     ],
     "prompt_number": 22
    },
    {
     "cell_type": "markdown",
     "metadata": {},
     "source": [
      "Please note that instantiation of a _Geodesic_ class for the metric $g$ automatically turns on a _Parametrization_ mode for the metric $g$.  \n",
      "Then all coordinates are functions of a world line parameter $\\tau$"
     ]
    },
    {
     "cell_type": "code",
     "collapsed": false,
     "input": [
      "Parametrization.info()"
     ],
     "language": "python",
     "metadata": {},
     "outputs": [
      {
       "latex": [
        "$$\\begin{bmatrix}\\begin{bmatrix}\\chi, & \\tau\\end{bmatrix}\\end{bmatrix}$$"
       ],
       "metadata": {},
       "output_type": "pyout",
       "prompt_number": 23,
       "text": [
        "[[\\chi, \\tau]]"
       ]
      }
     ],
     "prompt_number": 23
    },
    {
     "cell_type": "code",
     "collapsed": false,
     "input": [
      "x(-All)"
     ],
     "language": "python",
     "metadata": {},
     "outputs": [
      {
       "latex": [
        "$$\\left[\\begin{matrix}t{\\left (\\tau \\right )} & r{\\left (\\tau \\right )} & \\theta{\\left (\\tau \\right )} & \\phi{\\left (\\tau \\right )}\\end{matrix}\\right]$$"
       ],
       "metadata": {},
       "output_type": "pyout",
       "prompt_number": 24,
       "text": [
        "[t(\\tau)  r(\\tau)  \\theta(\\tau)  \\phi(\\tau)]"
       ]
      }
     ],
     "prompt_number": 24
    },
    {
     "cell_type": "code",
     "collapsed": false,
     "input": [
      "g(All, All)"
     ],
     "language": "python",
     "metadata": {},
     "outputs": [
      {
       "latex": [
        "$$\\left[\\begin{matrix}\\frac{2 M}{r{\\left (\\tau \\right )}} - 1 & 0 & 0 & 0\\\\0 & \\frac{1}{- \\frac{2 M}{r{\\left (\\tau \\right )}} + 1} & 0 & 0\\\\0 & 0 & r^{2}{\\left (\\tau \\right )} & 0\\\\0 & 0 & 0 & r^{2}{\\left (\\tau \\right )} \\sin^{2}{\\left (\\theta{\\left (\\tau \\right )} \\right )}\\end{matrix}\\right]$$"
       ],
       "metadata": {},
       "output_type": "pyout",
       "prompt_number": 25,
       "text": [
        "\u23a1  2\u22c5M                                                            \u23a4\n",
        "\u23a2\u2500\u2500\u2500\u2500\u2500\u2500\u2500 - 1        0           0                   0             \u23a5\n",
        "\u23a2r(\\tau)                                                          \u23a5\n",
        "\u23a2                                                                 \u23a5\n",
        "\u23a2                   1                                             \u23a5\n",
        "\u23a2     0       \u2500\u2500\u2500\u2500\u2500\u2500\u2500\u2500\u2500\u2500\u2500\u2500\u2500     0                   0             \u23a5\n",
        "\u23a2                 2\u22c5M                                             \u23a5\n",
        "\u23a2             - \u2500\u2500\u2500\u2500\u2500\u2500\u2500 + 1                                       \u23a5\n",
        "\u23a2               r(\\tau)                                           \u23a5\n",
        "\u23a2                                                                 \u23a5\n",
        "\u23a2                             2                                   \u23a5\n",
        "\u23a2     0             0        r (\\tau)               0             \u23a5\n",
        "\u23a2                                                                 \u23a5\n",
        "\u23a2                                       2          2              \u23a5\n",
        "\u23a3     0             0           0      r (\\tau)\u22c5sin (\\theta(\\tau))\u23a6"
       ]
      }
     ],
     "prompt_number": 25
    },
    {
     "cell_type": "markdown",
     "metadata": {},
     "source": [
      "_Parametrization_ mode can be deactivated by typing"
     ]
    },
    {
     "cell_type": "code",
     "collapsed": false,
     "input": [
      "Parametrization.deactivate(x)\n",
      "Parametrization.info()"
     ],
     "language": "python",
     "metadata": {},
     "outputs": [
      {
       "output_type": "stream",
       "stream": "stdout",
       "text": [
        "No parametrization activated\n"
       ]
      }
     ],
     "prompt_number": 26
    },
    {
     "cell_type": "code",
     "collapsed": false,
     "input": [
      "x(-All)"
     ],
     "language": "python",
     "metadata": {},
     "outputs": [
      {
       "latex": [
        "$$\\left[\\begin{matrix}t & r & \\theta & \\phi\\end{matrix}\\right]$$"
       ],
       "metadata": {},
       "output_type": "pyout",
       "prompt_number": 27,
       "text": [
        "[t  r  \\theta  \\phi]"
       ]
      }
     ],
     "prompt_number": 27
    },
    {
     "cell_type": "code",
     "collapsed": false,
     "input": [
      "g(All, All)"
     ],
     "language": "python",
     "metadata": {},
     "outputs": [
      {
       "latex": [
        "$$\\left[\\begin{matrix}\\frac{2 M}{r} - 1 & 0 & 0 & 0\\\\0 & \\frac{1}{- \\frac{2 M}{r} + 1} & 0 & 0\\\\0 & 0 & r^{2} & 0\\\\0 & 0 & 0 & r^{2} \\sin^{2}{\\left (\\theta \\right )}\\end{matrix}\\right]$$"
       ],
       "metadata": {},
       "output_type": "pyout",
       "prompt_number": 28,
       "text": [
        "\u23a12\u22c5M                                    \u23a4\n",
        "\u23a2\u2500\u2500\u2500 - 1      0      0          0       \u23a5\n",
        "\u23a2 r                                     \u23a5\n",
        "\u23a2                                       \u23a5\n",
        "\u23a2             1                         \u23a5\n",
        "\u23a2   0     \u2500\u2500\u2500\u2500\u2500\u2500\u2500\u2500\u2500  0          0       \u23a5\n",
        "\u23a2           2\u22c5M                         \u23a5\n",
        "\u23a2         - \u2500\u2500\u2500 + 1                     \u23a5\n",
        "\u23a2            r                          \u23a5\n",
        "\u23a2                                       \u23a5\n",
        "\u23a2                     2                 \u23a5\n",
        "\u23a2   0         0      r          0       \u23a5\n",
        "\u23a2                                       \u23a5\n",
        "\u23a2                         2    2        \u23a5\n",
        "\u23a3   0         0      0   r \u22c5sin (\\theta)\u23a6"
       ]
      }
     ],
     "prompt_number": 28
    },
    {
     "cell_type": "heading",
     "level": 2,
     "metadata": {},
     "source": [
      "Derivatives"
     ]
    },
    {
     "cell_type": "heading",
     "level": 3,
     "metadata": {},
     "source": [
      "Partial derivative"
     ]
    },
    {
     "cell_type": "markdown",
     "metadata": {},
     "source": [
      "All instances of a _GeneralTensor_ subclasses inherits _partialD_ method which works exactly the same way as SymPy _diff_ method."
     ]
    },
    {
     "cell_type": "code",
     "collapsed": false,
     "input": [
      "T = Tensor('T', 2, g)\n",
      "T(1, 2)"
     ],
     "language": "python",
     "metadata": {},
     "outputs": [
      {
       "latex": [
        "$$\\operatorname{T(1, 2)}{\\left (t,r,\\theta,\\phi \\right )}$$"
       ],
       "metadata": {},
       "output_type": "pyout",
       "png": "[encoded data removed]",
       "prompt_number": 29,
       "text": [
        "T(1, 2)(t, r, \\theta, \\phi)"
       ]
      }
     ],
     "prompt_number": 29
    },
    {
     "cell_type": "code",
     "collapsed": false,
     "input": [
      "T.partialD(1, 2, 1, 3) # The first two indices belongs to second rank tensor T"
     ],
     "language": "python",
     "metadata": {},
     "outputs": [
      {
       "latex": [
        "$$\\frac{\\partial^{2}}{\\partial \\theta\\partial t}  \\operatorname{T(1, 2)}{\\left (t,r,\\theta,\\phi \\right )}$$"
       ],
       "metadata": {},
       "output_type": "pyout",
       "png": "[encoded data removed]",
       "prompt_number": 30,
       "text": [
        "     2                                 \n",
        "    \u2202                                  \n",
        "\u2500\u2500\u2500\u2500\u2500\u2500\u2500\u2500\u2500\u2500(T(1, 2)(t, r, \\theta, \\phi))\n",
        "\u2202t \u2202\\theta                             "
       ]
      }
     ],
     "prompt_number": 30
    },
    {
     "cell_type": "code",
     "collapsed": false,
     "input": [
      "T(1, 2).diff(x(-1), x(-3))"
     ],
     "language": "python",
     "metadata": {},
     "outputs": [
      {
       "latex": [
        "$$\\frac{\\partial^{2}}{\\partial \\theta\\partial t}  \\operatorname{T(1, 2)}{\\left (t,r,\\theta,\\phi \\right )}$$"
       ],
       "metadata": {},
       "output_type": "pyout",
       "png": "[encoded data removed]",
       "prompt_number": 31,
       "text": [
        "     2                                 \n",
        "    \u2202                                  \n",
        "\u2500\u2500\u2500\u2500\u2500\u2500\u2500\u2500\u2500\u2500(T(1, 2)(t, r, \\theta, \\phi))\n",
        "\u2202t \u2202\\theta                             "
       ]
      }
     ],
     "prompt_number": 31
    },
    {
     "cell_type": "markdown",
     "metadata": {},
     "source": [
      "The only difference is that computed value of _partialD_ is saved in  \"_partial_derivative_components_\" dictionary an then returned by the next call to the _partialD_ method."
     ]
    },
    {
     "cell_type": "code",
     "collapsed": false,
     "input": [
      "T.partial_derivative_components"
     ],
     "language": "python",
     "metadata": {},
     "outputs": [
      {
       "latex": [
        "$$\\begin{Bmatrix}\\begin{pmatrix}1, & 2, & 1, & 3\\end{pmatrix} : \\frac{\\partial^{2}}{\\partial \\theta\\partial t}  \\operatorname{T(1, 2)}{\\left (t,r,\\theta,\\phi \\right )}\\end{Bmatrix}$$"
       ],
       "metadata": {},
       "output_type": "pyout",
       "prompt_number": 32,
       "text": [
        "\u23a7                   2                                 \u23ab\n",
        "\u23aa                  \u2202                                  \u23aa\n",
        "\u23a8(1, 2, 1, 3): \u2500\u2500\u2500\u2500\u2500\u2500\u2500\u2500\u2500\u2500(T(1, 2)(t, r, \\theta, \\phi))\u23ac\n",
        "\u23aa              \u2202t \u2202\\theta                             \u23aa\n",
        "\u23a9                                                     \u23ad"
       ]
      }
     ],
     "prompt_number": 32
    },
    {
     "cell_type": "heading",
     "level": 3,
     "metadata": {},
     "source": [
      "Covariant derivative"
     ]
    },
    {
     "cell_type": "markdown",
     "metadata": {},
     "source": [
      "Covariant derivative components of the tensor ___T___  can be computed by the covariantD method from the formula"
     ]
    },
    {
     "cell_type": "markdown",
     "metadata": {},
     "source": [
      "$$ \\nabla_{\\sigma} T_{\\mu}^{\\ \\nu} = T_{\\mu \\ ;\\sigma}^{\\ \\nu} = \\frac{\\partial T_{\\mu}^{\\ \\nu}}{\\partial x^{\\sigma}} - \\Gamma^{\\rho}_{\\ \\mu \\sigma}T_{\\rho}^{\\ \\nu} + \\Gamma^{\\nu}_{\\ \\rho \\sigma}T_{\\mu}^{\\ \\rho}$$"
     ]
    },
    {
     "cell_type": "markdown",
     "metadata": {},
     "source": [
      "Let's compute some covariant derivatives of a scalar field C"
     ]
    },
    {
     "cell_type": "code",
     "collapsed": false,
     "input": [
      "C = Tensor('C', 0, g)\n",
      "C()"
     ],
     "language": "python",
     "metadata": {},
     "outputs": [
      {
       "latex": [
        "$$C{\\left (t,r,\\theta,\\phi \\right )}$$"
       ],
       "metadata": {},
       "output_type": "pyout",
       "png": "[encoded data removed]",
       "prompt_number": 33,
       "text": [
        "C(t, r, \\theta, \\phi)"
       ]
      }
     ],
     "prompt_number": 33
    },
    {
     "cell_type": "code",
     "collapsed": false,
     "input": [
      "C.covariantD(1)"
     ],
     "language": "python",
     "metadata": {},
     "outputs": [
      {
       "latex": [
        "$$\\frac{\\partial}{\\partial t} C{\\left (t,r,\\theta,\\phi \\right )}$$"
       ],
       "metadata": {},
       "output_type": "pyout",
       "png": "[encoded data removed]",
       "prompt_number": 34,
       "text": [
        "\u2202                        \n",
        "\u2500\u2500(C(t, r, \\theta, \\phi))\n",
        "\u2202t                       "
       ]
      }
     ],
     "prompt_number": 34
    },
    {
     "cell_type": "code",
     "collapsed": false,
     "input": [
      "C.covariantD(2, 3)"
     ],
     "language": "python",
     "metadata": {},
     "outputs": [
      {
       "latex": [
        "$$\\frac{1}{r} \\left(r \\frac{\\partial^{2}}{\\partial \\theta\\partial r}  C{\\left (t,r,\\theta,\\phi \\right )} - \\frac{\\partial}{\\partial \\theta} C{\\left (t,r,\\theta,\\phi \\right )}\\right)$$"
       ],
       "metadata": {},
       "output_type": "pyout",
       "png": "[encoded data removed]",
       "prompt_number": 35,
       "text": [
        "       2                                                            \n",
        "      \u2202                                  \u2202                          \n",
        "r\u22c5\u2500\u2500\u2500\u2500\u2500\u2500\u2500\u2500\u2500\u2500(C(t, r, \\theta, \\phi)) - \u2500\u2500\u2500\u2500\u2500\u2500\u2500(C(t, r, \\theta, \\phi))\n",
        "  \u2202r \u2202\\theta                          \u2202\\theta                       \n",
        "\u2500\u2500\u2500\u2500\u2500\u2500\u2500\u2500\u2500\u2500\u2500\u2500\u2500\u2500\u2500\u2500\u2500\u2500\u2500\u2500\u2500\u2500\u2500\u2500\u2500\u2500\u2500\u2500\u2500\u2500\u2500\u2500\u2500\u2500\u2500\u2500\u2500\u2500\u2500\u2500\u2500\u2500\u2500\u2500\u2500\u2500\u2500\u2500\u2500\u2500\u2500\u2500\u2500\u2500\u2500\u2500\u2500\u2500\u2500\u2500\u2500\u2500\u2500\u2500\u2500\u2500\u2500\u2500\n",
        "                                 r                                  "
       ]
      }
     ],
     "prompt_number": 35
    },
    {
     "cell_type": "markdown",
     "metadata": {},
     "source": [
      "All _covariantD_ components of every _Tensor_ object are also memoized"
     ]
    },
    {
     "cell_type": "code",
     "collapsed": false,
     "input": [
      "C.covariant_derivative_components"
     ],
     "language": "python",
     "metadata": {},
     "outputs": [
      {
       "latex": [
        "$$\\begin{Bmatrix}\\begin{pmatrix}1\\end{pmatrix} : \\frac{\\partial}{\\partial t} C{\\left (t,r,\\theta,\\phi \\right )}, & \\begin{pmatrix}2\\end{pmatrix} : \\frac{\\partial}{\\partial r} C{\\left (t,r,\\theta,\\phi \\right )}, & \\begin{pmatrix}3\\end{pmatrix} : \\frac{\\partial}{\\partial \\theta} C{\\left (t,r,\\theta,\\phi \\right )}, & \\begin{pmatrix}4\\end{pmatrix} : \\frac{\\partial}{\\partial \\phi} C{\\left (t,r,\\theta,\\phi \\right )}, & \\begin{pmatrix}2, & 3\\end{pmatrix} : \\frac{1}{r} \\left(r \\frac{\\partial^{2}}{\\partial \\theta\\partial r}  C{\\left (t,r,\\theta,\\phi \\right )} - \\frac{\\partial}{\\partial \\theta} C{\\left (t,r,\\theta,\\phi \\right )}\\right)\\end{Bmatrix}$$"
       ],
       "metadata": {},
       "output_type": "pyout",
       "prompt_number": 36,
       "text": [
        "\u23a7                                                                             \n",
        "\u23aa                                                                             \n",
        "\u23aa                                                                             \n",
        "\u23a8      \u2202                                \u2202                                   \u2202 \n",
        "\u23aa(1,): \u2500\u2500(C(t, r, \\theta, \\phi)), (2,): \u2500\u2500(C(t, r, \\theta, \\phi)), (3,): \u2500\u2500\u2500\u2500\u2500\n",
        "\u23aa      \u2202t                               \u2202r                               \u2202\\the\n",
        "\u23a9                                                                             \n",
        "\n",
        "                                                                              \n",
        "                                                                             \u2202\n",
        "                                                                       r\u22c5\u2500\u2500\u2500\u2500\u2500\n",
        "                                   \u2202                                     \u2202r \u2202\\\n",
        "\u2500\u2500(C(t, r, \\theta, \\phi)), (4,): \u2500\u2500\u2500\u2500\u2500(C(t, r, \\theta, \\phi)), (2, 3): \u2500\u2500\u2500\u2500\u2500\u2500\u2500\n",
        "ta                               \u2202\\phi                                        \n",
        "                                                                              \n",
        "\n",
        "2                                                            \u23ab\n",
        "                                  \u2202                          \u23aa\n",
        "\u2500\u2500\u2500\u2500\u2500(C(t, r, \\theta, \\phi)) - \u2500\u2500\u2500\u2500\u2500\u2500\u2500(C(t, r, \\theta, \\phi))\u23aa\n",
        "theta                          \u2202\\theta                       \u23ac\n",
        "\u2500\u2500\u2500\u2500\u2500\u2500\u2500\u2500\u2500\u2500\u2500\u2500\u2500\u2500\u2500\u2500\u2500\u2500\u2500\u2500\u2500\u2500\u2500\u2500\u2500\u2500\u2500\u2500\u2500\u2500\u2500\u2500\u2500\u2500\u2500\u2500\u2500\u2500\u2500\u2500\u2500\u2500\u2500\u2500\u2500\u2500\u2500\u2500\u2500\u2500\u2500\u2500\u2500\u2500\u2500\u2500\u2500\u2500\u2500\u2500\u2500\u23aa\n",
        "                          r                                  \u23aa\n",
        "                                                             \u23ad"
       ]
      }
     ],
     "prompt_number": 36
    },
    {
     "cell_type": "code",
     "collapsed": false,
     "input": [
      "C.covariantD(1, 2, 3)"
     ],
     "language": "python",
     "metadata": {},
     "outputs": [
      {
       "latex": [
        "$$\\frac{1}{r \\left(2 M - r\\right)} \\left(M \\frac{\\partial^{2}}{\\partial \\theta\\partial t}  C{\\left (t,r,\\theta,\\phi \\right )} + r \\left(2 M - r\\right) \\frac{\\partial^{3}}{\\partial \\theta\\partial r\\partial t}  C{\\left (t,r,\\theta,\\phi \\right )} - \\left(2 M - r\\right) \\frac{\\partial^{2}}{\\partial \\theta\\partial t}  C{\\left (t,r,\\theta,\\phi \\right )}\\right)$$"
       ],
       "metadata": {},
       "output_type": "pyout",
       "png": "[encoded data removed]",
       "prompt_number": 37,
       "text": [
        "       2                                                 3                    \n",
        "      \u2202                                                 \u2202                     \n",
        "M\u22c5\u2500\u2500\u2500\u2500\u2500\u2500\u2500\u2500\u2500\u2500(C(t, r, \\theta, \\phi)) + r\u22c5(2\u22c5M - r)\u22c5\u2500\u2500\u2500\u2500\u2500\u2500\u2500\u2500\u2500\u2500\u2500\u2500\u2500(C(t, r, \\theta\n",
        "  \u2202t \u2202\\theta                                      \u2202t \u2202r \u2202\\theta               \n",
        "\u2500\u2500\u2500\u2500\u2500\u2500\u2500\u2500\u2500\u2500\u2500\u2500\u2500\u2500\u2500\u2500\u2500\u2500\u2500\u2500\u2500\u2500\u2500\u2500\u2500\u2500\u2500\u2500\u2500\u2500\u2500\u2500\u2500\u2500\u2500\u2500\u2500\u2500\u2500\u2500\u2500\u2500\u2500\u2500\u2500\u2500\u2500\u2500\u2500\u2500\u2500\u2500\u2500\u2500\u2500\u2500\u2500\u2500\u2500\u2500\u2500\u2500\u2500\u2500\u2500\u2500\u2500\u2500\u2500\u2500\u2500\u2500\u2500\u2500\u2500\u2500\u2500\u2500\n",
        "                                                            r\u22c5(2\u22c5M - r)       \n",
        "\n",
        "                          2                           \n",
        "                         \u2202                            \n",
        ", \\phi)) - (2\u22c5M - r)\u22c5\u2500\u2500\u2500\u2500\u2500\u2500\u2500\u2500\u2500\u2500(C(t, r, \\theta, \\phi))\n",
        "                     \u2202t \u2202\\theta                       \n",
        "\u2500\u2500\u2500\u2500\u2500\u2500\u2500\u2500\u2500\u2500\u2500\u2500\u2500\u2500\u2500\u2500\u2500\u2500\u2500\u2500\u2500\u2500\u2500\u2500\u2500\u2500\u2500\u2500\u2500\u2500\u2500\u2500\u2500\u2500\u2500\u2500\u2500\u2500\u2500\u2500\u2500\u2500\u2500\u2500\u2500\u2500\u2500\u2500\u2500\u2500\u2500\u2500\u2500\u2500\n",
        "                                                      "
       ]
      }
     ],
     "prompt_number": 37
    },
    {
     "cell_type": "markdown",
     "metadata": {},
     "source": [
      "Proof that the covariant derivative of the metric tensor $g$ is zero"
     ]
    },
    {
     "cell_type": "code",
     "collapsed": false,
     "input": [
      "not any([g.covariantD(i, j, k).simplify() for i, j, k in list(variations(range(1, 5), 3, True))])"
     ],
     "language": "python",
     "metadata": {},
     "outputs": [
      {
       "metadata": {},
       "output_type": "pyout",
       "prompt_number": 38,
       "text": [
        "True"
       ]
      }
     ],
     "prompt_number": 38
    },
    {
     "cell_type": "markdown",
     "metadata": {},
     "source": [
      "Bianchi identity in the Schwarzschild spacetime"
     ]
    },
    {
     "cell_type": "markdown",
     "metadata": {},
     "source": [
      "$$ R_{\\mu \\nu \\sigma \\rho ;\\gamma} + R_{\\mu \\nu \\gamma \\sigma ;\\rho} + R_{\\mu \\nu \\rho \\gamma ;\\sigma} = 0$$"
     ]
    },
    {
     "cell_type": "code",
     "collapsed": false,
     "input": [
      "not any([(Rm.covariantD(i, j, k, l, m) + Rm.covariantD(i, j, m, k, l) + Rm.covariantD(i, j, l, m, k)).simplify() \\\n",
      " for i, j, k, l, m in list(variations(range(1, 5), 5, True))])"
     ],
     "language": "python",
     "metadata": {},
     "outputs": [
      {
       "metadata": {},
       "output_type": "pyout",
       "prompt_number": 39,
       "text": [
        "True"
       ]
      }
     ],
     "prompt_number": 39
    },
    {
     "cell_type": "heading",
     "level": 2,
     "metadata": {},
     "source": [
      "User-defined tensors"
     ]
    },
    {
     "cell_type": "markdown",
     "metadata": {},
     "source": [
      "To define a new scalar/vector/tensor field in some space you should __extend__ the _Tensor_ class or __create an instance__ of the _Tensor_ class."
     ]
    },
    {
     "cell_type": "heading",
     "level": 3,
     "metadata": {},
     "source": [
      "_Tensor_ class instantiation"
     ]
    },
    {
     "cell_type": "markdown",
     "metadata": {},
     "source": [
      "Let's create a third-rank tensor field living in the Schwarzshild spacetime as an instance of the _Tensor_ class"
     ]
    },
    {
     "cell_type": "code",
     "collapsed": false,
     "input": [
      "S = Tensor('S', 3, g)"
     ],
     "language": "python",
     "metadata": {},
     "outputs": [],
     "prompt_number": 40
    },
    {
     "cell_type": "markdown",
     "metadata": {},
     "source": [
      "Until you define (override) the _\\_compute\\_covariant\\_component_ method of the __S__ object, all of $4^3$ components are arbitrary functions of coordinates "
     ]
    },
    {
     "cell_type": "code",
     "collapsed": false,
     "input": [
      "S(1, 2, 3)"
     ],
     "language": "python",
     "metadata": {},
     "outputs": [
      {
       "latex": [
        "$$\\operatorname{S(1, 2, 3)}{\\left (t,r,\\theta,\\phi \\right )}$$"
       ],
       "metadata": {},
       "output_type": "pyout",
       "png": "[encoded data removed]",
       "prompt_number": 41,
       "text": [
        "S(1, 2, 3)(t, r, \\theta, \\phi)"
       ]
      }
     ],
     "prompt_number": 41
    },
    {
     "cell_type": "code",
     "collapsed": false,
     "input": [
      "source(T._compute_covariant_component)"
     ],
     "language": "python",
     "metadata": {},
     "outputs": [
      {
       "output_type": "stream",
       "stream": "stdout",
       "text": [
        "In file: /usr/local/lib/python2.7/dist-packages/gravipy/tensorial.py\n",
        "    def _compute_covariant_component(self, idxs):\n",
        "        if len(idxs) == 0:\n",
        "            component = Function(str(self.symbol))(*self.coords.c)\n",
        "        elif len(idxs) == 1:\n",
        "            component = Function(str(self.symbol) +\n",
        "                                 '(' + str(idxs[0]) + ')')(*self.coords.c)\n",
        "        else:\n",
        "            component = Function(str(self.symbol) + str(idxs))(*self.coords.c)\n",
        "        return component\n",
        "\n"
       ]
      }
     ],
     "prompt_number": 42
    },
    {
     "cell_type": "markdown",
     "metadata": {},
     "source": [
      "Let's assume that tensor __S__ is the commutator of the covariant derivatives of some arbitrary vector field __V__ and create a new _\\_compute\\_covariant\\_component_ method for the object __S__"
     ]
    },
    {
     "cell_type": "code",
     "collapsed": false,
     "input": [
      "V = Tensor('V', 1, g)\n",
      "V(All)"
     ],
     "language": "python",
     "metadata": {},
     "outputs": [
      {
       "latex": [
        "$$\\left[\\begin{matrix}\\operatorname{V(1)}{\\left (t,r,\\theta,\\phi \\right )} & \\operatorname{V(2)}{\\left (t,r,\\theta,\\phi \\right )} & \\operatorname{V(3)}{\\left (t,r,\\theta,\\phi \\right )} & \\operatorname{V(4)}{\\left (t,r,\\theta,\\phi \\right )}\\end{matrix}\\right]$$"
       ],
       "metadata": {},
       "output_type": "pyout",
       "prompt_number": 43,
       "text": [
        "[V(1)(t, r, \\theta, \\phi)  V(2)(t, r, \\theta, \\phi)  V(3)(t, r, \\theta, \\phi) \n",
        " V(4)(t, r, \\theta, \\phi)]"
       ]
      }
     ],
     "prompt_number": 43
    },
    {
     "cell_type": "code",
     "collapsed": false,
     "input": [
      "def S_new_method(idxs):\n",
      "    component = (V.covariantD(idxs[0], idxs[1], idxs[2]) - V.covariantD(idxs[0], idxs[2], idxs[1])).simplify() # definition\n",
      "    S.components.update({idxs: component}) # memoization\n",
      "    return component\n",
      "S._compute_covariant_component = S_new_method # _compute_covariant_component method was overriden"
     ],
     "language": "python",
     "metadata": {},
     "outputs": [],
     "prompt_number": 44
    },
    {
     "cell_type": "code",
     "collapsed": false,
     "input": [
      "S(1, 1, 3)"
     ],
     "language": "python",
     "metadata": {},
     "outputs": [
      {
       "latex": [
        "$$\\frac{M}{r^{4}} \\left(2 M - r\\right) \\operatorname{V(3)}{\\left (t,r,\\theta,\\phi \\right )}$$"
       ],
       "metadata": {},
       "output_type": "pyout",
       "png": "[encoded data removed]",
       "prompt_number": 45,
       "text": [
        "M\u22c5(2\u22c5M - r)\u22c5V(3)(t, r, \\theta, \\phi)\n",
        "\u2500\u2500\u2500\u2500\u2500\u2500\u2500\u2500\u2500\u2500\u2500\u2500\u2500\u2500\u2500\u2500\u2500\u2500\u2500\u2500\u2500\u2500\u2500\u2500\u2500\u2500\u2500\u2500\u2500\u2500\u2500\u2500\u2500\u2500\u2500\u2500\n",
        "                  4                 \n",
        "                 r                  "
       ]
      }
     ],
     "prompt_number": 45
    },
    {
     "cell_type": "markdown",
     "metadata": {},
     "source": [
      "One can check that the well known formula is correct"
     ]
    },
    {
     "cell_type": "markdown",
     "metadata": {},
     "source": [
      "$$ V_{\\mu ;\\nu \\rho} - V_{\\mu ;\\rho \\nu} = R^{\\sigma}_{\\ \\mu \\nu \\rho}V_{\\sigma} $$"
     ]
    },
    {
     "cell_type": "code",
     "collapsed": false,
     "input": [
      "zeros = reduce(Matrix.add, [Rm(-i, All, All, All)*V(i) for i  in range(1, 5)]) - S(All, All, All)\n",
      "zeros.simplify()\n",
      "zeros"
     ],
     "language": "python",
     "metadata": {},
     "outputs": [
      {
       "latex": [
        "$$\\left[\\begin{matrix}\\left[\\begin{matrix}0 & 0 & 0 & 0\\\\0 & 0 & 0 & 0\\\\0 & 0 & 0 & 0\\\\0 & 0 & 0 & 0\\end{matrix}\\right] & \\left[\\begin{matrix}0 & 0 & 0 & 0\\\\0 & 0 & 0 & 0\\\\0 & 0 & 0 & 0\\\\0 & 0 & 0 & 0\\end{matrix}\\right] & \\left[\\begin{matrix}0 & 0 & 0 & 0\\\\0 & 0 & 0 & 0\\\\0 & 0 & 0 & 0\\\\0 & 0 & 0 & 0\\end{matrix}\\right] & \\left[\\begin{matrix}0 & 0 & 0 & 0\\\\0 & 0 & 0 & 0\\\\0 & 0 & 0 & 0\\\\0 & 0 & 0 & 0\\end{matrix}\\right]\\end{matrix}\\right]$$"
       ],
       "metadata": {},
       "output_type": "pyout",
       "prompt_number": 46,
       "text": [
        "\u23a1\u23a10  0  0  0\u23a4  \u23a10  0  0  0\u23a4  \u23a10  0  0  0\u23a4  \u23a10  0  0  0\u23a4\u23a4\n",
        "\u23a2\u23a2          \u23a5  \u23a2          \u23a5  \u23a2          \u23a5  \u23a2          \u23a5\u23a5\n",
        "\u23a2\u23a20  0  0  0\u23a5  \u23a20  0  0  0\u23a5  \u23a20  0  0  0\u23a5  \u23a20  0  0  0\u23a5\u23a5\n",
        "\u23a2\u23a2          \u23a5  \u23a2          \u23a5  \u23a2          \u23a5  \u23a2          \u23a5\u23a5\n",
        "\u23a2\u23a20  0  0  0\u23a5  \u23a20  0  0  0\u23a5  \u23a20  0  0  0\u23a5  \u23a20  0  0  0\u23a5\u23a5\n",
        "\u23a2\u23a2          \u23a5  \u23a2          \u23a5  \u23a2          \u23a5  \u23a2          \u23a5\u23a5\n",
        "\u23a3\u23a30  0  0  0\u23a6  \u23a30  0  0  0\u23a6  \u23a30  0  0  0\u23a6  \u23a30  0  0  0\u23a6\u23a6"
       ]
      }
     ],
     "prompt_number": 46
    },
    {
     "cell_type": "markdown",
     "metadata": {},
     "source": [
      "Another way of tensor creation is to make an instance of the _Tensor_ class with components option. Tensor components stored in _Matrix_ object are  writen to the _components_ dictionary of the instance by this method. "
     ]
    },
    {
     "cell_type": "code",
     "collapsed": false,
     "input": [
      "Z = Tensor('Z', 3, g, components=zeros, components_type=(1, 1, 1))"
     ],
     "language": "python",
     "metadata": {},
     "outputs": [],
     "prompt_number": 47
    },
    {
     "cell_type": "code",
     "collapsed": false,
     "input": [
      "not any(Z.components.values())"
     ],
     "language": "python",
     "metadata": {},
     "outputs": [
      {
       "metadata": {},
       "output_type": "pyout",
       "prompt_number": 48,
       "text": [
        "True"
       ]
      }
     ],
     "prompt_number": 48
    },
    {
     "cell_type": "heading",
     "level": 3,
     "metadata": {},
     "source": [
      "_Tensor_ class extension"
     ]
    },
    {
     "cell_type": "markdown",
     "metadata": {},
     "source": [
      "As an example of the _Tensor_ class extension you can get the source code of any of the predefined _Tensor_ subclasses"
     ]
    },
    {
     "cell_type": "code",
     "collapsed": false,
     "input": [
      "print([cls.__name__ for cls in vars()['Tensor'].__subclasses__()])"
     ],
     "language": "python",
     "metadata": {},
     "outputs": [
      {
       "output_type": "stream",
       "stream": "stdout",
       "text": [
        "['Christoffel', 'Ricci', 'Riemann', 'Einstein', 'Geodesic']\n"
       ]
      }
     ],
     "prompt_number": 49
    },
    {
     "cell_type": "code",
     "collapsed": false,
     "input": [
      "source(Christoffel)"
     ],
     "language": "python",
     "metadata": {},
     "outputs": [
      {
       "output_type": "stream",
       "stream": "stdout",
       "text": [
        "In file: /usr/local/lib/python2.7/dist-packages/gravipy/tensorial.py\n",
        "class Christoffel(Tensor):\n",
        "    r\"\"\"\n",
        "    Represents a class of Christoffel symbols of the first and second kind.\n",
        "\n",
        "    Parameters\n",
        "    ==========\n",
        "\n",
        "    symbol : python string - name of the Christoffel symbol\n",
        "    metric : GraviPy MtricTensor object\n",
        "\n",
        "    Examples\n",
        "    ========\n",
        "\n",
        "    Define a Christoffel symbols for the Schwarzschild metric:\n",
        "\n",
        "    >>> from gravipy import *\n",
        "    >>> t, r, theta, phi = symbols('t, r, \\\\theta, \\phi')\n",
        "    >>> chi = Coordinates('\\chi', [t, r, theta, phi])\n",
        "    >>> M = Symbol('M')\n",
        "    >>> Metric = diag(-(1 - 2 * M / r), 1 / (1 - 2 * M / r), r ** 2,\n",
        "    ...                  r ** 2 * sin(theta) ** 2)\n",
        "    >>> g = MetricTensor('g', chi, Metric)\n",
        "    >>> Ga = Christoffel('Ga', g)\n",
        "    >>> Ga(-1, 2, 1)\n",
        "    -M/(r*(2*M - r))\n",
        "    >>> Ga(2, All, All)\n",
        "    Matrix([\n",
        "    [M/r**2,               0,  0,                 0],\n",
        "    [     0, -M/(2*M - r)**2,  0,                 0],\n",
        "    [     0,               0, -r,                 0],\n",
        "    [     0,               0,  0, -r*sin(\\theta)**2]])\n",
        "    >>> Ga(1, -1, 2) # doctest: +IGNORE_EXCEPTION_DETAIL\n",
        "    Traceback (most recent call last):\n",
        "    GraviPyError: \"Tensor component Ga(1, -1, 2) doesn't  exist\"\n",
        "    \"\"\"\n",
        "\n",
        "    def __init__(self, symbol, metric, *args, **kwargs):\n",
        "        super(Christoffel, self).__init__(\n",
        "            symbol, 3, metric, index_types=(0, 1, 1), *args, **kwargs)\n",
        "        self.is_connection = True\n",
        "        self.conn = self\n",
        "        self.metric.conn = self\n",
        "\n",
        "    def _compute_covariant_component(self, idxs):\n",
        "        component = Rational(1, 2) * (\n",
        "            self.metric(idxs[0], idxs[1]).diff(self.coords(-idxs[2])) +\n",
        "            self.metric(idxs[0], idxs[2]).diff(self.coords(-idxs[1])) -\n",
        "            self.metric(idxs[1], idxs[2]).diff(self.coords(-idxs[0]))) \\\n",
        "            .together().simplify()\n",
        "        self.components.update({idxs: component})\n",
        "        if self.apply_tensor_symmetry:\n",
        "            self.components.update({(idxs[0], idxs[2], idxs[1]): component})\n",
        "        return component\n",
        "\n"
       ]
      }
     ],
     "prompt_number": 50
    }
   ],
   "metadata": {}
  }
 ]
}
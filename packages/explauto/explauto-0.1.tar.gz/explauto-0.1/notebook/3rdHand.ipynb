{
 "metadata": {
  "name": "3rdHand"
 },
 "nbformat": 3,
 "nbformat_minor": 0,
 "worksheets": [
  {
   "cells": [
    {
     "cell_type": "code",
     "collapsed": false,
     "input": [
      "import sys\n",
      "import time\n",
      "import platform\n",
      "\n",
      "sys.path.append('../environment/3rd_hand/')\n",
      "sys.path.append('../imleSource/python/')\n",
      "sys.path.append('../')\n",
      "\n",
      "mac = True if platform.system() == 'Darwin' else False\n",
      "\n",
      "import pypot\n",
      "import imle\n",
      "\n",
      "from arm import Arm, RecordPrimitive\n",
      "from pypot.sensor.optibridge import OptiTrackClient"
     ],
     "language": "python",
     "metadata": {},
     "outputs": [],
     "prompt_number": 1
    },
    {
     "cell_type": "code",
     "collapsed": false,
     "input": [
      "opti = OptiTrackClient('193.50.110.114', 8989, ('gripper', 'wand'))\n",
      "opti.start()"
     ],
     "language": "python",
     "metadata": {},
     "outputs": [],
     "prompt_number": 2
    },
    {
     "cell_type": "code",
     "collapsed": false,
     "input": [
      "opti.tracked_objects['gripper'].position"
     ],
     "language": "python",
     "metadata": {},
     "outputs": [
      {
       "output_type": "pyout",
       "prompt_number": 3,
       "text": [
        "array([-0.1313407 ,  0.14033915, -0.1482428 ])"
       ]
      }
     ],
     "prompt_number": 3
    },
    {
     "cell_type": "code",
     "collapsed": false,
     "input": [
      "config = '../environment/3rd_hand/arm{}.json'.format('_mac' if mac else '')\n",
      "arm = Arm(config, opti)"
     ],
     "language": "python",
     "metadata": {},
     "outputs": [],
     "prompt_number": 4
    },
    {
     "cell_type": "code",
     "collapsed": false,
     "input": [
      "config = '../environment/3rd_hand/remote{}.json'.format('_mac' if mac else '')\n",
      "remote = Arm(config, opti)"
     ],
     "language": "python",
     "metadata": {},
     "outputs": [],
     "prompt_number": 5
    },
    {
     "cell_type": "code",
     "collapsed": false,
     "input": [
      "arm.setup()"
     ],
     "language": "python",
     "metadata": {},
     "outputs": [],
     "prompt_number": 6
    },
    {
     "cell_type": "code",
     "collapsed": false,
     "input": [
      "remote.setup()"
     ],
     "language": "python",
     "metadata": {},
     "outputs": [],
     "prompt_number": 7
    },
    {
     "cell_type": "code",
     "collapsed": false,
     "input": [
      "arm.imitate(remote)"
     ],
     "language": "python",
     "metadata": {},
     "outputs": [],
     "prompt_number": 9
    },
    {
     "cell_type": "code",
     "collapsed": false,
     "input": [
      "remote.compliant = True"
     ],
     "language": "python",
     "metadata": {},
     "outputs": [],
     "prompt_number": 10
    },
    {
     "cell_type": "code",
     "collapsed": false,
     "input": [
      "arm.stop_imitate()"
     ],
     "language": "python",
     "metadata": {},
     "outputs": [],
     "prompt_number": 10
    },
    {
     "cell_type": "code",
     "collapsed": false,
     "input": [],
     "language": "python",
     "metadata": {},
     "outputs": [],
     "prompt_number": 7
    },
    {
     "cell_type": "code",
     "collapsed": false,
     "input": [
      "# Joint dim base_pan base_tilt_lower base_tilt_upper head_pan head_tilt head_roll gripper\n",
      "joint_dims = array((5, ))\n",
      "\n",
      "# End dim px py pz rx ry rz\n",
      "end_dims = array((1, 2, 3))"
     ],
     "language": "python",
     "metadata": {},
     "outputs": [],
     "prompt_number": 8
    },
    {
     "cell_type": "code",
     "collapsed": false,
     "input": [
      "# Collect N seconds at F Hz of data (joints, end)\n",
      "\n",
      "N = 10\n",
      "F = 10\n",
      "\n",
      "rp = RecordPrimitive(arm, F)\n",
      "\n",
      "rp.start()\n",
      "time.sleep(N)\n",
      "rp.stop()\n",
      "    \n",
      "data = rp.data"
     ],
     "language": "python",
     "metadata": {},
     "outputs": [],
     "prompt_number": 8
    },
    {
     "cell_type": "code",
     "collapsed": false,
     "input": [
      "data"
     ],
     "language": "python",
     "metadata": {},
     "outputs": [
      {
       "output_type": "pyout",
       "prompt_number": 9,
       "text": [
        "array([[  7.69000000e+00,   6.48800000e+01,  -5.09600000e+01, ...,\n",
        "         -2.29573727e-03,   5.77965663e-02,  -5.21366242e-01],\n",
        "       [  7.69000000e+00,   6.48800000e+01,  -5.12500000e+01, ...,\n",
        "         -2.29573727e-03,   5.77965663e-02,  -5.21366242e-01],\n",
        "       [  7.69000000e+00,   6.48800000e+01,  -5.12500000e+01, ...,\n",
        "         -2.29573727e-03,   5.77965663e-02,  -5.21366242e-01],\n",
        "       ..., \n",
        "       [  7.69000000e+00,   6.48800000e+01,  -5.09600000e+01, ...,\n",
        "         -6.66639873e-03,   6.13641982e-02,  -5.15740076e-01],\n",
        "       [  7.69000000e+00,   6.48800000e+01,  -5.12500000e+01, ...,\n",
        "         -5.63859641e-03,   7.43585892e-02,  -5.08818651e-01],\n",
        "       [  7.69000000e+00,   6.48800000e+01,  -5.12500000e+01, ...,\n",
        "         -6.66809220e-03,   6.02320658e-02,  -5.17409298e-01]])"
       ]
      }
     ],
     "prompt_number": 9
    },
    {
     "cell_type": "code",
     "collapsed": false,
     "input": [
      "model = imle.Imle(in_ndims=len(joint_dims), \n",
      "                  out_ndims=len(end_dims), \n",
      "                  sigma0=(180./32.),\n",
      "                  Psi0=[0.01]*3 + [pi/48.]*3)"
     ],
     "language": "python",
     "metadata": {},
     "outputs": [],
     "prompt_number": 10
    },
    {
     "cell_type": "code",
     "collapsed": false,
     "input": [
      "for d in data:\n",
      "    model.update(d[joint_dims], d[end_dims])"
     ],
     "language": "python",
     "metadata": {},
     "outputs": [],
     "prompt_number": 11
    },
    {
     "cell_type": "code",
     "collapsed": false,
     "input": [
      "model.number_of_experts"
     ],
     "language": "python",
     "metadata": {},
     "outputs": [
      {
       "output_type": "pyout",
       "prompt_number": 12,
       "text": [
        "2"
       ]
      }
     ],
     "prompt_number": 12
    },
    {
     "cell_type": "code",
     "collapsed": false,
     "input": [
      "clf()\n",
      "proj = [1,2]\n",
      "#plot(zeros(10), hist[-11:-1,0], 'o')\n",
      "COLORS = ['r', 'g', 'b', 'k', 'm']*10000\n",
      "a=subplot(111)\n",
      "els = model.to_gmm().inference([],proj,[]).get_display_ellipses2D(COLORS)\n",
      "for el in els:\n",
      "    a.add_patch(el)\n",
      "axis('tight')"
     ],
     "language": "python",
     "metadata": {},
     "outputs": [
      {
       "ename": "AttributeError",
       "evalue": "'GMM' object has no attribute 'covariance_type'",
       "output_type": "pyerr",
       "traceback": [
        "\u001b[0;31m---------------------------------------------------------------------------\u001b[0m\n\u001b[0;31mAttributeError\u001b[0m                            Traceback (most recent call last)",
        "\u001b[0;32m<ipython-input-13-cef9324cc570>\u001b[0m in \u001b[0;36m<module>\u001b[0;34m()\u001b[0m\n\u001b[1;32m      4\u001b[0m \u001b[0mCOLORS\u001b[0m \u001b[0;34m=\u001b[0m \u001b[0;34m[\u001b[0m\u001b[0;34m'r'\u001b[0m\u001b[0;34m,\u001b[0m \u001b[0;34m'g'\u001b[0m\u001b[0;34m,\u001b[0m \u001b[0;34m'b'\u001b[0m\u001b[0;34m,\u001b[0m \u001b[0;34m'k'\u001b[0m\u001b[0;34m,\u001b[0m \u001b[0;34m'm'\u001b[0m\u001b[0;34m]\u001b[0m\u001b[0;34m*\u001b[0m\u001b[0;36m10000\u001b[0m\u001b[0;34m\u001b[0m\u001b[0m\n\u001b[1;32m      5\u001b[0m \u001b[0ma\u001b[0m\u001b[0;34m=\u001b[0m\u001b[0msubplot\u001b[0m\u001b[0;34m(\u001b[0m\u001b[0;36m111\u001b[0m\u001b[0;34m)\u001b[0m\u001b[0;34m\u001b[0m\u001b[0m\n\u001b[0;32m----> 6\u001b[0;31m \u001b[0mels\u001b[0m \u001b[0;34m=\u001b[0m \u001b[0mmodel\u001b[0m\u001b[0;34m.\u001b[0m\u001b[0mto_gmm\u001b[0m\u001b[0;34m(\u001b[0m\u001b[0;34m)\u001b[0m\u001b[0;34m.\u001b[0m\u001b[0minference\u001b[0m\u001b[0;34m(\u001b[0m\u001b[0;34m[\u001b[0m\u001b[0;34m]\u001b[0m\u001b[0;34m,\u001b[0m\u001b[0mproj\u001b[0m\u001b[0;34m,\u001b[0m\u001b[0;34m[\u001b[0m\u001b[0;34m]\u001b[0m\u001b[0;34m)\u001b[0m\u001b[0;34m.\u001b[0m\u001b[0mget_display_ellipses2D\u001b[0m\u001b[0;34m(\u001b[0m\u001b[0mCOLORS\u001b[0m\u001b[0;34m)\u001b[0m\u001b[0;34m\u001b[0m\u001b[0m\n\u001b[0m\u001b[1;32m      7\u001b[0m \u001b[0;32mfor\u001b[0m \u001b[0mel\u001b[0m \u001b[0;32min\u001b[0m \u001b[0mels\u001b[0m\u001b[0;34m:\u001b[0m\u001b[0;34m\u001b[0m\u001b[0m\n\u001b[1;32m      8\u001b[0m     \u001b[0ma\u001b[0m\u001b[0;34m.\u001b[0m\u001b[0madd_patch\u001b[0m\u001b[0;34m(\u001b[0m\u001b[0mel\u001b[0m\u001b[0;34m)\u001b[0m\u001b[0;34m\u001b[0m\u001b[0m\n",
        "\u001b[0;32m/mnt/hgfs/pierrerouanet/dev/im_learning/gmminf.pyc\u001b[0m in \u001b[0;36minference\u001b[0;34m(self, in_dims, out_dims, value)\u001b[0m\n\u001b[1;32m     60\u001b[0m             \u001b[0mweights\u001b[0m\u001b[0;34m=\u001b[0m\u001b[0mself\u001b[0m\u001b[0;34m.\u001b[0m\u001b[0mweights_\u001b[0m\u001b[0;34m\u001b[0m\u001b[0m\n\u001b[1;32m     61\u001b[0m         res = GMM(n_components=self.n_components, \n\u001b[0;32m---> 62\u001b[0;31m                   covariance_type=self.covariance_type)\n\u001b[0m\u001b[1;32m     63\u001b[0m         \u001b[0mres\u001b[0m\u001b[0;34m.\u001b[0m\u001b[0mweights_\u001b[0m \u001b[0;34m=\u001b[0m \u001b[0mweights\u001b[0m\u001b[0;34m\u001b[0m\u001b[0m\n\u001b[1;32m     64\u001b[0m         \u001b[0mres\u001b[0m\u001b[0;34m.\u001b[0m\u001b[0mmeans_\u001b[0m \u001b[0;34m=\u001b[0m \u001b[0mmeans\u001b[0m\u001b[0;34m\u001b[0m\u001b[0m\n",
        "\u001b[0;31mAttributeError\u001b[0m: 'GMM' object has no attribute 'covariance_type'"
       ]
      },
      {
       "output_type": "display_data",
       "png": "[encoded data removed]"
      }
     ],
     "prompt_number": 13
    },
    {
     "cell_type": "code",
     "collapsed": false,
     "input": [
      "test_inds = range(len(data)) #randint(0,res.shape[0],100)\n",
      "preds = [model.to_gmm().inference(joint_dims, end_dims, r.reshape(-1,1)).sample() for r in data[test_inds,joint_dims]]"
     ],
     "language": "python",
     "metadata": {},
     "outputs": [
      {
       "ename": "IndexError",
       "evalue": "index (5) out of range (0<=index<3) in dimension 0",
       "output_type": "pyerr",
       "traceback": [
        "\u001b[0;31m---------------------------------------------------------------------------\u001b[0m\n\u001b[0;31mIndexError\u001b[0m                                Traceback (most recent call last)",
        "\u001b[0;32m<ipython-input-14-f8f8a5f0af21>\u001b[0m in \u001b[0;36m<module>\u001b[0;34m()\u001b[0m\n\u001b[1;32m      1\u001b[0m \u001b[0mtest_inds\u001b[0m \u001b[0;34m=\u001b[0m \u001b[0mrange\u001b[0m\u001b[0;34m(\u001b[0m\u001b[0mlen\u001b[0m\u001b[0;34m(\u001b[0m\u001b[0mdata\u001b[0m\u001b[0;34m)\u001b[0m\u001b[0;34m)\u001b[0m \u001b[0;31m#randint(0,res.shape[0],100)\u001b[0m\u001b[0;34m\u001b[0m\u001b[0m\n\u001b[0;32m----> 2\u001b[0;31m \u001b[0mpreds\u001b[0m \u001b[0;34m=\u001b[0m \u001b[0;34m[\u001b[0m\u001b[0mmodel\u001b[0m\u001b[0;34m.\u001b[0m\u001b[0mto_gmm\u001b[0m\u001b[0;34m(\u001b[0m\u001b[0;34m)\u001b[0m\u001b[0;34m.\u001b[0m\u001b[0minference\u001b[0m\u001b[0;34m(\u001b[0m\u001b[0mjoint_dims\u001b[0m\u001b[0;34m,\u001b[0m \u001b[0mend_dims\u001b[0m\u001b[0;34m,\u001b[0m \u001b[0mr\u001b[0m\u001b[0;34m.\u001b[0m\u001b[0mreshape\u001b[0m\u001b[0;34m(\u001b[0m\u001b[0;34m-\u001b[0m\u001b[0;36m1\u001b[0m\u001b[0;34m,\u001b[0m\u001b[0;36m1\u001b[0m\u001b[0;34m)\u001b[0m\u001b[0;34m)\u001b[0m\u001b[0;34m.\u001b[0m\u001b[0msample\u001b[0m\u001b[0;34m(\u001b[0m\u001b[0;34m)\u001b[0m \u001b[0;32mfor\u001b[0m \u001b[0mr\u001b[0m \u001b[0;32min\u001b[0m \u001b[0mdata\u001b[0m\u001b[0;34m[\u001b[0m\u001b[0mtest_inds\u001b[0m\u001b[0;34m,\u001b[0m\u001b[0mjoint_dims\u001b[0m\u001b[0;34m]\u001b[0m\u001b[0;34m]\u001b[0m\u001b[0;34m\u001b[0m\u001b[0m\n\u001b[0m",
        "\u001b[0;32m/mnt/hgfs/pierrerouanet/dev/im_learning/gmminf.pyc\u001b[0m in \u001b[0;36minference\u001b[0;34m(self, in_dims, out_dims, value)\u001b[0m\n\u001b[1;32m     39\u001b[0m         \u001b[0;32mif\u001b[0m \u001b[0min_dims\u001b[0m\u001b[0;34m.\u001b[0m\u001b[0msize\u001b[0m\u001b[0;34m:\u001b[0m\u001b[0;34m\u001b[0m\u001b[0m\n\u001b[1;32m     40\u001b[0m             \u001b[0;32mfor\u001b[0m \u001b[0mk\u001b[0m\u001b[0;34m,\u001b[0m \u001b[0;34m(\u001b[0m\u001b[0mweight_k\u001b[0m\u001b[0;34m,\u001b[0m \u001b[0mmean_k\u001b[0m\u001b[0;34m,\u001b[0m \u001b[0mcovar_k\u001b[0m\u001b[0;34m)\u001b[0m \u001b[0;32min\u001b[0m \u001b[0menumerate\u001b[0m\u001b[0;34m(\u001b[0m\u001b[0mself\u001b[0m\u001b[0;34m)\u001b[0m\u001b[0;34m:\u001b[0m\u001b[0;34m\u001b[0m\u001b[0m\n\u001b[0;32m---> 41\u001b[0;31m                 \u001b[0msig_in\u001b[0m \u001b[0;34m=\u001b[0m \u001b[0mcovar_k\u001b[0m\u001b[0;34m[\u001b[0m\u001b[0mix_\u001b[0m\u001b[0;34m(\u001b[0m\u001b[0min_dims\u001b[0m\u001b[0;34m,\u001b[0m \u001b[0min_dims\u001b[0m\u001b[0;34m)\u001b[0m\u001b[0;34m]\u001b[0m\u001b[0;34m\u001b[0m\u001b[0m\n\u001b[0m\u001b[1;32m     42\u001b[0m                 \u001b[0minin_inv\u001b[0m \u001b[0;34m=\u001b[0m \u001b[0mnumpy\u001b[0m\u001b[0;34m.\u001b[0m\u001b[0mmatrix\u001b[0m\u001b[0;34m(\u001b[0m\u001b[0msig_in\u001b[0m\u001b[0;34m)\u001b[0m\u001b[0;34m.\u001b[0m\u001b[0mI\u001b[0m\u001b[0;34m\u001b[0m\u001b[0m\n\u001b[1;32m     43\u001b[0m                 \u001b[0mout_in\u001b[0m\u001b[0;34m=\u001b[0m\u001b[0mcovar_k\u001b[0m\u001b[0;34m[\u001b[0m\u001b[0mix_\u001b[0m\u001b[0;34m(\u001b[0m\u001b[0mout_dims\u001b[0m\u001b[0;34m,\u001b[0m \u001b[0min_dims\u001b[0m\u001b[0;34m)\u001b[0m\u001b[0;34m]\u001b[0m\u001b[0;34m\u001b[0m\u001b[0m\n",
        "\u001b[0;31mIndexError\u001b[0m: index (5) out of range (0<=index<3) in dimension 0"
       ]
      }
     ],
     "prompt_number": 14
    },
    {
     "cell_type": "code",
     "collapsed": false,
     "input": [
      "preds = array(preds).reshape(-1,6)"
     ],
     "language": "python",
     "metadata": {},
     "outputs": [],
     "prompt_number": 20
    },
    {
     "cell_type": "code",
     "collapsed": false,
     "input": [
      "mean([norm(preds[i,:] - data[t, -6:]) for i,t in enumerate(test_inds)])"
     ],
     "language": "python",
     "metadata": {},
     "outputs": [
      {
       "output_type": "pyout",
       "prompt_number": 43,
       "text": [
        "0.46648672356187404"
       ]
      }
     ],
     "prompt_number": 43
    },
    {
     "cell_type": "code",
     "collapsed": false,
     "input": [
      "mean([preds[i,:] - data[t, -6:] for i,t in enumerate(test_inds)], axis=0)"
     ],
     "language": "python",
     "metadata": {},
     "outputs": [
      {
       "output_type": "pyout",
       "prompt_number": 21,
       "text": [
        "array([-0.00042698, -0.01456004, -0.00320381, -0.0175415 , -0.03101318,\n",
        "       -0.00866543])"
       ]
      }
     ],
     "prompt_number": 21
    },
    {
     "cell_type": "code",
     "collapsed": false,
     "input": [
      "import time"
     ],
     "language": "python",
     "metadata": {},
     "outputs": [],
     "prompt_number": 30
    },
    {
     "cell_type": "code",
     "collapsed": false,
     "input": [
      "start = time.time()\n",
      "diff = opti.tracked_objects['gripper'].orientation - opti.tracked_objects['obj'].orientation\n",
      "err=[]\n",
      "while time.time() - start < 10:\n",
      "    obj = opti.tracked_objects['obj'].orientation + diff\n",
      "    err.append(abs(obj - opti.tracked_objects['gripper'].orientation))\n",
      "    time.sleep(0.1)   \n",
      "err = array(err)"
     ],
     "language": "python",
     "metadata": {},
     "outputs": [],
     "prompt_number": 31
    },
    {
     "cell_type": "code",
     "collapsed": false,
     "input": [
      "err[0]"
     ],
     "language": "python",
     "metadata": {},
     "outputs": [
      {
       "output_type": "pyout",
       "prompt_number": 184,
       "text": [
        "array([  0.00000000e+00,   0.00000000e+00,   1.11022302e-16])"
       ]
      }
     ],
     "prompt_number": 184
    },
    {
     "cell_type": "code",
     "collapsed": false,
     "input": [
      "plot(err[:,2])"
     ],
     "language": "python",
     "metadata": {},
     "outputs": [
      {
       "output_type": "pyout",
       "prompt_number": 34,
       "text": [
        "[<matplotlib.lines.Line2D at 0x30fb590>]"
       ]
      }
     ],
     "prompt_number": 34
    },
    {
     "cell_type": "code",
     "collapsed": false,
     "input": [
      "sec_dist = (array([-120., 6., 1525.]) - array([-75., 54., 1625.])) / 1000."
     ],
     "language": "python",
     "metadata": {},
     "outputs": [],
     "prompt_number": 49
    },
    {
     "cell_type": "code",
     "collapsed": false,
     "input": [
      "p = opti.tracked_objects['obj'].position\n",
      "r = opti.tracked_objects['obj'].orientation\n",
      "end = hstack((array((p.x, p.y, p.z)), r))\n",
      "command = model.to_gmm().inference(range(6,12), range(0,6), end.reshape(-1,1)).sample()\n",
      "arm.goto_position(dict(zip([m.name for m in arm.motors][:-1], command.flatten())), 1)"
     ],
     "language": "python",
     "metadata": {},
     "outputs": [],
     "prompt_number": 54
    },
    {
     "cell_type": "code",
     "collapsed": false,
     "input": [],
     "language": "python",
     "metadata": {},
     "outputs": []
    }
   ],
   "metadata": {}
  }
 ]
}

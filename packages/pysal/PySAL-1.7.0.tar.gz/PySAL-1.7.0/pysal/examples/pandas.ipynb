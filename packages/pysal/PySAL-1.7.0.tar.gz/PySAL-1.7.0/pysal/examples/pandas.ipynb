{
 "metadata": {
  "name": ""
 },
 "nbformat": 3,
 "nbformat_minor": 0,
 "worksheets": [
  {
   "cells": [
    {
     "cell_type": "code",
     "collapsed": false,
     "input": [
      "import pysal as ps\n",
      "import pandas as pd\n",
      "import numpy as np"
     ],
     "language": "python",
     "metadata": {},
     "outputs": [],
     "prompt_number": 1
    },
    {
     "cell_type": "code",
     "collapsed": false,
     "input": [
      "df = ps.open(ps.examples.get_path('columbus.dbf'))"
     ],
     "language": "python",
     "metadata": {},
     "outputs": [],
     "prompt_number": 2
    },
    {
     "cell_type": "code",
     "collapsed": false,
     "input": [
      "y = df.by_col('CRIME')"
     ],
     "language": "python",
     "metadata": {},
     "outputs": [],
     "prompt_number": 3
    },
    {
     "cell_type": "code",
     "collapsed": false,
     "input": [
      "df = pd.DataFrame(y)"
     ],
     "language": "python",
     "metadata": {},
     "outputs": [],
     "prompt_number": 4
    },
    {
     "cell_type": "code",
     "collapsed": false,
     "input": [
      "y1 = df[0]"
     ],
     "language": "python",
     "metadata": {},
     "outputs": [],
     "prompt_number": 5
    },
    {
     "cell_type": "code",
     "collapsed": false,
     "input": [
      "yn = np.array(y)"
     ],
     "language": "python",
     "metadata": {},
     "outputs": [],
     "prompt_number": 6
    },
    {
     "cell_type": "code",
     "collapsed": false,
     "input": [
      "if hasattr(yn,'values'):\n",
      "    print 'yes'"
     ],
     "language": "python",
     "metadata": {},
     "outputs": [],
     "prompt_number": 7
    },
    {
     "cell_type": "code",
     "collapsed": false,
     "input": [
      "type(y1) == 'pandas.core.series.Series'"
     ],
     "language": "python",
     "metadata": {},
     "outputs": [
      {
       "metadata": {},
       "output_type": "pyout",
       "prompt_number": 8,
       "text": [
        "False"
       ]
      }
     ],
     "prompt_number": 8
    },
    {
     "cell_type": "code",
     "collapsed": false,
     "input": [
      "y1.values"
     ],
     "language": "python",
     "metadata": {},
     "outputs": [
      {
       "metadata": {},
       "output_type": "pyout",
       "prompt_number": 9,
       "text": [
        "array([ 15.72598 ,  18.801754,  30.626781,  32.38776 ,  50.73151 ,\n",
        "        26.066658,   0.178269,  38.425858,  30.515917,  34.000835,\n",
        "        62.275448,  56.705669,  46.716129,  57.066132,  48.585487,\n",
        "        54.838711,  36.868774,  43.962486,  54.521965,   0.223797,\n",
        "        40.074074,  33.705048,  20.048504,  38.297871,  61.299175,\n",
        "        40.969742,  52.79443 ,  56.919785,  60.750446,  68.892044,\n",
        "        17.677214,  19.145592,  41.968163,  23.974028,  39.175053,\n",
        "        14.305556,  42.445076,  53.710938,  19.100863,  16.241299,\n",
        "        18.905146,  16.49189 ,  36.663612,  25.962263,  29.028488,\n",
        "        16.530533,  27.822861,  26.645266,  22.541491])"
       ]
      }
     ],
     "prompt_number": 9
    },
    {
     "cell_type": "code",
     "collapsed": false,
     "input": [
      "yn.values"
     ],
     "language": "python",
     "metadata": {},
     "outputs": [
      {
       "ename": "AttributeError",
       "evalue": "'numpy.ndarray' object has no attribute 'values'",
       "output_type": "pyerr",
       "traceback": [
        "\u001b[0;31m---------------------------------------------------------------------------\u001b[0m\n\u001b[0;31mAttributeError\u001b[0m                            Traceback (most recent call last)",
        "\u001b[0;32m<ipython-input-10-d7fde23ed22a>\u001b[0m in \u001b[0;36m<module>\u001b[0;34m()\u001b[0m\n\u001b[0;32m----> 1\u001b[0;31m \u001b[0myn\u001b[0m\u001b[0;34m.\u001b[0m\u001b[0mvalues\u001b[0m\u001b[0;34m\u001b[0m\u001b[0m\n\u001b[0m",
        "\u001b[0;31mAttributeError\u001b[0m: 'numpy.ndarray' object has no attribute 'values'"
       ]
      }
     ],
     "prompt_number": 10
    },
    {
     "cell_type": "code",
     "collapsed": false,
     "input": [
      "# quantiles"
     ],
     "language": "python",
     "metadata": {},
     "outputs": [],
     "prompt_number": 11
    },
    {
     "cell_type": "code",
     "collapsed": false,
     "input": [
      "q = ps.Quantiles(df[0])"
     ],
     "language": "python",
     "metadata": {},
     "outputs": [],
     "prompt_number": 12
    },
    {
     "cell_type": "code",
     "collapsed": false,
     "input": [
      "q.yb"
     ],
     "language": "python",
     "metadata": {},
     "outputs": [
      {
       "metadata": {},
       "output_type": "pyout",
       "prompt_number": 13,
       "text": [
        "array([0, 0, 2, 2, 3, 1, 0, 2, 2, 2, 4, 4, 3, 4, 3, 4, 2, 3, 4, 0, 3, 2, 1,\n",
        "       2, 4, 3, 3, 4, 4, 4, 0, 1, 3, 1, 3, 0, 3, 4, 1, 0, 0, 0, 2, 1, 1, 0,\n",
        "       1, 1, 1])"
       ]
      }
     ],
     "prompt_number": 13
    },
    {
     "cell_type": "code",
     "collapsed": false,
     "input": [
      "fj = ps.Fisher_Jenks(df[0])"
     ],
     "language": "python",
     "metadata": {},
     "outputs": [],
     "prompt_number": 14
    },
    {
     "cell_type": "code",
     "collapsed": false,
     "input": [
      "y1 = df[0]"
     ],
     "language": "python",
     "metadata": {},
     "outputs": [],
     "prompt_number": 15
    },
    {
     "cell_type": "code",
     "collapsed": false,
     "input": [
      "y1.tolist()"
     ],
     "language": "python",
     "metadata": {},
     "outputs": [
      {
       "metadata": {},
       "output_type": "pyout",
       "prompt_number": 16,
       "text": [
        "[15.72598,\n",
        " 18.801754,\n",
        " 30.626781,\n",
        " 32.38776,\n",
        " 50.73151,\n",
        " 26.066658,\n",
        " 0.178269,\n",
        " 38.425858,\n",
        " 30.515917,\n",
        " 34.000835,\n",
        " 62.275448,\n",
        " 56.705669,\n",
        " 46.716129,\n",
        " 57.066132,\n",
        " 48.585487,\n",
        " 54.838711,\n",
        " 36.868774,\n",
        " 43.962486,\n",
        " 54.521965,\n",
        " 0.223797,\n",
        " 40.074074,\n",
        " 33.705048,\n",
        " 20.048504,\n",
        " 38.297871,\n",
        " 61.299175,\n",
        " 40.969742,\n",
        " 52.79443,\n",
        " 56.919785,\n",
        " 60.750446,\n",
        " 68.892044,\n",
        " 17.677214,\n",
        " 19.145592,\n",
        " 41.968163,\n",
        " 23.974028,\n",
        " 39.175053,\n",
        " 14.305556,\n",
        " 42.445076,\n",
        " 53.710938,\n",
        " 19.100863,\n",
        " 16.241299,\n",
        " 18.905146,\n",
        " 16.49189,\n",
        " 36.663612,\n",
        " 25.962263,\n",
        " 29.028488,\n",
        " 16.530533,\n",
        " 27.822861,\n",
        " 26.645266,\n",
        " 22.541491]"
       ]
      }
     ],
     "prompt_number": 16
    },
    {
     "cell_type": "code",
     "collapsed": false,
     "input": [
      "fj.yb"
     ],
     "language": "python",
     "metadata": {},
     "outputs": [
      {
       "metadata": {},
       "output_type": "pyout",
       "prompt_number": 17,
       "text": [
        "array([1, 1, 2, 2, 4, 2, 0, 3, 2, 2, 4, 4, 3, 4, 3, 4, 3, 3, 4, 0, 3, 2, 1,\n",
        "       3, 4, 3, 4, 4, 4, 4, 1, 1, 3, 2, 3, 1, 3, 4, 1, 1, 1, 1, 3, 2, 2, 1,\n",
        "       2, 2, 1])"
       ]
      }
     ],
     "prompt_number": 17
    },
    {
     "cell_type": "code",
     "collapsed": false,
     "input": [
      "std = ps.Std_Mean(df[0])"
     ],
     "language": "python",
     "metadata": {},
     "outputs": [],
     "prompt_number": 18
    },
    {
     "cell_type": "code",
     "collapsed": false,
     "input": [
      "mb = ps.Maximum_Breaks(df[0])"
     ],
     "language": "python",
     "metadata": {},
     "outputs": [],
     "prompt_number": 19
    },
    {
     "cell_type": "code",
     "collapsed": false,
     "input": [
      "bp = ps.Box_Plot(df[0])"
     ],
     "language": "python",
     "metadata": {},
     "outputs": [],
     "prompt_number": 20
    },
    {
     "cell_type": "code",
     "collapsed": false,
     "input": [
      "ei = ps.Equal_Interval(df[0])"
     ],
     "language": "python",
     "metadata": {},
     "outputs": [],
     "prompt_number": 21
    },
    {
     "cell_type": "code",
     "collapsed": false,
     "input": [
      "jc = ps.Jenks_Caspall(df[0])"
     ],
     "language": "python",
     "metadata": {},
     "outputs": [],
     "prompt_number": 22
    },
    {
     "cell_type": "code",
     "collapsed": false,
     "input": [
      "mp = ps.Max_P_Classifier(df[0])"
     ],
     "language": "python",
     "metadata": {},
     "outputs": [],
     "prompt_number": 23
    },
    {
     "cell_type": "code",
     "collapsed": false,
     "input": [
      "nb = ps.Natural_Breaks(df[0])"
     ],
     "language": "python",
     "metadata": {},
     "outputs": [],
     "prompt_number": 24
    },
    {
     "cell_type": "code",
     "collapsed": false,
     "input": [
      "pc = ps.Percentiles(df[0])"
     ],
     "language": "python",
     "metadata": {},
     "outputs": [],
     "prompt_number": 25
    },
    {
     "cell_type": "code",
     "collapsed": false,
     "input": [
      "pc.bins"
     ],
     "language": "python",
     "metadata": {},
     "outputs": [
      {
       "metadata": {},
       "output_type": "pyout",
       "prompt_number": 26,
       "text": [
        "array([  0.20012244,  16.4417718 ,  34.000835  ,  56.9490544 ,\n",
        "        65.71607792,  68.892044  ])"
       ]
      }
     ],
     "prompt_number": 26
    },
    {
     "cell_type": "code",
     "collapsed": false,
     "input": [
      "ud = ps.User_Defined(df[0], [16.4, 34.0, 56.9, 68.90 ] )"
     ],
     "language": "python",
     "metadata": {},
     "outputs": [],
     "prompt_number": 27
    },
    {
     "cell_type": "code",
     "collapsed": false,
     "input": [
      "ud.bins"
     ],
     "language": "python",
     "metadata": {},
     "outputs": [
      {
       "metadata": {},
       "output_type": "pyout",
       "prompt_number": 28,
       "text": [
        "array([ 16.4,  34. ,  56.9,  68.9])"
       ]
      }
     ],
     "prompt_number": 28
    },
    {
     "cell_type": "code",
     "collapsed": false,
     "input": [
      "ud.counts"
     ],
     "language": "python",
     "metadata": {},
     "outputs": [
      {
       "metadata": {},
       "output_type": "pyout",
       "prompt_number": 30,
       "text": [
        "array([ 5, 19, 19,  6])"
       ]
      }
     ],
     "prompt_number": 30
    },
    {
     "cell_type": "code",
     "collapsed": false,
     "input": [
      "type(df[0])"
     ],
     "language": "python",
     "metadata": {},
     "outputs": [
      {
       "metadata": {},
       "output_type": "pyout",
       "prompt_number": 32,
       "text": [
        "pandas.core.series.Series"
       ]
      }
     ],
     "prompt_number": 32
    },
    {
     "cell_type": "code",
     "collapsed": false,
     "input": [],
     "language": "python",
     "metadata": {},
     "outputs": []
    }
   ],
   "metadata": {}
  }
 ]
}
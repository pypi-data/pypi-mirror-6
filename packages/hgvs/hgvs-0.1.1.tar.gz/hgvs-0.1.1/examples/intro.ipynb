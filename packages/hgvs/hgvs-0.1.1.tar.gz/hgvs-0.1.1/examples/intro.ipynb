{
 "metadata": {
  "name": ""
 },
 "nbformat": 3,
 "nbformat_minor": 0,
 "worksheets": [
  {
   "cells": [
    {
     "cell_type": "markdown",
     "metadata": {},
     "source": [
      "http://www.ncbi.nlm.nih.gov/projects/SNP/snp_ref.cgi?rs=509749"
     ]
    },
    {
     "cell_type": "code",
     "collapsed": false,
     "input": [
      "import bdi.sources.uta0_pg\n",
      "import hgvs.hgvsmapper\n",
      "import hgvs.parser"
     ],
     "language": "python",
     "metadata": {
      "slideshow": {
       "slide_type": "slide"
      }
     },
     "outputs": [],
     "prompt_number": 1
    },
    {
     "cell_type": "code",
     "collapsed": false,
     "input": [
      "bdi = bdi.sources.uta0_pg.UTA0()\n",
      "hgvsmapper = hgvs.hgvsmapper.HGVSMapper(bdi)\n",
      "hgvsparser = hgvs.parser.Parser()"
     ],
     "language": "python",
     "metadata": {
      "slideshow": {
       "slide_type": "slide"
      }
     },
     "outputs": [],
     "prompt_number": 2
    },
    {
     "cell_type": "code",
     "collapsed": false,
     "input": [
      "var_c1 = hgvsparser.parse_hgvs_variant('NM_001261456.1:c.1762A>G')\n",
      "var_p1 = hgvsmapper.hgvsc_to_hgvsp(var_c1, None)\n",
      "var_c1, var_p1"
     ],
     "language": "python",
     "metadata": {},
     "outputs": [
      {
       "metadata": {},
       "output_type": "pyout",
       "prompt_number": 3,
       "text": [
        "(Variant(ac=NM_001261456.1, type=c, posedit=1762A>G),\n",
        " Variant(ac=NP_001248385.1, type=p, posedit=Met588Val))"
       ]
      }
     ],
     "prompt_number": 3
    },
    {
     "cell_type": "code",
     "collapsed": false,
     "input": [
      "var_g = hgvsmapper.hgvsc_to_hgvsg(var_c1,'GRCh37.p10')\n",
      "var_g"
     ],
     "language": "python",
     "metadata": {},
     "outputs": [
      {
       "metadata": {},
       "output_type": "pyout",
       "prompt_number": 4,
       "text": [
        "Variant(ac=NC_000001.10, type=g, posedit=160793560A>G)"
       ]
      }
     ],
     "prompt_number": 4
    },
    {
     "cell_type": "code",
     "collapsed": false,
     "input": [
      "txs = bdi.get_tx_for_gene('LY9')\n",
      "len(txs)\n",
      "[ tx['ac'] for tx in txs ] "
     ],
     "language": "python",
     "metadata": {},
     "outputs": [
      {
       "metadata": {},
       "output_type": "pyout",
       "prompt_number": 5,
       "text": [
        "['NM_002348.3', 'NM_001261456.1', 'NM_001261457.1', 'NM_001033667.2']"
       ]
      }
     ],
     "prompt_number": 5
    },
    {
     "cell_type": "code",
     "collapsed": false,
     "input": [
      "var_c2 = hgvsmapper.hgvsg_to_hgvsc(var_g,'NM_001261457.1')\n",
      "var_p2 = hgvsmapper.hgvsc_to_hgvsp(var_c2, None)\n",
      "var_c2, var_p2"
     ],
     "language": "python",
     "metadata": {},
     "outputs": [
      {
       "metadata": {},
       "output_type": "pyout",
       "prompt_number": 6,
       "text": [
        "(Variant(ac=NM_001261457.1, type=c, posedit=1534A>G),\n",
        " Variant(ac=NP_001248386.1, type=p, posedit=Met512Val))"
       ]
      }
     ],
     "prompt_number": 6
    },
    {
     "cell_type": "code",
     "collapsed": false,
     "input": [],
     "language": "python",
     "metadata": {},
     "outputs": []
    }
   ],
   "metadata": {}
  }
 ]
}
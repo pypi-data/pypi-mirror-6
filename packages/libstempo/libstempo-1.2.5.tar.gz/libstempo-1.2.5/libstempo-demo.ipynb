{
 "metadata": {
  "name": ""
 },
 "nbformat": 3,
 "nbformat_minor": 0,
 "worksheets": [
  {
   "cells": [
    {
     "cell_type": "heading",
     "level": 2,
     "metadata": {},
     "source": [
      "A demonstration of the libstempo Python interface to tempo2"
     ]
    },
    {
     "cell_type": "heading",
     "level": 4,
     "metadata": {},
     "source": [
      "Michele Vallisneri, vallis@vallis.org, 2013/04/30"
     ]
    },
    {
     "cell_type": "code",
     "collapsed": false,
     "input": [
      "import math, numpy as N, matplotlib.pyplot as P"
     ],
     "language": "python",
     "metadata": {},
     "outputs": [],
     "prompt_number": 1
    },
    {
     "cell_type": "markdown",
     "metadata": {},
     "source": [
      "Load the libstempo Python extension. It requires a source installation of tempo2, as well as current Python and compiler, and the numpy and Cython packages."
     ]
    },
    {
     "cell_type": "code",
     "collapsed": false,
     "input": [
      "import libstempo as T"
     ],
     "language": "python",
     "metadata": {},
     "outputs": [],
     "prompt_number": 2
    },
    {
     "cell_type": "markdown",
     "metadata": {},
     "source": [
      "We load a single-pulsar object. Doing this will automatically run the tempo2 fit routine once."
     ]
    },
    {
     "cell_type": "code",
     "collapsed": false,
     "input": [
      "psr = T.tempopulsar(parfile='../nanograv/par/J1909-3744_NANOGrav_dfg+12.par',timfile='../nanograv/tim/J1909-3744_NANOGrav_dfg+12.tim')"
     ],
     "language": "python",
     "metadata": {},
     "outputs": [],
     "prompt_number": 37
    },
    {
     "cell_type": "markdown",
     "metadata": {},
     "source": [
      "Let's start simple: what is the name of this pulsar?"
     ]
    },
    {
     "cell_type": "code",
     "collapsed": false,
     "input": [
      "psr.name"
     ],
     "language": "python",
     "metadata": {},
     "outputs": [
      {
       "output_type": "pyout",
       "prompt_number": 4,
       "text": [
        "'1909-3744'"
       ]
      }
     ],
     "prompt_number": 4
    },
    {
     "cell_type": "markdown",
     "metadata": {},
     "source": [
      "TOAs (in MJD), their errors (in us), and the observation frequencies are directly accessible as numpy arrays, with the native types of the data."
     ]
    },
    {
     "cell_type": "code",
     "collapsed": false,
     "input": [
      "psr.toas()"
     ],
     "language": "python",
     "metadata": {},
     "outputs": [
      {
       "output_type": "pyout",
       "prompt_number": 9,
       "text": [
        "array([ 53292.017,  53292.048,  53355.829, ...,  54641.18,  54706.997,\n",
        "        54764.834], dtype=float128)"
       ]
      }
     ],
     "prompt_number": 9
    },
    {
     "cell_type": "code",
     "collapsed": false,
     "input": [
      "psr.toaerrs"
     ],
     "language": "python",
     "metadata": {},
     "outputs": [
      {
       "output_type": "pyout",
       "prompt_number": 10,
       "text": [
        "array([ 1.231,  4.668,  0.453, ...,  0.158,  1.336,  0.316])"
       ]
      }
     ],
     "prompt_number": 10
    },
    {
     "cell_type": "code",
     "collapsed": false,
     "input": [
      "psr.freqs"
     ],
     "language": "python",
     "metadata": {},
     "outputs": [
      {
       "output_type": "pyout",
       "prompt_number": 11,
       "text": [
        "array([ 1372.,  1372.,  1372., ...,   884.,   884.,   884.])"
       ]
      }
     ],
     "prompt_number": 11
    },
    {
     "cell_type": "markdown",
     "metadata": {},
     "source": [
      "Residuals (in seconds) are returned by residuals(). Note that toas() and residuals() are functions, while toaerrs and freqs are just attributes, because the former will change when the timing-model parameters are changed (see below)."
     ]
    },
    {
     "cell_type": "code",
     "collapsed": false,
     "input": [
      "psr.residuals()"
     ],
     "language": "python",
     "metadata": {},
     "outputs": [
      {
       "output_type": "pyout",
       "prompt_number": 12,
       "text": [
        "array([-1.1871519e-07,  7.1723802e-06,  1.0685645e-06, ...,  4.0292334e-07,\n",
        "        1.4176866e-06, -4.9944381e-07], dtype=float128)"
       ]
      }
     ],
     "prompt_number": 12
    },
    {
     "cell_type": "markdown",
     "metadata": {},
     "source": [
      "The number of observations is psr.nobs."
     ]
    },
    {
     "cell_type": "code",
     "collapsed": false,
     "input": [
      "psr.nobs, psr.nobs == len(psr.toas())"
     ],
     "language": "python",
     "metadata": {},
     "outputs": [
      {
       "output_type": "pyout",
       "prompt_number": 13,
       "text": [
        "(1001, True)"
       ]
      }
     ],
     "prompt_number": 13
    },
    {
     "cell_type": "markdown",
     "metadata": {},
     "source": [
      "We can plot TOAs vs. residuals, but we should first sort the arrays; otherwise the array follow the order in the tim file, which may not be chronological."
     ]
    },
    {
     "cell_type": "code",
     "collapsed": false,
     "input": [
      "i = N.argsort(psr.toas())\n",
      "\n",
      "P.errorbar(psr.toas()[i],psr.residuals()[i],yerr=1e-6*psr.toaerrs[i],fmt='.')"
     ],
     "language": "python",
     "metadata": {},
     "outputs": [
      {
       "output_type": "pyout",
       "prompt_number": 14,
       "text": [
        "<Container object of 3 artists>"
       ]
      },
      {
       "output_type": "display_data",
       "png": "[encoded data removed]"
      }
     ],
     "prompt_number": 14
    },
    {
     "cell_type": "markdown",
     "metadata": {},
     "source": [
      "We can also see what flags have been set on the observations, and what their values are. The latter returns a numpy vector of strings."
     ]
    },
    {
     "cell_type": "code",
     "collapsed": false,
     "input": [
      "psr.allflags"
     ],
     "language": "python",
     "metadata": {},
     "outputs": [
      {
       "output_type": "pyout",
       "prompt_number": 15,
       "text": [
        "['fe', 'be', 'B', 'bw', 'tobs', 'pta', 'proc', 'chanid']"
       ]
      }
     ],
     "prompt_number": 15
    },
    {
     "cell_type": "code",
     "collapsed": false,
     "input": [
      "psr.flags['chanid']"
     ],
     "language": "python",
     "metadata": {},
     "outputs": [
      {
       "output_type": "pyout",
       "prompt_number": 16,
       "text": [
        "array(['gasp_1372', 'gasp_1372', 'gasp_1372', ..., 'gasp_884', 'gasp_884',\n",
        "       'gasp_884'], \n",
        "      dtype='|S16')"
       ]
      }
     ],
     "prompt_number": 16
    },
    {
     "cell_type": "markdown",
     "metadata": {},
     "source": [
      "Timing-model parameters can be accessed by using psr as a Python dictionary."
     ]
    },
    {
     "cell_type": "code",
     "collapsed": false,
     "input": [
      "psr['RAJ'].val, psr['RAJ'].err"
     ],
     "language": "python",
     "metadata": {},
     "outputs": [
      {
       "output_type": "pyout",
       "prompt_number": 17,
       "text": [
        "(5.0169080674065318348, 5.5461506971291368575e-10)"
       ]
      }
     ],
     "prompt_number": 17
    },
    {
     "cell_type": "markdown",
     "metadata": {},
     "source": [
      "The names of all parameters and all fitted parameters are returned by psr.allpars and psr.pars. We show only the first few."
     ]
    },
    {
     "cell_type": "code",
     "collapsed": false,
     "input": [
      "print psr.allpars[:10]\n",
      "print psr.pars[:10]"
     ],
     "language": "python",
     "metadata": {},
     "outputs": [
      {
       "output_type": "stream",
       "stream": "stdout",
       "text": [
        "('RAJ', '\\t', 'DECJ', 'F0', 'F1', 'F2', 'F3', 'F4', 'F5', 'F6')\n",
        "('RAJ', 'DECJ', 'F0', 'F1', 'PMRA', 'PMDEC', 'PX', 'SINI', 'PB', 'A1')\n"
       ]
      }
     ],
     "prompt_number": 18
    },
    {
     "cell_type": "markdown",
     "metadata": {},
     "source": [
      "The number of fitting parameters is in psr.ndim."
     ]
    },
    {
     "cell_type": "code",
     "collapsed": false,
     "input": [
      "psr.ndim, psr.ndim == len(psr.pars)"
     ],
     "language": "python",
     "metadata": {},
     "outputs": [
      {
       "output_type": "pyout",
       "prompt_number": 19,
       "text": [
        "(82, True)"
       ]
      }
     ],
     "prompt_number": 19
    },
    {
     "cell_type": "markdown",
     "metadata": {},
     "source": [
      "The pre-fit parameter values from the par file are also available..."
     ]
    },
    {
     "cell_type": "code",
     "collapsed": false,
     "input": [
      "psr.prefit['RAJ'].val, psr.prefit['RAJ'].err"
     ],
     "language": "python",
     "metadata": {},
     "outputs": [
      {
       "output_type": "pyout",
       "prompt_number": 20,
       "text": [
        "(5.0169080674060326785, 1.066218470748522014e-05)"
       ]
      }
     ],
     "prompt_number": 20
    },
    {
     "cell_type": "markdown",
     "metadata": {},
     "source": [
      "...as are the pre-fit toas and residuals corresponding to the parameters in the par file. Note that these are array variables, not functions."
     ]
    },
    {
     "cell_type": "code",
     "collapsed": false,
     "input": [
      "psr.prefit.residuals, psr.prefit.toas"
     ],
     "language": "python",
     "metadata": {},
     "outputs": [
      {
       "output_type": "pyout",
       "prompt_number": 7,
       "text": [
        "(array([-1.179725e-07,  7.1731507e-06,  1.0669239e-06, ...,  4.0520459e-07,\n",
        "        1.4198851e-06, -4.993585e-07], dtype=float128),\n",
        " array([ 53292.017,  53292.048,  53355.829, ...,  54641.18,  54706.997,\n",
        "        54764.834], dtype=float128))"
       ]
      }
     ],
     "prompt_number": 7
    },
    {
     "cell_type": "markdown",
     "metadata": {},
     "source": [
      "Changing the parameter values results in different residuals."
     ]
    },
    {
     "cell_type": "code",
     "collapsed": false,
     "input": [
      "def raj2res(raj):\n",
      "    psr['RAJ'].val = raj\n",
      "    return math.sqrt(N.mean(psr.residuals()**2)) / 1e-6    # rms residual in us\n",
      "\n",
      "x0, dx = psr['RAJ'].val, psr['RAJ'].err\n",
      "x = x0 + dx * N.linspace(-3,3,20)         # we look +/- 3 sigmas around the current value\n",
      "\n",
      "P.plot(x,N.vectorize(raj2res)(x))\n",
      "\n",
      "psr['RAJ'].val = x0                       # restore the original value"
     ],
     "language": "python",
     "metadata": {},
     "outputs": [
      {
       "output_type": "display_data",
       "png": "[encoded data removed]"
      }
     ],
     "prompt_number": 21
    },
    {
     "cell_type": "markdown",
     "metadata": {},
     "source": [
      "We can also call the tempo2 fitting routine, which will fit around the current parameter values, replacing them with their new best values. Individual parameters can be included or excluded in the fitting by setting their 'fit' field."
     ]
    },
    {
     "cell_type": "code",
     "collapsed": false,
     "input": [
      "psr['DM'].fit"
     ],
     "language": "python",
     "metadata": {},
     "outputs": [
      {
       "output_type": "pyout",
       "prompt_number": 38,
       "text": [
        "False"
       ]
      }
     ],
     "prompt_number": 38
    },
    {
     "cell_type": "code",
     "collapsed": false,
     "input": [
      "psr['DM'].fit = True\n",
      "print psr['DM'].val"
     ],
     "language": "python",
     "metadata": {},
     "outputs": [
      {
       "output_type": "stream",
       "stream": "stdout",
       "text": [
        "10.39468\n"
       ]
      }
     ],
     "prompt_number": 39
    },
    {
     "cell_type": "code",
     "collapsed": false,
     "input": [
      "psr.fit()"
     ],
     "language": "python",
     "metadata": {},
     "outputs": [],
     "prompt_number": 40
    },
    {
     "cell_type": "code",
     "collapsed": false,
     "input": [
      "print psr['DM'].val, psr['DM'].err"
     ],
     "language": "python",
     "metadata": {},
     "outputs": [
      {
       "output_type": "stream",
       "stream": "stdout",
       "text": [
        "12.5092042419 2.4439950086\n"
       ]
      }
     ],
     "prompt_number": 41
    },
    {
     "cell_type": "markdown",
     "metadata": {},
     "source": [
      "The least-square-fit approximated chi squared is then available as `psr.fitchisq`, while the exact chi squared of the residuals is computed by `psr.chisq()` (which evaluates `N.sum(psr.residuals()**2 / (1e-12 * psr.toaerrs**2))`). "
     ]
    },
    {
     "cell_type": "markdown",
     "metadata": {},
     "source": [
      "It's also possible to obtain the design matrix computed at the current parameter values, which has shape `psr.nobs * (len(psr.pars) + 1)`, since a constant offset is always included among the fitting parameters."
     ]
    },
    {
     "cell_type": "code",
     "collapsed": false,
     "input": [
      "d = psr.designmatrix()"
     ],
     "language": "python",
     "metadata": {},
     "outputs": [],
     "prompt_number": 26
    },
    {
     "cell_type": "markdown",
     "metadata": {},
     "source": [
      "These, for instance, are the derivatives with respect to RAJ and DECJ, evaluated at the TOAs."
     ]
    },
    {
     "cell_type": "code",
     "collapsed": false,
     "input": [
      "P.plot(psr.toas()[i]/365.25,d[i,1],'-x'); P.hold(True)\n",
      "P.plot(psr.toas()[i]/365.25,d[i,2],'-x')"
     ],
     "language": "python",
     "metadata": {},
     "outputs": [
      {
       "output_type": "pyout",
       "prompt_number": 39,
       "text": [
        "[<matplotlib.lines.Line2D at 0x10f6eb510>]"
       ]
      },
      {
       "output_type": "display_data",
       "png": "[encoded data removed]"
      }
     ],
     "prompt_number": 39
    },
    {
     "cell_type": "markdown",
     "metadata": {},
     "source": [
      "It's easy to save the current timing-model to a new par file. Omitting the argument will overwrite the original parfile."
     ]
    },
    {
     "cell_type": "code",
     "collapsed": false,
     "input": [
      "psr.savepar('./foo.par')"
     ],
     "language": "python",
     "metadata": {},
     "outputs": [],
     "prompt_number": 7
    },
    {
     "cell_type": "code",
     "collapsed": false,
     "input": [
      "!head foo.par"
     ],
     "language": "python",
     "metadata": {},
     "outputs": [
      {
       "output_type": "stream",
       "stream": "stdout",
       "text": [
        "PSRJ           1909-3744\r\n",
        "RAJ             19:09:47.4380322            0.14661556419067951439   \r\n",
        "DECJ           -37:44:14.31904           1  0.00031427833336614877   \r\n",
        "F0             339.31569275868015864     1  0.00000000000254853057   \r\n",
        "F1             -1.6148003424117615251e-15 1  2.1761696247502162501e-20\r\n",
        "PEPOCH         53000                       \r\n",
        "POSEPOCH       53000                       \r\n",
        "DMEPOCH        53000                       \r\n",
        "DM             10.39468                    \r\n",
        "PMRA           -9.6131364428626348336    1  0.02187853648984239285   \r\n"
       ]
      }
     ],
     "prompt_number": 9
    },
    {
     "cell_type": "markdown",
     "metadata": {},
     "source": [
      "Planned enhancements to the module include multi-pulsar support, as well as tim-file writing. Other suggestions are welcome!"
     ]
    },
    {
     "cell_type": "code",
     "collapsed": false,
     "input": [
      "psr.savetim('./foo.tim')"
     ],
     "language": "python",
     "metadata": {},
     "outputs": [],
     "prompt_number": 4
    },
    {
     "cell_type": "code",
     "collapsed": false,
     "input": [
      "!head foo.tim"
     ],
     "language": "python",
     "metadata": {},
     "outputs": [
      {
       "output_type": "stream",
       "stream": "stdout",
       "text": [
        "FORMAT 1\r\n",
        "MODE 1\r\n",
        " 53292.000004.1.000.000.tsum 1372.00000000 53292.01653552588140172 1.23100 gbt -fe Rcvr1_2 -be GASP -B L -bw 4.0 -tobs 901.322 -pta NANOGrav -proc dfg+12 -chanid gasp_1372 \r\n",
        " 53292.000010.1.000.000.tsum 1372.00000000 53292.04810962983469835 4.66800 gbt -fe Rcvr1_2 -be GASP -B L -bw 4.0 -tobs 901.322 -pta NANOGrav -proc dfg+12 -chanid gasp_1372 \r\n",
        " 53355.000005.1.000.000.tsum 1372.00000000 53355.83359727578050169 0.45300 gbt -fe Rcvr1_2 -be GASP -B L -bw 4.0 -tobs 1081.587 -pta NANOGrav -proc dfg+12 -chanid gasp_1372 \r\n",
        " 53800.000018.1.000.000.tsum 1372.00000000 53800.48353665754979858 0.14800 gbt -fe Rcvr1_2 -be GASP -B L -bw 4.0 -tobs 3424.969 -pta NANOGrav -proc dfg+12 -chanid gasp_1372 \r\n",
        " 53838.000020.1.000.000.tsum 1372.00000000 53838.37506136744340068 0.54300 gbt -fe Rcvr1_2 -be GASP -B L -bw 4.0 -tobs 3064.446 -pta NANOGrav -proc dfg+12 -chanid gasp_1372 \r\n",
        " 53858.000028.1.000.000.tsum 1372.00000000 53858.31918408581089963 0.08900 gbt -fe Rcvr1_2 -be GASP -B L -bw 4.0 -tobs 1982.877 -pta NANOGrav -proc dfg+12 -chanid gasp_1372 \r\n",
        " 53889.000025.1.000.000.tsum 1372.00000000 53889.23934070044100153 0.07300 gbt -fe Rcvr1_2 -be GASP -B L -bw 4.0 -tobs 2703.923 -pta NANOGrav -proc dfg+12 -chanid gasp_1372 \r\n",
        " 53979.000023.1.000.000.tsum 1372.00000000 53979.98924810684179931 0.16500 gbt -fe Rcvr1_2 -be GASP -B L -bw 4.0 -tobs 2703.923 -pta NANOGrav -proc dfg+12 -chanid gasp_1372 \r\n"
       ]
      }
     ],
     "prompt_number": 9
    },
    {
     "cell_type": "markdown",
     "metadata": {},
     "source": [
      "With this interface, it's not hard to replicate some of the toasim plugin functionality. By subtracting the residuals from the site TOAs (psr.stoas, vs. the barycentered psr.toas) and refitting, we can create a \"perfect\" timing solution. (Note that 1 ns is roughly tempo2's claimed accuracy.)"
     ]
    },
    {
     "cell_type": "code",
     "collapsed": false,
     "input": [
      "print math.sqrt(N.mean(psr.residuals()**2)) / 1e-6"
     ],
     "language": "python",
     "metadata": {},
     "outputs": [
      {
       "output_type": "stream",
       "stream": "stdout",
       "text": [
        "1.6541053342\n"
       ]
      }
     ],
     "prompt_number": 56
    },
    {
     "cell_type": "code",
     "collapsed": false,
     "input": [
      "psr.stoas[:] -= psr.residuals() / 86400.0\n",
      "psr.fit()"
     ],
     "language": "python",
     "metadata": {},
     "outputs": [],
     "prompt_number": 57
    },
    {
     "cell_type": "code",
     "collapsed": false,
     "input": [
      "print math.sqrt(N.mean(psr.residuals()**2)) / 1e-6"
     ],
     "language": "python",
     "metadata": {},
     "outputs": [
      {
       "output_type": "stream",
       "stream": "stdout",
       "text": [
        "0.000201431144525\n"
       ]
      }
     ],
     "prompt_number": 58
    },
    {
     "cell_type": "markdown",
     "metadata": {},
     "source": [
      "Then we can add, e.g., homoskedastic white measurement noise at 100 ns (remember the tempo units: days for TOAs, us for errors, s for residuals)."
     ]
    },
    {
     "cell_type": "code",
     "collapsed": false,
     "input": [
      "psr.stoas[:] += 0.1e-6 * N.random.randn(psr.nobs) / 86400.0\n",
      "psr.toaerrs[:] = 0.1\n",
      "psr.fit()"
     ],
     "language": "python",
     "metadata": {},
     "outputs": [],
     "prompt_number": 62
    },
    {
     "cell_type": "code",
     "collapsed": false,
     "input": [
      "i = N.argsort(psr.toas())\n",
      "P.errorbar(psr.toas()[i],psr.residuals()[i],yerr=1e-6*psr.toaerrs[i],fmt='.')"
     ],
     "language": "python",
     "metadata": {},
     "outputs": [
      {
       "output_type": "pyout",
       "prompt_number": 63,
       "text": [
        "<Container object of 3 artists>"
       ]
      },
      {
       "output_type": "display_data",
       "png": "[encoded data removed]"
      }
     ],
     "prompt_number": 63
    }
   ],
   "metadata": {}
  }
 ]
}
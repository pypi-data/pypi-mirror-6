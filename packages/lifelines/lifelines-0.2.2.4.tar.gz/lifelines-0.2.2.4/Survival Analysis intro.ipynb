{
 "metadata": {
  "name": ""
 },
 "nbformat": 3,
 "nbformat_minor": 0,
 "worksheets": [
  {
   "cells": [
    {
     "cell_type": "markdown",
     "metadata": {},
     "source": [
      "<style>\n",
      "    @font-face {\n",
      "        font-family: \"Computer Modern\";\n",
      "        src: url('http://mirrors.ctan.org/fonts/cm-unicode/fonts/otf/cmunss.otf');\n",
      "    }\n",
      "    div.cell{\n",
      "        width:800px;\n",
      "        margin-left:16% !important;\n",
      "        margin-right:auto;\n",
      "    }\n",
      "    h1 {\n",
      "        font-family: Helvetica, serif;\n",
      "    }\n",
      "    h4{\n",
      "        margin-top:12px;\n",
      "        margin-bottom: 3px;\n",
      "       }\n",
      "    div.text_cell_render{\n",
      "        font-family: Computer Modern, \"Helvetica Neue\", Arial, Helvetica, Geneva, sans-serif;\n",
      "        line-height: 145%;\n",
      "        font-size: 130%;\n",
      "        width:800px;\n",
      "        margin-left:auto;\n",
      "        margin-right:auto;\n",
      "    }\n",
      "    .CodeMirror{\n",
      "            font-family: \"Source Code Pro\", source-code-pro,Consolas, monospace;\n",
      "    }\n",
      "    .prompt{\n",
      "        display: None;\n",
      "    }\n",
      "    .text_cell_render h5 {\n",
      "        font-weight: 300;\n",
      "        font-size: 20pt;\n",
      "        color: #4057A1;\n",
      "        font-style: italic;\n",
      "        margin-bottom: .5em;\n",
      "        margin-top: 0.5em;\n",
      "        display: block;\n",
      "    }\n",
      "    \n",
      "    .warning{\n",
      "        color: rgb( 240, 20, 20 )\n",
      "        }  \n",
      "</style>\n",
      "<script>\n",
      "    MathJax.Hub.Config({\n",
      "                        TeX: {\n",
      "                           extensions: [\"AMSmath.js\"]\n",
      "                           },\n",
      "                tex2jax: {\n",
      "                    inlineMath: [ ['$','$'], [\"\\\\(\",\"\\\\)\"] ],\n",
      "                    displayMath: [ ['$$','$$'], [\"\\\\[\",\"\\\\]\"] ]\n",
      "                },\n",
      "                displayAlign: 'center', // Change this to 'center' to center equations.\n",
      "                \"HTML-CSS\": {\n",
      "                    styles: {'.MathJax_Display': {\"margin\": 4}}\n",
      "                }\n",
      "        });\n",
      "</script>"
     ]
    },
    {
     "cell_type": "markdown",
     "metadata": {},
     "source": [
      "#*lifelines* \n",
      "##### Introduction to Survival Analysis\n",
      "\n",
      "The [*lifelines*](https://github.com/CamDavidsonPilon/lifelines) library provides a powerful tool to data analysts and statisticians looking for methods to solve a common problem:\n",
      "\n",
      "> How do I predict durations?\n",
      "\n",
      "This question seems very vague and abstract, but that's only because we can be so general in this space. Some more specific questions *lifelines* will help you answer are:\n",
      "\n",
      "> How long can I expect a user to be on my service?\n",
      "> Which treatment group takes longer to complete an action?\n",
      "> When is the next event likely to happen?\n",
      "> Which factors influence durations of events?\n",
      "\n",
      "The statistical tool that answers these questions is survival analysis. *lifelines* is a implementation of survival analysis in Python. What benefits does *lifelines* offer over other survival analysis implementations:\n",
      "\n",
      "- built ontop of Pandas\n",
      "- internal plotting library\n",
      "- simple and intuitive classes and functions (*designed for humans*)\n",
      "- only does surival analysis! (No unnecessary features or second-class implentations)\n",
      "\n",
      "\n",
      "Below is an example of what we can produce with *lifelines*:\n",
      "\n",
      "<img src=\"http://i.imgur.com/QXW71zA.png\" width=800 />"
     ]
    },
    {
     "cell_type": "code",
     "collapsed": false,
     "input": [
      "#run me too!\n",
      "import numpy as np\n",
      "figsize(12.5,5)\n",
      "np.set_printoptions(precision=2,  suppress=True) "
     ],
     "language": "python",
     "metadata": {},
     "outputs": [],
     "prompt_number": 1
    },
    {
     "cell_type": "markdown",
     "metadata": {},
     "source": [
      "## Quick intro to Survival Analysis\n",
      "\n",
      "Traditionally, survival analysis was developed to measure lifespans of individuals. An actuary or health professional would ask questions like \"how long does this population live for, that is, how long between birth and death?\", and answer it using survival analysis. For example, the population may be a nation's population (for actuaries), or a population sticken by a disease (in the medical professional's case). Traditionally, sort of a morbid subject. \n",
      "\n",
      "The anaylsis can be further applied to not just traditional *births and deaths*, but any duration. Medical professional might be interested in the *time between childbirths*, where a birth in this case is the event of having a child , and a death is becoming pregnant again! (obviously, we are loose with our definitions of *birth and death*) Another example is users subscribing to a service: a birth is a user who joins the service, and a death is when the user leaves the service. \n",
      "\n",
      "### Censorship\n",
      "\n",
      "What makes measuring durations difficult is the time itself. At the time you want to make inferences about durations, it is possible, likely true, that not all the death events have occured yet. For example, a medical professional will not wait 50 years for each individual in the study to pass away before investigating -- he or she is interested in the effectiveness of improving lifetimes after only a few years. \n",
      "\n",
      "The individuals in a population who have not been subject to the death event are labeled as *right-censored*: all the information we have on these individuals are their current lifetime durations (which is naturally *less* than their actual lifetimes). \n",
      "\n",
      "> Note: there is also left-censorship, where an individuals birth event is not seen. *lifelines* only has estimators for the right-censorship case.\n",
      "\n",
      "A common mistake data analysts make is simply choosing to ignore the right-censored individuals. We'll shall see why this is a mistake next:\n",
      "\n",
      "Consider a case where the population is actually made up of two subpopulations, $A$ and $B$. Population $A$ has a very low lifespan, say 2 time intervals on average, and population $B$ enjoys a much large lifespan, say 12 time intervals on average. Of course, we do not know this distinction before hand. At $t=10$, we wish to investigate the average lifespan. Below is an example of such a situation."
     ]
    },
    {
     "cell_type": "code",
     "collapsed": false,
     "input": [
      "figsize(12.5,6)\n",
      "\n",
      "from lifelines.plotting import plot_lifetimes\n",
      "from numpy.random import uniform, exponential\n",
      "\n",
      "N = 25\n",
      "current_time = 10\n",
      "actual_lifetimes = np.array([[exponential(12), exponential(2)][uniform()<0.5] for i in range(N)])\n",
      "observed_lifetimes = np.minimum(actual_lifetimes,current_time)\n",
      "observed= actual_lifetimes < current_time\n",
      "\n",
      "plt.xlim(0,25)\n",
      "plt.vlines(10,0,30,lw=2, linestyles=\"--\")\n",
      "plt.xlabel('time')\n",
      "plt.title('Births and deaths of our population, at $t=10$')\n",
      "plot_lifetimes(observed_lifetimes, censorship=observed)\n",
      "print \"Observed lifetimes at time %d:\\n\"%(current_time), observed_lifetimes"
     ],
     "language": "python",
     "metadata": {},
     "outputs": [
      {
       "metadata": {},
       "output_type": "display_data",
       "png": "[encoded data removed]",
       "text": [
        "<matplotlib.figure.Figure at 0x106b17850>"
       ]
      },
      {
       "output_type": "stream",
       "stream": "stdout",
       "text": [
        "Observed lifetimes at time 10:\n",
        "[ 10.     1.1    8.    10.     3.43   0.63   6.28   1.03   2.37   6.17  10.\n",
        "   0.21   2.71   1.25  10.     3.4    0.62   1.94   0.22   7.43   6.16  10.\n",
        "   9.41  10.    10.  ]\n"
       ]
      }
     ],
     "prompt_number": 3
    },
    {
     "cell_type": "markdown",
     "metadata": {},
     "source": [
      "The red lines denote the lifespan of individuals where the death event has been observed, and the blue lines denote the lifespan of the right-censored individuals (deaths have not been observed). If we are asked to estimate the average lifetime of our population, and we naivly decided to *not* included the right-censored individuals, it is clear that we would be serverly underestimating the true average lifespan. \n",
      "\n",
      "\n",
      "Furthermore, if we instead simply took the mean of *all* observed lifespans, including the current lifespans of right-censored instances, we would *still* be underestimating the true average lifespan. Below we plot the actual lifetimes of all instances (recall we do not see this information at $t=10$)."
     ]
    },
    {
     "cell_type": "code",
     "collapsed": false,
     "input": [
      "plt.xlim(0,25)\n",
      "plt.vlines(10,0,30,lw=2,linestyles=\"--\")\n",
      "plot_lifetimes(actual_lifetimes, censorship=observed)"
     ],
     "language": "python",
     "metadata": {},
     "outputs": [
      {
       "metadata": {},
       "output_type": "display_data",
       "png": "[encoded data removed]",
       "text": [
        "<matplotlib.figure.Figure at 0x106529150>"
       ]
      }
     ],
     "prompt_number": 4
    },
    {
     "cell_type": "markdown",
     "metadata": {},
     "source": [
      "Survival analysis was originally developed to solve this type of problem, that is, to deal with estimation when our data is right-censored. But even in the case where all events have been observed, i.e. no censorship, survival analysis is also a very useful too to understand times and durations.\n",
      "\n",
      "The observations need not always start at zero, either. This was done only for understanding in the above example. In the service example, where a customer joining is a birth, a customer can enter observation at any time, and not necessarily at time zero. In survival analysis, all times are relative: although individuals may start at different times, we set them all to start at a single time and record durations from there. (We actually only need to *duration* of the observation, and not the start and end time.)\n",
      "\n",
      "We next introduce the two fundamental objects in survival analysis, the *survival function* and the *hazard function*."
     ]
    },
    {
     "cell_type": "markdown",
     "metadata": {},
     "source": [
      "-------\n",
      "\n",
      "### Survival function\n",
      "\n",
      "Let $T$ be the (possibly infinite, but always positive) random duration taken from the population under observation. For example, the amount of time a couple is married. Or the time it takes a user to enter a webpage (and infinite time if they never do).  The survival function, $S(t)$, of a population is defined as \n",
      "\n",
      "$$ S(t) = Pr( T > t) $$\n",
      "\n",
      "i.e., the probability the death event has not occured yet at time $t$, or equivalently, the probability of surviving until time $T$. Note the following properties of the survival function:\n",
      "\n",
      "2. $0 \\le S(t) \\le 1$\n",
      "1. $S(0) = 1$\n",
      "2. $F_T(t) = 1 - S(t)$, where $F_T(t)$ is the cumulative density function of $T$, which implies \n",
      "4.  $f_T(t) = -S'(t) $\n",
      "\n",
      "### Hazard curve\n",
      "\n",
      "We are also interested in the probability of dying in the next instant, given we haven't expired yet. Mathematically, that is:\n",
      "\n",
      "$$ \\lim_{\\delta t \\rightarrow 0 } \\; Pr( t \\le T \\le t + \\delta t | T > t) $$\n",
      "\n",
      "This quantity goes to 0 as $\\delta t$ shrinks, so we divide this by the interval $\\delta t$ (sorta like we do in calculus). This defines the hazard function at time $t$, $\\lambda(t)$:\n",
      "\n",
      "$$\\lambda(t) =  \\lim_{\\delta t \\rightarrow 0 } \\; \\frac{Pr( t \\le T \\le t + \\delta t | T > t)}{\\delta t} $$\n",
      "\n",
      "It can be shown with quite elementary probability that this is equal to:\n",
      "\n",
      "$$\\lambda(t) = \\frac{-S'(t)}{S(t)}$$\n",
      "\n",
      "and solving this differential equation (yes, it is a differential equation), we get:\n",
      "\n",
      "$$S(t) = \\exp\\left( -\\int_0^t \\lambda(z) dz \\right)$$\n",
      "\n",
      "\n",
      "What I love about the above equation is that it defines **all** survival functions, and because the hazard function is arbitrary (i.e. there is no parametric form), the entire function is non-parametric (this allows for very flexible curves). Notice that we can now speak either about the survival function, $S(t)$, or the hazard function, $\\lambda(t)$, and we can convert back and forth quite easily. It also gives us another, albeit not very useful, expression for $T$: Upon differentiation and some algebra, we recover:\n",
      "\n",
      "$$f_T(t) = \\lambda(t)\\exp\\left( \\int_0^t \\lambda(z) dz \\right)$$\n",
      "\n",
      "Of course, we do not observe the true survival curve of a population. We must use the observed data to estimate it. We also want to continue to be non-parametric, that is not assume anything more about how the survival curve looks. The *best* method to recreate the survival function non-parametrically from the data is known as the Kaplan-Meier estimate. \n",
      "\n",
      "### Conclusion\n",
      "\n",
      "That's all for this notebook on an very simple introduction to survival analysis. Next, [use this notebook](http://nbviewer.ipython.org/github/CamDavidsonPilon/lifelines/blob/master/notebooks/Intro%20to%20lifelines.ipynb) on how to use *lifelines* to use data to estimate survival functions and hazards curves.\n"
     ]
    },
    {
     "cell_type": "code",
     "collapsed": false,
     "input": [],
     "language": "python",
     "metadata": {},
     "outputs": []
    }
   ],
   "metadata": {}
  }
 ]
}
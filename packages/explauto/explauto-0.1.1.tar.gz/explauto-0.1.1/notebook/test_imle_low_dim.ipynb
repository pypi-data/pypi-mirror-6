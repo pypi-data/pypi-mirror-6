{
 "metadata": {
  "name": "test_imle_low_dim"
 },
 "nbformat": 3,
 "nbformat_minor": 0,
 "worksheets": [
  {
   "cells": [
    {
     "cell_type": "code",
     "collapsed": false,
     "input": [
      "import sys\n",
      "\n",
      "sys.path.append('../imleSource/python/')\n",
      "sys.path.append('../imleSource/build/lib/')\n",
      "sys.path.append('../')"
     ],
     "language": "python",
     "metadata": {},
     "outputs": [],
     "prompt_number": 1
    },
    {
     "cell_type": "code",
     "collapsed": false,
     "input": [
      "import imle"
     ],
     "language": "python",
     "metadata": {},
     "outputs": [],
     "prompt_number": 2
    },
    {
     "cell_type": "code",
     "collapsed": false,
     "input": [
      "noise_value=0.3"
     ],
     "language": "python",
     "metadata": {},
     "outputs": [],
     "prompt_number": 3
    },
    {
     "cell_type": "code",
     "collapsed": false,
     "input": [
      "model = imle.Imle(in_ndims=1, out_ndims=1, alpha=0.995,Psi0=[noise_value**2] * 1, sigma0=(pi/2)**2, wsigma=1**1, wSigma=1**1, wNu=1,wLambda=0.1, wPsi=1, p0=0.1, multiValuedSignificance=0.8, nSolMax=6)"
     ],
     "language": "python",
     "metadata": {},
     "outputs": [],
     "prompt_number": 4
    },
    {
     "cell_type": "code",
     "collapsed": false,
     "input": [
      "z_train=arange(-2*pi, 2*pi, 0.1)\n",
      "z_train.shape=(max(z_train.shape),1)"
     ],
     "language": "python",
     "metadata": {},
     "outputs": [],
     "prompt_number": 5
    },
    {
     "cell_type": "code",
     "collapsed": false,
     "input": [
      "x_train=cos(z_train)+noise_value*rand(*z_train.shape)"
     ],
     "language": "python",
     "metadata": {},
     "outputs": [],
     "prompt_number": 6
    },
    {
     "cell_type": "code",
     "collapsed": false,
     "input": [
      "data=hstack((z_train, x_train))\n",
      "shuffle(data)\n",
      "z_train=data[:,0:1]\n",
      "x_train=data[:,1:2]\n",
      "z_train.shape"
     ],
     "language": "python",
     "metadata": {},
     "outputs": [
      {
       "output_type": "pyout",
       "prompt_number": 7,
       "text": [
        "(126, 1)"
       ]
      }
     ],
     "prompt_number": 7
    },
    {
     "cell_type": "code",
     "collapsed": false,
     "input": [
      "for i, (z, x) in enumerate(zip(z_train, x_train)):\n",
      "    if i % 1000 == 0:\n",
      "        print i\n",
      "    \n",
      "    model.update(z, x)"
     ],
     "language": "python",
     "metadata": {},
     "outputs": [
      {
       "output_type": "stream",
       "stream": "stdout",
       "text": [
        "0\n"
       ]
      }
     ],
     "prompt_number": 8
    },
    {
     "cell_type": "code",
     "collapsed": false,
     "input": [
      "print model.number_of_experts"
     ],
     "language": "python",
     "metadata": {},
     "outputs": [
      {
       "output_type": "stream",
       "stream": "stdout",
       "text": [
        "4\n"
       ]
      }
     ],
     "prompt_number": 9
    },
    {
     "cell_type": "code",
     "collapsed": false,
     "input": [
      "mu=array([model.get_joint_mu(e) for e in range(model.number_of_experts)])\n",
      "mu.shape"
     ],
     "language": "python",
     "metadata": {},
     "outputs": [
      {
       "output_type": "pyout",
       "prompt_number": 10,
       "text": [
        "(4, 2)"
       ]
      }
     ],
     "prompt_number": 10
    },
    {
     "cell_type": "code",
     "collapsed": false,
     "input": [
      "COLORS = ['r', 'g', 'b', 'k', 'm']*10"
     ],
     "language": "python",
     "metadata": {},
     "outputs": [],
     "prompt_number": 11
    },
    {
     "cell_type": "code",
     "collapsed": false,
     "input": [
      "goal = [0.9]\n",
      "clf()\n",
      "a=subplot(211)\n",
      "a.plot(z_train.T,x_train.T, 'xb')\n",
      "a.plot(mu[:,0], mu[:,1],'ob')\n",
      "gmm=model.to_gmm()\n",
      "els = gmm.get_display_ellipses2D(COLORS)\n",
      "for el in els:\n",
      "    a.add_patch(el)\n",
      "axis('tight')\n",
      "\n",
      "m = arange(-2*pi, 2*pi, 0.1).reshape(1,-1)\n",
      "distr=zeros_like(m)\n",
      "means, covars, weights = model.predict_inverse(goal)\n",
      "for k, w in enumerate(weights):\n",
      "    distr += w * normpdf(m, means[k,:], sqrt(covars[k, :, :]))\n",
      "#a=subplot(212)\n",
      "a.plot(m.flatten(), 4.*distr.flatten()+goal)\n",
      "gmm_inf = model.to_gmm().inference([1], [0], goal)\n",
      "distr=zeros_like(m)\n",
      "for k, (weights_gmm, means_gmm, covars_gmm) in enumerate(gmm_inf):\n",
      "    distr += weights_gmm * normpdf(m, means_gmm, sqrt(covars_gmm))\n",
      "a.plot(m.flatten(), 4.*distr.flatten()+goal)\n",
      "axis('tight')\n",
      "show()\n",
      "#for goal in arange(-8,3,0.05):\n",
      "#    sols=model.predict([goal])\n",
      "    #plot(tile(goal,[sols.shape[0],1]), sols, 'or')"
     ],
     "language": "python",
     "metadata": {},
     "outputs": [],
     "prompt_number": 12
    },
    {
     "cell_type": "code",
     "collapsed": false,
     "input": [
      "means, covars, weights = model.predict_inverse([0.4])"
     ],
     "language": "python",
     "metadata": {},
     "outputs": [],
     "prompt_number": 17
    },
    {
     "cell_type": "code",
     "collapsed": false,
     "input": [
      "model.get_lambda(model.number_of_experts-1)"
     ],
     "language": "python",
     "metadata": {},
     "outputs": [
      {
       "output_type": "pyout",
       "prompt_number": 19,
       "text": [
        "array([[-0.75801645]])"
       ]
      }
     ],
     "prompt_number": 19
    },
    {
     "cell_type": "code",
     "collapsed": false,
     "input": [
      "[model.get_joint_mu(k) for k in range(model.number_of_experts)]"
     ],
     "language": "python",
     "metadata": {},
     "outputs": [
      {
       "output_type": "pyout",
       "prompt_number": 24,
       "text": [
        "[array([ 4.71240021,  0.15918875]),\n",
        " array([ 1.68510268,  0.08764933]),\n",
        " array([-1.46112322,  0.22074227]),\n",
        " array([-4.75804539,  0.19760951])]"
       ]
      }
     ],
     "prompt_number": 24
    },
    {
     "cell_type": "code",
     "collapsed": false,
     "input": [
      "[model.get_joint_sigma(k) for k in range(model.number_of_experts)]"
     ],
     "language": "python",
     "metadata": {},
     "outputs": [
      {
       "output_type": "pyout",
       "prompt_number": 25,
       "text": [
        "[array([[ 0.83054086,  0.64791346],\n",
        "       [ 0.64791346,  0.52290162]]),\n",
        " array([[ 0.66359601, -0.54606667],\n",
        "       [-0.54606667,  0.46295038]]),\n",
        " array([[ 0.76210424,  0.5926644 ],\n",
        "       [ 0.5926644 ,  0.47751602]]),\n",
        " array([[ 0.91927999, -0.69682935],\n",
        "       [-0.69682935,  0.54289648]])]"
       ]
      }
     ],
     "prompt_number": 25
    },
    {
     "cell_type": "code",
     "collapsed": false,
     "input": [
      "COLORS = ['r', 'g', 'b', 'k', 'm']"
     ],
     "language": "python",
     "metadata": {},
     "outputs": [],
     "prompt_number": 17
    },
    {
     "cell_type": "code",
     "collapsed": false,
     "input": [
      "a=subplot(111)\n",
      "els = gmm.get_display_ellipses2D(COLORS)\n",
      "for el in els:\n",
      "    a.add_patch(el)\n",
      "axis([-10,10,-4,4])"
     ],
     "language": "python",
     "metadata": {},
     "outputs": [
      {
       "output_type": "pyout",
       "prompt_number": 22,
       "text": [
        "[-10, 10, -4, 4]"
       ]
      },
      {
       "output_type": "display_data",
       "png": "[encoded data removed]"
      }
     ],
     "prompt_number": 22
    },
    {
     "cell_type": "code",
     "collapsed": false,
     "input": [
      "gca().add_patch(el)"
     ],
     "language": "python",
     "metadata": {},
     "outputs": [
      {
       "output_type": "pyout",
       "prompt_number": 22,
       "text": [
        "<matplotlib.patches.Ellipse at 0x38910d0>"
       ]
      },
      {
       "output_type": "display_data",
       "png": "[encoded data removed]"
      }
     ],
     "prompt_number": 22
    },
    {
     "cell_type": "code",
     "collapsed": false,
     "input": [
      "import test_inf_gmm"
     ],
     "language": "python",
     "metadata": {},
     "outputs": []
    },
    {
     "cell_type": "code",
     "collapsed": false,
     "input": [
      "%run test_inf_gmm"
     ],
     "language": "python",
     "metadata": {},
     "outputs": []
    },
    {
     "cell_type": "code",
     "collapsed": false,
     "input": [
      "%run ../test_inf_gmm.py"
     ],
     "language": "python",
     "metadata": {},
     "outputs": [
      {
       "output_type": "display_data",
       "png": "[encoded data removed]"
      }
     ],
     "prompt_number": 111
    },
    {
     "cell_type": "code",
     "collapsed": false,
     "input": [
      "from sklearn.mixture import GMM"
     ],
     "language": "python",
     "metadata": {},
     "outputs": []
    },
    {
     "cell_type": "code",
     "collapsed": false,
     "input": [
      "GMM(n_components=3, co)"
     ],
     "language": "python",
     "metadata": {},
     "outputs": []
    },
    {
     "cell_type": "code",
     "collapsed": false,
     "input": [
      "del GMM"
     ],
     "language": "python",
     "metadata": {},
     "outputs": []
    },
    {
     "cell_type": "code",
     "collapsed": false,
     "input": [],
     "language": "python",
     "metadata": {},
     "outputs": []
    },
    {
     "cell_type": "code",
     "collapsed": false,
     "input": [],
     "language": "python",
     "metadata": {},
     "outputs": []
    }
   ],
   "metadata": {}
  }
 ]
}
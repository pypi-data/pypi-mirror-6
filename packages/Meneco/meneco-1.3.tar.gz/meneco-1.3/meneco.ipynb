{
 "metadata": {
  "name": "meneco"
 },
 "nbformat": 3,
 "nbformat_minor": 0,
 "worksheets": [
  {
   "cells": [
    {
     "cell_type": "heading",
     "level": 1,
     "metadata": {},
     "source": "Meneco Preview"
    },
    {
     "cell_type": "markdown",
     "metadata": {},
     "source": "This notebook is a preview demo of [meneco](https://pypi.python.org/pypi/meneco/) combined with the [IPython](http://ipython.org/) interactive environment.   "
    },
    {
     "cell_type": "markdown",
     "metadata": {},
     "source": "You can read a draft network from an sbml file and convert it into logic facts"
    },
    {
     "cell_type": "code",
     "collapsed": false,
     "input": "from pyasp.asp import *\nimport urllib2\nfrom __meneco__ import query, utils, sbml\n \ndraft_sbml= urllib2.urlopen('http://www.cs.uni-potsdam.de/~sthiele/bioasp/downloads/samples/ectodata/ectocyc.sbml')\ndraftnet = sbml.readSBMLnetwork(draft_sbml, 'draft')    ",
     "language": "python",
     "metadata": {},
     "outputs": [],
     "prompt_number": 15
    },
    {
     "cell_type": "markdown",
     "metadata": {},
     "source": "Reading seeds"
    },
    {
     "cell_type": "code",
     "collapsed": false,
     "input": "seeds_sbml = urllib2.urlopen('http://www.cs.uni-potsdam.de/~sthiele/bioasp/downloads/samples/ectodata/seeds.sbml')\nseeds = sbml.readSBMLseeds(seeds_sbml)",
     "language": "python",
     "metadata": {},
     "outputs": [],
     "prompt_number": 27
    },
    {
     "cell_type": "markdown",
     "metadata": {},
     "source": "Reading targets"
    },
    {
     "cell_type": "code",
     "collapsed": false,
     "input": "targets_sbml = urllib2.urlopen('http://www.cs.uni-potsdam.de/~sthiele/bioasp/downloads/samples/ectodata/targets.sbml')\ntargets = sbml.readSBMLtargets(targets_sbml)",
     "language": "python",
     "metadata": {},
     "outputs": [],
     "prompt_number": 13
    },
    {
     "cell_type": "markdown",
     "metadata": {},
     "source": "You can check the draft network for unproducible targets ..."
    },
    {
     "cell_type": "code",
     "collapsed": false,
     "input": "unproducible = query.get_unproducible(draftnet, targets, seeds)\nutils.print_met(unproducible.to_list())",
     "language": "python",
     "metadata": {},
     "outputs": [
      {
       "output_type": "stream",
       "stream": "stdout",
       "text": "  \"PRO\"\n  \"CYS\"\n  \"STEARIC_ACID\"\n  \"D__45__ALANINE\"\n  \"LYS\"\n  \"CPD__45__8121\"\n  \"L__45__ORNITHINE\"\n  \"SUC\"\n  \"LEU\"\n  \"THR\"\n  \"ARACHIDIC_ACID\"\n  \"VAL\"\n  \"CPD__45__13814\"\n  \"MET\"\n  \"ILE\"\n  \"GLYCERATE\"\n  \"PHE\"\n  \"GLYCOLLATE\"\n  \"ARACHIDONIC_ACID\"\n  \"CPD__45__8120\"\n  \"ARG\"\n  \"TYR\"\n  \"PALMITATE\"\n  \"SER\"\n  \"GLT\"\n  \"GLC\"\n  \"GLY\"\n  \"GLN\"\n  \"_5Z8Z11Z14Z17Z__45__EICOSAPENTAENOATE\"\n  \"CPD__45__8117\"\n  \"CIT\"\n  \"_4__45__AMINO__45__BUTYRATE\"\n  \"LINOLENIC_ACID\"\n  \"CPD__45__14292\"\n  \"CPD__45__9247\"\n  \"THREO__45__DS__45__ISO__45__CITRATE\"\n  \"GLUTATHIONE\"\n  \"ASN\"\n  \"LINOLEIC_ACID\"\n  \"TRP\"\n  \"L__45__ASPARTATE\"\n  \"DOCOSANOATE\"\n  \"HOMO__45__SER\"\n  \"HIS\"\n  \"CPD__45__7836\"\n  \"MANNITOL\"\n  \"L__45__ALPHA__45__ALANINE\"\n  \"GLYCEROL\"\n  \"OLEATE__45__CPD\"\n  \"CPD__45__9245\"\n  \"CPD__45__8119\"\n"
      }
     ],
     "prompt_number": 28
    },
    {
     "cell_type": "markdown",
     "metadata": {},
     "source": "You can read a reaction data base like metacyc ..."
    },
    {
     "cell_type": "code",
     "collapsed": false,
     "input": "repair_sbml = urllib2.urlopen('http://www.cs.uni-potsdam.de/~sthiele/bioasp/downloads/samples/ectodata/metacyc_16-5.sbml')\nrepairnet = sbml.readSBMLnetwork(repair_sbml, 'repairnet')",
     "language": "python",
     "metadata": {},
     "outputs": [
      {
       "output_type": "stream",
       "stream": "stdout",
       "text": "\n Warning: RXN__45__13206 listOfProducts=None\n"
      }
     ],
     "prompt_number": 22
    },
    {
     "cell_type": "markdown",
     "metadata": {},
     "source": "and check for which targets producibilty can be restored ..."
    },
    {
     "cell_type": "code",
     "collapsed": false,
     "input": "repairable = unproducible - query.get_unproducible(draftnet.union(repairnet), targets, seeds)\nutils.print_met(repairable)",
     "language": "python",
     "metadata": {},
     "outputs": [
      {
       "output_type": "stream",
       "stream": "stdout",
       "text": "  \"PRO\"\n  \"CYS\"\n  \"GLC\"\n  \"STEARIC_ACID\"\n  \"D__45__ALANINE\"\n  \"L__45__ASPARTATE\"\n  \"CPD__45__8121\"\n  \"L__45__ORNITHINE\"\n  \"SUC\"\n  \"LEU\"\n  \"THR\"\n  \"ARACHIDIC_ACID\"\n  \"VAL\"\n  \"MET\"\n  \"ILE\"\n  \"GLYCERATE\"\n  \"PHE\"\n  \"GLYCOLLATE\"\n  \"ARACHIDONIC_ACID\"\n  \"CPD__45__8120\"\n  \"ARG\"\n  \"CIT\"\n  \"PALMITATE\"\n  \"SER\"\n  \"GLT\"\n  \"TYR\"\n  \"GLY\"\n  \"GLN\"\n  \"_5Z8Z11Z14Z17Z__45__EICOSAPENTAENOATE\"\n  \"CPD__45__8117\"\n  \"LYS\"\n  \"_4__45__AMINO__45__BUTYRATE\"\n  \"LINOLENIC_ACID\"\n  \"CPD__45__9247\"\n  \"THREO__45__DS__45__ISO__45__CITRATE\"\n  \"GLUTATHIONE\"\n  \"ASN\"\n  \"LINOLEIC_ACID\"\n  \"TRP\"\n  \"HOMO__45__SER\"\n  \"HIS\"\n  \"CPD__45__7836\"\n  \"MANNITOL\"\n  \"L__45__ALPHA__45__ALANINE\"\n  \"GLYCEROL\"\n  \"OLEATE__45__CPD\"\n  \"CPD__45__9245\"\n"
      }
     ],
     "prompt_number": 36
    },
    {
     "cell_type": "markdown",
     "metadata": {},
     "source": "and for which not ..."
    },
    {
     "cell_type": "code",
     "collapsed": false,
     "input": "not_repairable = unproducible - repairable\nutils.print_met(not_repairable)",
     "language": "python",
     "metadata": {},
     "outputs": [
      {
       "output_type": "stream",
       "stream": "stdout",
       "text": "  \"DOCOSANOATE\"\n  \"CPD__45__13814\"\n  \"CPD__45__8119\"\n  \"CPD__45__14292\"\n"
      }
     ],
     "prompt_number": 38
    },
    {
     "cell_type": "markdown",
     "metadata": {},
     "source": "You can compute the essential reactions for every repairable target ..."
    },
    {
     "cell_type": "code",
     "collapsed": false,
     "input": "essential_reactions = TermSet()\nfor t in repairable:\n      single_target = TermSet()\n      single_target.add(t)\n      print '\\nComputing essential reactions for',t,'...',\n      essentials =  query.get_intersection_of_completions(draftnet, repairnet, seeds, single_target)\n      print 'done.'\n      print ' ',len(essentials), 'essential reactions found:'\n      utils.print_met(essentials.to_list())\n      essential_reactions = essential_reactions.union(essentials)\nutils.print_met(essential_reactions)",
     "language": "python",
     "metadata": {},
     "outputs": [
      {
       "output_type": "stream",
       "stream": "stdout",
       "text": "\nComputing essential reactions for unproducible_target(\"PRO\") ... "
      },
      {
       "output_type": "stream",
       "stream": "stdout",
       "text": "done.\n  0 essential reactions found:\n\nComputing essential reactions for unproducible_target(\"CYS\") ... "
      },
      {
       "output_type": "stream",
       "stream": "stdout",
       "text": "done.\n  0 essential reactions found:\n\nComputing essential reactions for unproducible_target(\"GLC\") ... "
      },
      {
       "output_type": "stream",
       "stream": "stdout",
       "text": "done.\n  0 essential reactions found:\n\nComputing essential reactions for unproducible_target(\"STEARIC_ACID\") ... "
      },
      {
       "output_type": "stream",
       "stream": "stdout",
       "text": "done.\n  0 essential reactions found:\n\nComputing essential reactions for unproducible_target(\"D__45__ALANINE\") ... "
      },
      {
       "output_type": "stream",
       "stream": "stdout",
       "text": "done.\n  0 essential reactions found:\n\nComputing essential reactions for unproducible_target(\"L__45__ASPARTATE\") ... "
      },
      {
       "output_type": "stream",
       "stream": "stdout",
       "text": "done.\n  0 essential reactions found:\n\nComputing essential reactions for unproducible_target(\"CPD__45__8121\") ... "
      },
      {
       "output_type": "stream",
       "stream": "stdout",
       "text": "done.\n  0 essential reactions found:\n\nComputing essential reactions for unproducible_target(\"L__45__ORNITHINE\") ... "
      },
      {
       "output_type": "stream",
       "stream": "stdout",
       "text": "done.\n  0 essential reactions found:\n\nComputing essential reactions for unproducible_target(\"SUC\") ... "
      },
      {
       "output_type": "stream",
       "stream": "stdout",
       "text": "done.\n  0 essential reactions found:\n\nComputing essential reactions for unproducible_target(\"LEU\") ... "
      },
      {
       "output_type": "stream",
       "stream": "stdout",
       "text": "done.\n  0 essential reactions found:\n\nComputing essential reactions for unproducible_target(\"THR\") ... "
      },
      {
       "output_type": "stream",
       "stream": "stdout",
       "text": "done.\n  0 essential reactions found:\n\nComputing essential reactions for unproducible_target(\"ARACHIDIC_ACID\") ... "
      },
      {
       "output_type": "stream",
       "stream": "stdout",
       "text": "done.\n  0 essential reactions found:\n\nComputing essential reactions for unproducible_target(\"VAL\") ... "
      },
      {
       "output_type": "stream",
       "stream": "stdout",
       "text": "done.\n  0 essential reactions found:\n\nComputing essential reactions for unproducible_target(\"MET\") ... "
      },
      {
       "output_type": "stream",
       "stream": "stdout",
       "text": "done.\n  0 essential reactions found:\n\nComputing essential reactions for unproducible_target(\"ILE\") ... "
      },
      {
       "output_type": "stream",
       "stream": "stdout",
       "text": "done.\n  0 essential reactions found:\n\nComputing essential reactions for unproducible_target(\"GLYCERATE\") ... "
      },
      {
       "output_type": "stream",
       "stream": "stdout",
       "text": "done.\n  0 essential reactions found:\n\nComputing essential reactions for unproducible_target(\"PHE\") ... "
      },
      {
       "output_type": "stream",
       "stream": "stdout",
       "text": "done.\n  0 essential reactions found:\n\nComputing essential reactions for unproducible_target(\"GLYCOLLATE\") ... "
      },
      {
       "output_type": "stream",
       "stream": "stdout",
       "text": "done.\n  0 essential reactions found:\n\nComputing essential reactions for unproducible_target(\"ARACHIDONIC_ACID\") ... "
      },
      {
       "output_type": "stream",
       "stream": "stdout",
       "text": "done.\n  0 essential reactions found:\n\nComputing essential reactions for unproducible_target(\"CPD__45__8120\") ... "
      },
      {
       "output_type": "stream",
       "stream": "stdout",
       "text": "done.\n  0 essential reactions found:\n\nComputing essential reactions for unproducible_target(\"ARG\") ... "
      },
      {
       "output_type": "stream",
       "stream": "stdout",
       "text": "done.\n  0 essential reactions found:\n\nComputing essential reactions for unproducible_target(\"CIT\") ... "
      },
      {
       "output_type": "stream",
       "stream": "stdout",
       "text": "done.\n  0 essential reactions found:\n\nComputing essential reactions for unproducible_target(\"PALMITATE\") ... "
      },
      {
       "output_type": "stream",
       "stream": "stdout",
       "text": "done.\n  0 essential reactions found:\n\nComputing essential reactions for unproducible_target(\"SER\") ... "
      },
      {
       "output_type": "stream",
       "stream": "stdout",
       "text": "done.\n  0 essential reactions found:\n\nComputing essential reactions for unproducible_target(\"GLT\") ... "
      },
      {
       "output_type": "stream",
       "stream": "stdout",
       "text": "done.\n  0 essential reactions found:\n\nComputing essential reactions for unproducible_target(\"TYR\") ... "
      },
      {
       "output_type": "stream",
       "stream": "stdout",
       "text": "done.\n  0 essential reactions found:\n\nComputing essential reactions for unproducible_target(\"GLY\") ... "
      },
      {
       "output_type": "stream",
       "stream": "stdout",
       "text": "done.\n  0 essential reactions found:\n\nComputing essential reactions for unproducible_target(\"GLN\") ... "
      },
      {
       "output_type": "stream",
       "stream": "stdout",
       "text": "done.\n  0 essential reactions found:\n\nComputing essential reactions for unproducible_target(\"_5Z8Z11Z14Z17Z__45__EICOSAPENTAENOATE\") ... "
      },
      {
       "output_type": "stream",
       "stream": "stdout",
       "text": "done.\n  0 essential reactions found:\n\nComputing essential reactions for unproducible_target(\"CPD__45__8117\") ... "
      },
      {
       "output_type": "stream",
       "stream": "stdout",
       "text": "done.\n  0 essential reactions found:\n\nComputing essential reactions for unproducible_target(\"LYS\") ... "
      },
      {
       "output_type": "stream",
       "stream": "stdout",
       "text": "done.\n  0 essential reactions found:\n\nComputing essential reactions for unproducible_target(\"_4__45__AMINO__45__BUTYRATE\") ... "
      },
      {
       "output_type": "stream",
       "stream": "stdout",
       "text": "done.\n  0 essential reactions found:\n\nComputing essential reactions for unproducible_target(\"LINOLENIC_ACID\") ... "
      }
     ],
     "prompt_number": "*"
    },
    {
     "cell_type": "markdown",
     "metadata": {},
     "source": "You can compute a completion of minimal size suitable to produce all targets ..."
    },
    {
     "cell_type": "code",
     "collapsed": false,
     "input": "optimum, models =  query.get_minimal_completion_size(draftnet, repairnet, seeds, reconstructable_targets)\nprint '  minimal size =',optimum[0]\nutils.print_met(models[0].to_list())",
     "language": "python",
     "metadata": {},
     "outputs": [],
     "prompt_number": "*"
    },
    {
     "cell_type": "code",
     "collapsed": false,
     "input": "",
     "language": "python",
     "metadata": {},
     "outputs": []
    }
   ],
   "metadata": {}
  }
 ]
}
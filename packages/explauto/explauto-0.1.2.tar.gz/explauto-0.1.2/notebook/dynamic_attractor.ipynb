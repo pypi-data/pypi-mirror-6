{
 "metadata": {
  "name": "",
  "signature": "sha256:7b8107c83e3f97b121b8e15569586af811f6025bebb720655d8f67965667dbdf"
 },
 "nbformat": 3,
 "nbformat_minor": 0,
 "worksheets": [
  {
   "cells": [
    {
     "cell_type": "code",
     "collapsed": false,
     "input": [
      "%pylab"
     ],
     "language": "python",
     "metadata": {},
     "outputs": [
      {
       "output_type": "stream",
       "stream": "stdout",
       "text": [
        "Using matplotlib backend: TkAgg\n",
        "Populating the interactive namespace from numpy and matplotlib\n"
       ]
      }
     ],
     "prompt_number": 1
    },
    {
     "cell_type": "code",
     "collapsed": false,
     "input": [
      "from explauto.social import DynamicAttractor"
     ],
     "language": "python",
     "metadata": {},
     "outputs": [],
     "prompt_number": 2
    },
    {
     "cell_type": "code",
     "collapsed": false,
     "input": [
      "model = DynamicAttractor(ndims=2, n_components=7, dt=1.0, kv=1.0, kp=0.16, min_covar=1e-4)"
     ],
     "language": "python",
     "metadata": {},
     "outputs": [],
     "prompt_number": 3
    },
    {
     "cell_type": "code",
     "collapsed": false,
     "input": [
      "#demo_pos = load('../data/baxter/demo_0_pos')[:, -2].reshape(-1, 1)\n",
      "#demo_spd = load('../data/baxter/demo_0_speed')[:, -2].reshape(-1, 1)\n",
      "from scipy.io import loadmat\n",
      "demo = loadmat('../data/baxter/data.mat')['Data'].T\n",
      "demo_pos = demo[:,:2]\n",
      "demo_spd = demo[:,2:]"
     ],
     "language": "python",
     "metadata": {},
     "outputs": [],
     "prompt_number": 4
    },
    {
     "cell_type": "code",
     "collapsed": false,
     "input": [
      "data = hstack((demo_pos, demo_spd))"
     ],
     "language": "python",
     "metadata": {},
     "outputs": [],
     "prompt_number": 5
    },
    {
     "cell_type": "code",
     "collapsed": false,
     "input": [
      "model.fit(data)"
     ],
     "language": "python",
     "metadata": {},
     "outputs": [],
     "prompt_number": 6
    },
    {
     "cell_type": "code",
     "collapsed": false,
     "input": [
      "demo[:10,:]"
     ],
     "language": "python",
     "metadata": {},
     "outputs": [
      {
       "metadata": {},
       "output_type": "pyout",
       "prompt_number": 15,
       "text": [
        "array([[ -6.46090640e-02,  -6.75921709e-02,   1.23372707e-05,\n",
        "          1.99151356e-03],\n",
        "       [ -6.46302722e-02,  -6.52640832e-02,   3.35087799e-05,\n",
        "          2.05871314e-03],\n",
        "       [ -6.46178794e-02,  -6.30595355e-02,   4.89941998e-05,\n",
        "          2.19549292e-03],\n",
        "       [ -6.45737764e-02,  -6.07518544e-02,   5.81701962e-05,\n",
        "          2.33832702e-03],\n",
        "       [ -6.45036528e-02,  -5.83548498e-02,   6.23051866e-05,\n",
        "          2.48819457e-03],\n",
        "       [ -6.44117962e-02,  -5.58397405e-02,   6.24267865e-05,\n",
        "          2.63978867e-03],\n",
        "       [ -6.43012413e-02,  -5.32153130e-02,   5.89374908e-05,\n",
        "          2.79330338e-03],\n",
        "       [ -6.41750044e-02,  -5.04961687e-02,   5.18827629e-05,\n",
        "          2.94865559e-03],\n",
        "       [ -6.40367520e-02,  -4.76738272e-02,   4.12620965e-05,\n",
        "          3.10579832e-03],\n",
        "       [ -6.38967554e-02,  -4.47134542e-02,   2.73177125e-05,\n",
        "          3.26383530e-03]])"
       ]
      }
     ],
     "prompt_number": 15
    },
    {
     "cell_type": "code",
     "collapsed": false,
     "input": [
      "m = model.gmm.means_[2,:]\n",
      "print m"
     ],
     "language": "python",
     "metadata": {},
     "outputs": [
      {
       "output_type": "stream",
       "stream": "stdout",
       "text": [
        "[-0.06470193 -0.0397686  -0.00014323  0.0031827 ]\n"
       ]
      }
     ],
     "prompt_number": 17
    },
    {
     "cell_type": "code",
     "collapsed": false,
     "input": [
      "demo_acc = diff(demo_spd[:100,:], axis=0) / 0.01"
     ],
     "language": "python",
     "metadata": {},
     "outputs": [],
     "prompt_number": 22
    },
    {
     "cell_type": "code",
     "collapsed": false,
     "input": [
      "A = hstack(( (demo_pos[:10, 0].reshape(-1,1) - m[0]), (demo_spd[:10, 0].reshape(-1,1) - m[2]), demo_acc[:10, 0].reshape(-1,1) ))"
     ],
     "language": "python",
     "metadata": {},
     "outputs": [],
     "prompt_number": 24
    },
    {
     "cell_type": "code",
     "collapsed": false,
     "input": [
      "B = zeros(3)"
     ],
     "language": "python",
     "metadata": {},
     "outputs": [],
     "prompt_number": 32
    },
    {
     "cell_type": "code",
     "collapsed": false,
     "input": [
      "from numpy.linalg import lstsq"
     ],
     "language": "python",
     "metadata": {},
     "outputs": [],
     "prompt_number": 27
    },
    {
     "cell_type": "code",
     "collapsed": false,
     "input": [
      "print A.shape, B.shape"
     ],
     "language": "python",
     "metadata": {},
     "outputs": [
      {
       "output_type": "stream",
       "stream": "stdout",
       "text": [
        "(10, 3) (3, 1)\n"
       ]
      }
     ],
     "prompt_number": 29
    },
    {
     "cell_type": "code",
     "collapsed": false,
     "input": [
      "X = lstsq(A.T, B)"
     ],
     "language": "python",
     "metadata": {},
     "outputs": [],
     "prompt_number": 33
    },
    {
     "cell_type": "code",
     "collapsed": false,
     "input": [
      "print X"
     ],
     "language": "python",
     "metadata": {},
     "outputs": [
      {
       "output_type": "stream",
       "stream": "stdout",
       "text": [
        "(array([ 0.,  0.,  0.,  0.,  0.,  0.,  0.,  0.,  0.,  0.]), array([], dtype=float64), 3, array([ 0.0038647 ,  0.00119379,  0.0002028 ]))\n"
       ]
      }
     ],
     "prompt_number": 34
    },
    {
     "cell_type": "code",
     "collapsed": false,
     "input": [
      "pos_0 = array([-0.04, -0.08]) #demo_pos[0,:]\n",
      "spd_0 = array([0., 0.]) #demo_spd[0,:]"
     ],
     "language": "python",
     "metadata": {},
     "outputs": [],
     "prompt_number": 8
    },
    {
     "cell_type": "code",
     "collapsed": false,
     "input": [
      "proj = [0,1]\n",
      "n = 500\n",
      "def simulate(kv, kp, dt):\n",
      "    model.kv, model.kp, model.dt = kv, kp, dt\n",
      "    l = zeros((n, 2*model.ndims))\n",
      "    pos, spd = pos_0, spd_0\n",
      "    for i in range(n):\n",
      "        #print pos, spd\n",
      "        #print model.gmm.predict(hstack((pos, spd)).reshape(1, -1))\n",
      "        l[i, :] = hstack((pos, spd))\n",
      "        pos, spd = model.command(pos, spd)\n",
      "        ax = subplot(111)\n",
      "        plot(l[:,proj[0]], l[:,proj[1]], 'rx')\n",
      "        model.gmm.plotProjection(ax, proj)\n",
      "        axis('equal')  \n",
      "        #show()\n",
      "        \n",
      "from IPython.html.widgets import interact\n",
      "interact(simulate, kv=(0.01, 2.), kp=(0.01, 2.), dt=(0.01, 1.))"
     ],
     "language": "python",
     "metadata": {},
     "outputs": [
      {
       "metadata": {},
       "output_type": "display_data",
       "png": "[encoded data removed]",
       "text": [
        "<matplotlib.figure.Figure at 0x14765250>"
       ]
      }
     ],
     "prompt_number": 16
    },
    {
     "cell_type": "code",
     "collapsed": false,
     "input": [
      "l = []\n",
      "pos, spd = pos_0, spd_0\n",
      "for _ in range(1000):\n",
      "    l.append(hstack((pos, spd)))\n",
      "    pos, spd = model.command(pos, spd)"
     ],
     "language": "python",
     "metadata": {},
     "outputs": [],
     "prompt_number": 9
    },
    {
     "cell_type": "code",
     "collapsed": false,
     "input": [
      "clf()\n",
      "proj = [0,1]\n",
      "plot(data[:,proj[0]], data[:,proj[1]], 'x')"
     ],
     "language": "python",
     "metadata": {},
     "outputs": [
      {
       "metadata": {},
       "output_type": "pyout",
       "prompt_number": 10,
       "text": [
        "[<matplotlib.lines.Line2D at 0x4c17590>]"
       ]
      }
     ],
     "prompt_number": 10
    },
    {
     "cell_type": "code",
     "collapsed": false,
     "input": [
      "l = array(l)\n",
      "plot(l[:,proj[0]], l[:,proj[1]], 'rx')"
     ],
     "language": "python",
     "metadata": {},
     "outputs": [
      {
       "metadata": {},
       "output_type": "pyout",
       "prompt_number": 11,
       "text": [
        "[<matplotlib.lines.Line2D at 0x4fc4dd0>]"
       ]
      }
     ],
     "prompt_number": 11
    },
    {
     "cell_type": "code",
     "collapsed": false,
     "input": [
      "\n",
      "ax = subplot(111)\n",
      "model.gmm.plotProjection(ax, proj)\n",
      "axis('equal')"
     ],
     "language": "python",
     "metadata": {},
     "outputs": [
      {
       "metadata": {},
       "output_type": "pyout",
       "prompt_number": 12,
       "text": [
        "(-0.10000000000000001,\n",
        " 0.079999999999999988,\n",
        " -0.10000000000000001,\n",
        " 0.079999999999999988)"
       ]
      }
     ],
     "prompt_number": 12
    },
    {
     "cell_type": "code",
     "collapsed": false,
     "input": [
      "%debug"
     ],
     "language": "python",
     "metadata": {},
     "outputs": [
      {
       "output_type": "stream",
       "stream": "stdout",
       "text": [
        "> \u001b[1;32m/home/clement/Documents/Boulot/INRIA_FLOWERS/CODE/explauto/explauto/models/gmminf.py\u001b[0m(186)\u001b[0;36mplotProjection\u001b[1;34m()\u001b[0m\n",
        "\u001b[1;32m    185 \u001b[1;33m        \u001b[1;32mfor\u001b[0m \u001b[0mk\u001b[0m\u001b[1;33m,\u001b[0m \u001b[1;33m(\u001b[0m\u001b[0mw\u001b[0m\u001b[1;33m,\u001b[0m \u001b[0mm\u001b[0m\u001b[1;33m,\u001b[0m \u001b[0mc\u001b[0m\u001b[1;33m)\u001b[0m \u001b[1;32min\u001b[0m \u001b[0menumerate\u001b[0m\u001b[1;33m(\u001b[0m\u001b[0mself\u001b[0m\u001b[1;33m)\u001b[0m\u001b[1;33m:\u001b[0m\u001b[1;33m\u001b[0m\u001b[0m\n",
        "\u001b[0m\u001b[1;32m--> 186 \u001b[1;33m            \u001b[0max\u001b[0m\u001b[1;33m.\u001b[0m\u001b[0mtext\u001b[0m\u001b[1;33m(\u001b[0m \u001b[1;33m*\u001b[0m \u001b[0mtuple\u001b[0m\u001b[1;33m(\u001b[0m\u001b[0mm\u001b[0m\u001b[1;33m)\u001b[0m\u001b[1;33m,\u001b[0m \u001b[0ms\u001b[0m\u001b[1;33m=\u001b[0m\u001b[0mstr\u001b[0m\u001b[1;33m(\u001b[0m\u001b[0mk\u001b[0m\u001b[1;33m)\u001b[0m\u001b[1;33m)\u001b[0m\u001b[1;33m\u001b[0m\u001b[0m\n",
        "\u001b[0m\u001b[1;32m    187 \u001b[1;33m        \u001b[1;32mif\u001b[0m \u001b[0mlabel\u001b[0m\u001b[1;33m:\u001b[0m\u001b[1;33m\u001b[0m\u001b[0m\n",
        "\u001b[0m\n"
       ]
      },
      {
       "name": "stdout",
       "output_type": "stream",
       "stream": "stdout",
       "text": [
        "ipdb> tuple(m)\n"
       ]
      },
      {
       "output_type": "stream",
       "stream": "stdout",
       "text": [
        "(-0.018662600785411619, -0.0059875940165678449, 0.0005979100287518748, 0.001152362553226303)\n"
       ]
      }
     ]
    },
    {
     "cell_type": "code",
     "collapsed": false,
     "input": [
      "model.gmm.predict_proba(hstack((pos, spd)).reshape(1,-1))"
     ],
     "language": "python",
     "metadata": {},
     "outputs": [
      {
       "metadata": {},
       "output_type": "pyout",
       "prompt_number": 93,
       "text": [
        "array([[  1.00000000e+000,   2.83469526e-135,   0.00000000e+000,\n",
        "          0.00000000e+000,   0.00000000e+000,   8.37628501e-014,\n",
        "          3.48121227e-211,   0.00000000e+000,   0.00000000e+000,\n",
        "          0.00000000e+000]])"
       ]
      }
     ],
     "prompt_number": 93
    },
    {
     "cell_type": "code",
     "collapsed": false,
     "input": [
      "import pdb"
     ],
     "language": "python",
     "metadata": {},
     "outputs": [],
     "prompt_number": 56
    },
    {
     "cell_type": "code",
     "collapsed": false,
     "input": [
      "pos, spd = array([0.11]), array([-0.75])\n",
      "print pos, spd\n",
      "pdb.run('pos, spd = model.command(pos, spd)')"
     ],
     "language": "python",
     "metadata": {},
     "outputs": [
      {
       "output_type": "stream",
       "stream": "stdout",
       "text": [
        "[ 0.11] [-0.75]\n",
        "> <string>(1)<module>()\n"
       ]
      },
      {
       "name": "stdout",
       "output_type": "stream",
       "stream": "stdout",
       "text": [
        "(Pdb) s\n"
       ]
      },
      {
       "output_type": "stream",
       "stream": "stdout",
       "text": [
        "--Call--\n",
        "> /home/clement/Documents/Boulot/INRIA_FLOWERS/CODE/explauto/explauto/social/dynamic_attractor.py(30)command()\n",
        "-> def command(self, pos, spd):\n"
       ]
      },
      {
       "name": "stdout",
       "output_type": "stream",
       "stream": "stdout",
       "text": [
        "(Pdb) n\n"
       ]
      },
      {
       "output_type": "stream",
       "stream": "stdout",
       "text": [
        "> /home/clement/Documents/Boulot/INRIA_FLOWERS/CODE/explauto/explauto/social/dynamic_attractor.py(31)command()\n",
        "-> des_pos, des_spd = self.next_state(pos, spd)\n"
       ]
      },
      {
       "name": "stdout",
       "output_type": "stream",
       "stream": "stdout",
       "text": [
        "(Pdb) s\n"
       ]
      },
      {
       "output_type": "stream",
       "stream": "stdout",
       "text": [
        "--Call--\n",
        "> /home/clement/Documents/Boulot/INRIA_FLOWERS/CODE/explauto/explauto/social/dynamic_attractor.py(13)next_state()\n",
        "-> def next_state(self, pos, spd):\n"
       ]
      },
      {
       "name": "stdout",
       "output_type": "stream",
       "stream": "stdout",
       "text": [
        "(Pdb) n\n"
       ]
      },
      {
       "output_type": "stream",
       "stream": "stdout",
       "text": [
        "> /home/clement/Documents/Boulot/INRIA_FLOWERS/CODE/explauto/explauto/social/dynamic_attractor.py(14)next_state()\n",
        "-> h = self.gmm.predict_proba(hstack((pos, spd)).reshape(1, -1))\n"
       ]
      },
      {
       "name": "stdout",
       "output_type": "stream",
       "stream": "stdout",
       "text": [
        "(Pdb) n\n"
       ]
      },
      {
       "output_type": "stream",
       "stream": "stdout",
       "text": [
        "> /home/clement/Documents/Boulot/INRIA_FLOWERS/CODE/explauto/explauto/social/dynamic_attractor.py(17)next_state()\n",
        "-> next_pos = zeros(self.ndims)\n"
       ]
      },
      {
       "name": "stdout",
       "output_type": "stream",
       "stream": "stdout",
       "text": [
        "(Pdb) p h\n"
       ]
      },
      {
       "output_type": "stream",
       "stream": "stdout",
       "text": [
        "array([[  2.17521078e-181,   8.63156862e-030,   1.49975349e-060,\n",
        "          6.00913508e-001,   2.69556468e-203,   6.42285340e-323,\n",
        "          3.99086492e-001,   0.00000000e+000,   3.85720677e-047,\n",
        "          3.17190857e-018]])\n"
       ]
      },
      {
       "name": "stdout",
       "output_type": "stream",
       "stream": "stdout",
       "text": [
        "(Pdb) q\n"
       ]
      }
     ],
     "prompt_number": 57
    },
    {
     "cell_type": "code",
     "collapsed": false,
     "input": [
      "pos"
     ],
     "language": "python",
     "metadata": {},
     "outputs": [
      {
       "metadata": {},
       "output_type": "pyout",
       "prompt_number": 15,
       "text": [
        "array([ 0.12361074, -0.67168325, -0.00178049,  0.82364956,  0.05704114,\n",
        "        1.17724591, -0.06029244])"
       ]
      }
     ],
     "prompt_number": 15
    },
    {
     "cell_type": "code",
     "collapsed": false,
     "input": [],
     "language": "python",
     "metadata": {},
     "outputs": []
    }
   ],
   "metadata": {}
  }
 ]
}
{
 "metadata": {
  "name": "demo-recording"
 },
 "nbformat": 3,
 "nbformat_minor": 0,
 "worksheets": [
  {
   "cells": [
    {
     "cell_type": "code",
     "collapsed": false,
     "input": [
      "import sys\n",
      "\n",
      "sys.path.append('..')"
     ],
     "language": "python",
     "metadata": {},
     "outputs": [],
     "prompt_number": 1
    },
    {
     "cell_type": "code",
     "collapsed": false,
     "input": [
      "from skel_xp_torso import Torso"
     ],
     "language": "python",
     "metadata": {},
     "outputs": [],
     "prompt_number": 2
    },
    {
     "cell_type": "code",
     "collapsed": false,
     "input": [
      "torso = Torso(os='linux', opti_addr='193.50.110.196')"
     ],
     "language": "python",
     "metadata": {},
     "outputs": [],
     "prompt_number": 3
    },
    {
     "cell_type": "code",
     "collapsed": false,
     "input": [
      "for m in torso.robot.motors:\n",
      "    m.compliant = False\n",
      "    \n",
      "for m in torso.robot.left_arm:\n",
      "    m.compliant = True"
     ],
     "language": "python",
     "metadata": {},
     "outputs": [],
     "prompt_number": 7
    },
    {
     "cell_type": "code",
     "collapsed": false,
     "input": [
      "import pypot.primitive\n",
      "\n",
      "class ArmCopyMode(pypot.primitive.LoopPrimitive):\n",
      "    def update(self):\n",
      "        self.robot.right_shoulder_pan.goal_position = -self.robot.left_shoulder_pan.present_position\n",
      "        self.robot.right_shoulder_twist.goal_position = self.robot.left_shoulder_twist.present_position\n",
      "        self.robot.right_shoulder_lift.goal_position = -self.robot.left_shoulder_lift.present_position\n",
      "        self.robot.right_elbow_twist.goal_position = self.robot.left_elbow_twist.present_position\n",
      "        self.robot.right_elbow_lift.goal_position = -self.robot.left_elbow_lift.present_position\n",
      "        self.robot.right_wrist.goal_position = self.robot.left_wrist.present_position\n",
      "        \n",
      "class PosRecorder(pypot.primitive.LoopPrimitive):\n",
      "    def __init__(self, robot, freq, torso):\n",
      "        pypot.primitive.LoopPrimitive.__init__(self, robot, freq)\n",
      "        self._data = []\n",
      "        self.torso = torso\n",
      "        \n",
      "    @property\n",
      "    def data(self):\n",
      "        return array(self._data)\n",
      "    \n",
      "    def update(self):\n",
      "        self._data.append(hstack((self.torso.right_q, self.torso.right_hand_position)))"
     ],
     "language": "python",
     "metadata": {},
     "outputs": [],
     "prompt_number": 5
    },
    {
     "cell_type": "code",
     "collapsed": false,
     "input": [
      "arm_copy = ArmCopyMode(torso.robot, 50)\n",
      "arm_copy.start()"
     ],
     "language": "python",
     "metadata": {},
     "outputs": [],
     "prompt_number": 8
    },
    {
     "cell_type": "code",
     "collapsed": false,
     "input": [
      "pos_recorder = PosRecorder(torso.robot, 10, torso)\n",
      "pos_recorder.start()"
     ],
     "language": "python",
     "metadata": {},
     "outputs": [],
     "prompt_number": 9
    },
    {
     "cell_type": "code",
     "collapsed": false,
     "input": [
      "pos_recorder.stop()"
     ],
     "language": "python",
     "metadata": {},
     "outputs": [],
     "prompt_number": 10
    },
    {
     "cell_type": "code",
     "collapsed": false,
     "input": [
      "save('clement.npy', pos_recorder.data)"
     ],
     "language": "python",
     "metadata": {},
     "outputs": [],
     "prompt_number": 13
    },
    {
     "cell_type": "code",
     "collapsed": false,
     "input": [],
     "language": "python",
     "metadata": {},
     "outputs": []
    }
   ],
   "metadata": {}
  }
 ]
}
{
 "metadata": {
  "name": ""
 },
 "nbformat": 3,
 "nbformat_minor": 0,
 "worksheets": [
  {
   "cells": [
    {
     "cell_type": "markdown",
     "metadata": {},
     "source": [
      "Scikit-mcquad tutorial\n",
      "======================\n",
      "\n",
      "`scikit-mcquad` is a toolkit for Monte Carlo integration. It is written in Cython for efficiency and includes parallelism to take advantage of processors with multiple core. \n",
      "\n",
      "`scikit-mcquad` is designed to be easy to use. Let's suppose that we want to calculate $\\int_0^1 \\int_0^1 x \\cdot y \\, dx dy$: "
     ]
    },
    {
     "cell_type": "code",
     "collapsed": false,
     "input": [
      "from skmcquad import mcquad\n",
      "mcquad(lambda (x,y): x*y,xl=[0.,0.],xu=[1.,1.],npoints=100000)"
     ],
     "language": "python",
     "metadata": {},
     "outputs": [
      {
       "metadata": {},
       "output_type": "pyout",
       "prompt_number": 4,
       "text": [
        "(0.24959359250821114, 0.0006965923631156234)"
       ]
      }
     ],
     "prompt_number": 4
    },
    {
     "cell_type": "markdown",
     "metadata": {},
     "source": [
      "`mcquad` returns two numbers. The first (0.2496...) is the value of the integral. The second is the estimate in the error (corresponding, roughly, to one standard deviation). Note that the correct answer in this case is $1/4$.\n",
      "\n",
      "Complex integration volumes\n",
      "---------------------------\n",
      "\n",
      "Monte Carlo integration is very useful when calculating integrals over complicated integration volumes. Consider this integration volume:"
     ]
    },
    {
     "cell_type": "markdown",
     "metadata": {},
     "source": [
      "$image[\"ring.pdf\"]\n",
      "\n",
      "which is the intersection of a ring bounded by circles of size 2 and 3, and a large square.\n",
      "\n",
      "The volume of integration $\\Omega$ is given by the following three inequalities:\n",
      "\n",
      " * $\\sqrt{x^2 + y^2} \\ge 2$ : inner circle\n",
      " * $\\sqrt{x^2 + y^2} \\le 3$ : outer circle\n",
      " * $x \\ge 1$ : left border of box\n",
      " * $y \\ge -2$ : top border of box\n",
      "\n",
      "Suppose that we want to find the integral of $f(x,y)$ over this region. We can re-cast the integral over $\\Omega$ as an integral over a box that completely encompasses $\\Omega$. In this case, the smallest box to contain $\\Omega$ starts has bottom left corner $(1,-2)$ and top right corner $(3,3)$. Then:\n",
      "\n",
      "$\\iint_\\Omega f(x,y) \\, dx dy = \\int_{-2}^3 \\int_1^3 g(x,y) \\,dx dy$\n",
      "\n",
      "where\n",
      "\n",
      "$g(x,y) = \\left\\{ \\begin{array}{l l}f(x,y) & (x,y) \\in \\Omega \\\\ 0 & \\mathrm{otherwise}\\end{array}\\right.$\n",
      "\n",
      "To give a concrete example, let's take $f(x,y) = y^2$."
     ]
    },
    {
     "cell_type": "code",
     "collapsed": false,
     "input": [
      "import numpy as np\n",
      "\n",
      "def f((x,y)):\n",
      "    return y**2\n",
      "\n",
      "def g((x,y)):\n",
      "    \"\"\"\n",
      "    The function over which we want to integrate.\n",
      "    \n",
      "    This function must take a single argument, which can\n",
      "    be a list or a tuple or a numpy array. The argument\n",
      "    defines a point.\n",
      "    \"\"\"\n",
      "    r = np.sqrt(x**2 + y**2)\n",
      "    if r >= 2. and r <= 3. and x >= 1. and y >= -2.:\n",
      "        # (x,y) in correct volume\n",
      "        return f((x,y))\n",
      "    else:\n",
      "        return 0."
     ],
     "language": "python",
     "metadata": {},
     "outputs": [],
     "prompt_number": 15
    },
    {
     "cell_type": "markdown",
     "metadata": {},
     "source": [
      "To speed up the calculation, we can run the integration in parallel. This is done by passing an `nprocs` keyword argument (note that this only results in a speedup on a multi-core processor):"
     ]
    },
    {
     "cell_type": "code",
     "collapsed": false,
     "input": [
      "from skmcquad import mcquad\n",
      "mcquad(g,npoints=100000,xl=[1.,-2.],xu=[3.,3.],nprocs=4)"
     ],
     "language": "python",
     "metadata": {},
     "outputs": [
      {
       "metadata": {},
       "output_type": "pyout",
       "prompt_number": 13,
       "text": [
        "(9.9161745618624231, 0.049412524880183335)"
       ]
      }
     ],
     "prompt_number": 13
    },
    {
     "cell_type": "markdown",
     "metadata": {},
     "source": [
      "This is how the points were distributed."
     ]
    }
   ],
   "metadata": {}
  }
 ]
}
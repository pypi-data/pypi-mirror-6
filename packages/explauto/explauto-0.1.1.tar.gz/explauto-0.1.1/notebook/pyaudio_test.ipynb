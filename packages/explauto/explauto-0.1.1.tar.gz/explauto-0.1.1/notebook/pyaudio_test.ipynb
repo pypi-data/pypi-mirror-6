{
 "metadata": {
  "name": "",
  "signature": "sha256:5cbc5906bf809707aea61175ceab09e1c4303fc1963b7503b9d0566dae3d4e88"
 },
 "nbformat": 3,
 "nbformat_minor": 0,
 "worksheets": [
  {
   "cells": [
    {
     "cell_type": "code",
     "collapsed": false,
     "input": [
      "%pylab\n",
      "ion()"
     ],
     "language": "python",
     "metadata": {},
     "outputs": [
      {
       "output_type": "stream",
       "stream": "stdout",
       "text": [
        "Using matplotlib backend: TkAgg\n",
        "Populating the interactive namespace from numpy and matplotlib\n"
       ]
      }
     ],
     "prompt_number": 1
    },
    {
     "cell_type": "code",
     "collapsed": false,
     "input": [
      "import pyaudio"
     ],
     "language": "python",
     "metadata": {},
     "outputs": [],
     "prompt_number": 2
    },
    {
     "cell_type": "code",
     "collapsed": false,
     "input": [
      "from explauto.environment import Environment\n",
      "from explauto.environment.diva.diva import DivaSynth\n",
      "sample_rate = 11025\n",
      "synth = DivaSynth('../../DIVAsimulink/', sample_rate)\n",
      "from multiprocessing import Process, Queue, log_to_stderr, get_logger, SUBDEBUG\n",
      "import logging"
     ],
     "language": "python",
     "metadata": {},
     "outputs": [],
     "prompt_number": 2
    },
    {
     "cell_type": "code",
     "collapsed": false,
     "input": [
      "logging.basicConfig(filename='example.log', filemode='w', level=SUBDEBUG)"
     ],
     "language": "python",
     "metadata": {},
     "outputs": [],
     "prompt_number": 3
    },
    {
     "cell_type": "code",
     "collapsed": false,
     "input": [
      "art_size = 100\n",
      "smp_size = synth.sound_wave(0.5*ones((13, art_size))).shape[0]"
     ],
     "language": "python",
     "metadata": {},
     "outputs": [
      {
       "output_type": "stream",
       "stream": "stdout",
       "text": [
        "11025\n"
       ]
      }
     ],
     "prompt_number": 4
    },
    {
     "cell_type": "code",
     "collapsed": false,
     "input": [
      "sys.path.append('../../')"
     ],
     "language": "python",
     "metadata": {},
     "outputs": [],
     "prompt_number": 49
    },
    {
     "cell_type": "code",
     "collapsed": false,
     "input": [
      "from im_learning.agent.motor_primitive import MovementPrimitive"
     ],
     "language": "python",
     "metadata": {},
     "outputs": [],
     "prompt_number": 50
    },
    {
     "cell_type": "code",
     "collapsed": false,
     "input": [
      "mp = MovementPrimitive(1., 4, 1./art_size)"
     ],
     "language": "python",
     "metadata": {},
     "outputs": [],
     "prompt_number": 51
    },
    {
     "cell_type": "code",
     "collapsed": false,
     "input": [
      "art = 0.7 * ones((13, art_size))"
     ],
     "language": "python",
     "metadata": {},
     "outputs": [],
     "prompt_number": 52
    },
    {
     "cell_type": "code",
     "collapsed": false,
     "input": [
      "art[0, : ] = mp.trajectory([0., 0.], [80., -100., 60., -40.])[:, 0]"
     ],
     "language": "python",
     "metadata": {},
     "outputs": [],
     "prompt_number": 53
    },
    {
     "cell_type": "code",
     "collapsed": false,
     "input": [
      "import time"
     ],
     "language": "python",
     "metadata": {},
     "outputs": [],
     "prompt_number": 5
    },
    {
     "cell_type": "code",
     "collapsed": false,
     "input": [
      "pa = pyaudio.PyAudio()"
     ],
     "language": "python",
     "metadata": {},
     "outputs": [],
     "prompt_number": 3
    },
    {
     "cell_type": "code",
     "collapsed": false,
     "input": [
      "stream = pa.open(format=pyaudio.paFloat32,\n",
      "                channels=1,\n",
      "                rate=44100,\n",
      "                output=True)"
     ],
     "language": "python",
     "metadata": {},
     "outputs": [],
     "prompt_number": 4
    },
    {
     "cell_type": "code",
     "collapsed": false,
     "input": [
      "plot(art[0,:])"
     ],
     "language": "python",
     "metadata": {},
     "outputs": [
      {
       "ename": "NameError",
       "evalue": "name 'art' is not defined",
       "output_type": "pyerr",
       "traceback": [
        "\u001b[1;31m---------------------------------------------------------------------------\u001b[0m\n\u001b[1;31mNameError\u001b[0m                                 Traceback (most recent call last)",
        "\u001b[1;32m<ipython-input-5-488a2e63ad6b>\u001b[0m in \u001b[0;36m<module>\u001b[1;34m()\u001b[0m\n\u001b[1;32m----> 1\u001b[1;33m \u001b[0mplot\u001b[0m\u001b[1;33m(\u001b[0m\u001b[0mart\u001b[0m\u001b[1;33m[\u001b[0m\u001b[1;36m0\u001b[0m\u001b[1;33m,\u001b[0m\u001b[1;33m:\u001b[0m\u001b[1;33m]\u001b[0m\u001b[1;33m)\u001b[0m\u001b[1;33m\u001b[0m\u001b[0m\n\u001b[0m",
        "\u001b[1;31mNameError\u001b[0m: name 'art' is not defined"
       ]
      }
     ],
     "prompt_number": 5
    },
    {
     "cell_type": "code",
     "collapsed": false,
     "input": [
      "def sound(freq):\n",
      "    stream.write(sin(freq * linspace(-2.*pi,2*pi,44100)).astype(float32).tostring())"
     ],
     "language": "python",
     "metadata": {},
     "outputs": [],
     "prompt_number": 6
    },
    {
     "cell_type": "code",
     "collapsed": false,
     "input": [
      "from IPython.html.widgets import interact"
     ],
     "language": "python",
     "metadata": {},
     "outputs": [],
     "prompt_number": 7
    },
    {
     "cell_type": "code",
     "collapsed": false,
     "input": [
      "interact(sound, freq=(400, 1000))"
     ],
     "language": "python",
     "metadata": {},
     "outputs": [
      {
       "output_type": "stream",
       "stream": "stdout",
       "text": [
        "\r"
       ]
      },
      {
       "output_type": "stream",
       "stream": "stderr",
       "text": [
        "\r"
       ]
      }
     ],
     "prompt_number": 8
    },
    {
     "cell_type": "code",
     "collapsed": false,
     "input": [
      "from itertools import cycle"
     ],
     "language": "python",
     "metadata": {},
     "outputs": [],
     "prompt_number": 5
    },
    {
     "cell_type": "code",
     "collapsed": false,
     "input": [
      "from explauto.models.gaussian import Gaussian\n",
      "def mixer(in_synth, out_stream, in_stream, _sample_size):\n",
      "    #logger = log_to_stderr()\n",
      "    #logger.setLevel(SUBDEBUG)\n",
      "    try:\n",
      "        sample_onset = _sample_size / 4\n",
      "        sample_size = _sample_size - 2*sample_onset\n",
      "        buf_size = 5\n",
      "        tail_size = sample_size / 4\n",
      "        chunk = zeros(sample_size)\n",
      "        logging.debug(\"start mixer\", exc_info=1)\n",
      "        gauss = Gaussian(array(tail_size).reshape(-1), array(tail_size).reshape(1,1)).normal(array(range(tail_size * 2)).reshape(-1,1))\n",
      "        tail = gauss[:tail_size] / (gauss[:tail_size] + gauss[:tail_size][::-1])\n",
      "        buf = zeros((buf_size, sample_size))\n",
      "        window = ones(sample_size)\n",
      "        window[:tail_size] = tail\n",
      "        window[-tail_size:] = tail[::-1]\n",
      "        logging.debug(\"start mixer 2\", exc_info=1)\n",
      "        \n",
      "        for k in range(buf_size):\n",
      "            logging.warning(\"k\")\n",
      "            xx = in_synth.get()\n",
      "            if xx == 'kill':\n",
      "                return\n",
      "            else:\n",
      "                buf[k, :] = xx[sample_onset:-sample_onset]\n",
      "        for k in cycle(range(buf_size)):\n",
      "            if in_synth.empty():\n",
      "                buf[k, :] = buf[k-1, :]\n",
      "            else:\n",
      "                logging.debug(\"new synth chunk\", exc_info=1)\n",
      "                xx = in_synth.get()\n",
      "                if xx == 'kill':\n",
      "                    return\n",
      "                else:\n",
      "                    buf[k, :] = xx[sample_onset:-sample_onset]\n",
      "            chunk = buf[k-1,:] * window\n",
      "            chunk[:tail_size] += buf[k-2, -tail_size:] * tail[::-1]\n",
      "            chunk[-tail_size:] += buf[k, :tail_size] * tail\n",
      "            chunk = chunk.astype(float32).tostring()\n",
      "            in_stream.get()\n",
      "            out_stream.put(chunk)\n",
      "    except:\n",
      "        logging.warning(\"except\", exc_info=1)\n",
      "        #print \"Unexpected error:\", sys.exc_info()[0]\n",
      "        raise        "
     ],
     "language": "python",
     "metadata": {},
     "outputs": [],
     "prompt_number": 6
    },
    {
     "cell_type": "code",
     "collapsed": false,
     "input": [
      "def streamer(in_q, out_q, sample_rate = 11025):\n",
      "    logging.warning(\"start streamer\")\n",
      "    #synth = diva.DivaSynth('../../DIVAsimulink/')\n",
      "    try:\n",
      "        pa = pyaudio.PyAudio()\n",
      "        stream = pa.open(format=pyaudio.paFloat32,\n",
      "                    channels=1,\n",
      "                    rate=sample_rate,\n",
      "                    output=True)\n",
      "        #out_q.put_nowait(1)\n",
      "        #stream.write(synth.sound_wave(0.5*ones((13,100))).astype(float32).tostring())\n",
      "        while True:\n",
      "            logging.debug(\"before stream get\")\n",
      "            s = in_q.get()\n",
      "            if s == 'kill':\n",
      "                return\n",
      "            logging.debug(\"after stream get\")\n",
      "            if not s:\n",
      "                return\n",
      "            stream.write(s)\n",
      "            #out_q.put(synth.sound_wave(in_q.get()).astype(float32).tostring())\n",
      "            out_q.put_nowait(1)\n",
      "    except:\n",
      "        logging.warning(\"except\", exc_info=1)\n",
      "        #print \"Unexpected error:\", sys.exc_info()[0]\n",
      "        raise         "
     ],
     "language": "python",
     "metadata": {},
     "outputs": [],
     "prompt_number": 7
    },
    {
     "cell_type": "code",
     "collapsed": false,
     "input": [
      "def ploter(in_q, ax):\n",
      "    while True:\n",
      "        art = in_q.get()\n",
      "        if art == 'kill':\n",
      "            return\n",
      "        else:\n",
      "            aud, som, vt = synth.execute(art)\n",
      "        clf()\n",
      "        ax.plot(vt.real, vt.imag)       \n",
      "        ax.axis('equal')      \n",
      "        draw()"
     ],
     "language": "python",
     "metadata": {},
     "outputs": [],
     "prompt_number": 8
    },
    {
     "cell_type": "code",
     "collapsed": false,
     "input": [
      "q_art= Queue()\n",
      "q_sound= Queue()\n",
      "q_ack_stream = Queue()\n",
      "q_synth = Queue()\n",
      "p_stream = Process(target=streamer, args=(q_sound, q_ack_stream, sample_rate))\n",
      "p_mix = Process(target=mixer, args=(q_synth, q_sound, q_ack_stream, smp_size))\n",
      "ax = subplot(111)\n",
      "p_plot = Process(target=ploter, args=(q_art,ax))\n",
      "p_stream.start()\n",
      "p_mix.start()\n",
      "#p_stream.join()\n",
      "#p_mix.exitcode?"
     ],
     "language": "python",
     "metadata": {},
     "outputs": [],
     "prompt_number": 9
    },
    {
     "cell_type": "code",
     "collapsed": false,
     "input": [
      "q_ack_stream.put(1)"
     ],
     "language": "python",
     "metadata": {},
     "outputs": [],
     "prompt_number": 10
    },
    {
     "cell_type": "code",
     "collapsed": false,
     "input": [
      "import pygame\n",
      "pygame.init()\n",
      "size = width, height = 320, 240\n",
      "speed = [2, 2]\n",
      "black = 0, 0, 0\n",
      "screen = pygame.display.set_mode(size)"
     ],
     "language": "python",
     "metadata": {},
     "outputs": [],
     "prompt_number": 11
    },
    {
     "cell_type": "code",
     "collapsed": false,
     "input": [
      "art = zeros((13,art_size))\n",
      "art[-2:, :] = 1. \n",
      "prev_x, prev_y = 0, 0\n",
      "while 1:\n",
      "    #ack_q.get()\n",
      "    for event in pygame.event.get():\n",
      "        if event.type == pygame.MOUSEMOTION: \n",
      "            x, y = pygame.mouse.get_pos()\n",
      "            art[0, :] = linspace(art[0,-1], 2. * (float(height - y) / float(height)) - 1., art_size)\n",
      "            art[2, :] = linspace(art[2,-1], 2. * (float(x) / float(width)) - 1., art_size)\n",
      "            \n",
      "            if not ((x, y) == (prev_x, prev_y)):\n",
      "                #print x, y\n",
      "                #ack_q.get()\n",
      "                #q_art.put(art[0,:])\n",
      "            aud, som, vt = synth.execute(art)\n",
      "            clf()\n",
      "            ax.plot(vt.real, vt.imag)       \n",
      "            ax.axis('equal')      \n",
      "            draw()                \n",
      "                q_synth.put(synth.sound_wave(art))\n",
      "                prev_x, prev_y = x, y"
     ],
     "language": "python",
     "metadata": {},
     "outputs": [
      {
       "output_type": "stream",
       "stream": "stdout",
       "text": [
        "11025\n",
        "11025"
       ]
      },
      {
       "output_type": "stream",
       "stream": "stdout",
       "text": [
        "\n",
        "11025"
       ]
      },
      {
       "output_type": "stream",
       "stream": "stdout",
       "text": [
        "\n",
        "11025"
       ]
      },
      {
       "output_type": "stream",
       "stream": "stdout",
       "text": [
        "\n",
        "11025"
       ]
      },
      {
       "output_type": "stream",
       "stream": "stdout",
       "text": [
        "\n",
        "11025"
       ]
      },
      {
       "output_type": "stream",
       "stream": "stdout",
       "text": [
        "\n",
        "11025"
       ]
      },
      {
       "output_type": "stream",
       "stream": "stdout",
       "text": [
        "\n",
        "11025"
       ]
      },
      {
       "output_type": "stream",
       "stream": "stdout",
       "text": [
        "\n",
        "11025"
       ]
      },
      {
       "output_type": "stream",
       "stream": "stdout",
       "text": [
        "\n"
       ]
      },
      {
       "ename": "KeyboardInterrupt",
       "evalue": "",
       "output_type": "pyerr",
       "traceback": [
        "\u001b[1;31m---------------------------------------------------------------------------\u001b[0m\n\u001b[1;31mKeyboardInterrupt\u001b[0m                         Traceback (most recent call last)",
        "\u001b[1;32m<ipython-input-12-5237ba17dfe3>\u001b[0m in \u001b[0;36m<module>\u001b[1;34m()\u001b[0m\n\u001b[0;32m      4\u001b[0m \u001b[1;32mwhile\u001b[0m \u001b[1;36m1\u001b[0m\u001b[1;33m:\u001b[0m\u001b[1;33m\u001b[0m\u001b[0m\n\u001b[0;32m      5\u001b[0m     \u001b[1;31m#ack_q.get()\u001b[0m\u001b[1;33m\u001b[0m\u001b[1;33m\u001b[0m\u001b[0m\n\u001b[1;32m----> 6\u001b[1;33m     \u001b[1;32mfor\u001b[0m \u001b[0mevent\u001b[0m \u001b[1;32min\u001b[0m \u001b[0mpygame\u001b[0m\u001b[1;33m.\u001b[0m\u001b[0mevent\u001b[0m\u001b[1;33m.\u001b[0m\u001b[0mget\u001b[0m\u001b[1;33m(\u001b[0m\u001b[1;33m)\u001b[0m\u001b[1;33m:\u001b[0m\u001b[1;33m\u001b[0m\u001b[0m\n\u001b[0m\u001b[0;32m      7\u001b[0m         \u001b[1;32mif\u001b[0m \u001b[0mevent\u001b[0m\u001b[1;33m.\u001b[0m\u001b[0mtype\u001b[0m \u001b[1;33m==\u001b[0m \u001b[0mpygame\u001b[0m\u001b[1;33m.\u001b[0m\u001b[0mMOUSEMOTION\u001b[0m\u001b[1;33m:\u001b[0m\u001b[1;33m\u001b[0m\u001b[0m\n\u001b[0;32m      8\u001b[0m             \u001b[0mx\u001b[0m\u001b[1;33m,\u001b[0m \u001b[0my\u001b[0m \u001b[1;33m=\u001b[0m \u001b[0mpygame\u001b[0m\u001b[1;33m.\u001b[0m\u001b[0mmouse\u001b[0m\u001b[1;33m.\u001b[0m\u001b[0mget_pos\u001b[0m\u001b[1;33m(\u001b[0m\u001b[1;33m)\u001b[0m\u001b[1;33m\u001b[0m\u001b[0m\n",
        "\u001b[1;31mKeyboardInterrupt\u001b[0m: "
       ]
      }
     ],
     "prompt_number": 12
    },
    {
     "cell_type": "code",
     "collapsed": false,
     "input": [
      "ax.plot(rand(), rand(),'o')"
     ],
     "language": "python",
     "metadata": {},
     "outputs": [
      {
       "metadata": {},
       "output_type": "pyout",
       "prompt_number": 14,
       "text": [
        "[<matplotlib.lines.Line2D at 0x3fc80d0>]"
       ]
      }
     ],
     "prompt_number": 14
    },
    {
     "cell_type": "code",
     "collapsed": false,
     "input": [
      "for q in [q_art, q_sound, q_synth]:\n",
      "    q.put('kill')"
     ],
     "language": "python",
     "metadata": {},
     "outputs": [],
     "prompt_number": 13
    },
    {
     "cell_type": "code",
     "collapsed": false,
     "input": [
      "art = 0.5 * ones((13,1))\n",
      "synth.sound_wave(art).shape[0] / 11025.\n",
      "#q_sound.put(synth.sound_wave(art).astype(float32).tostring())"
     ],
     "language": "python",
     "metadata": {},
     "outputs": [
      {
       "metadata": {},
       "output_type": "pyout",
       "prompt_number": 20,
       "text": [
        "0.005079365079365079"
       ]
      }
     ],
     "prompt_number": 20
    },
    {
     "cell_type": "code",
     "collapsed": false,
     "input": [
      "buf[0,:]"
     ],
     "language": "python",
     "metadata": {},
     "outputs": [
      {
       "metadata": {},
       "output_type": "pyout",
       "prompt_number": 14,
       "text": [
        "array([ 0.,  0.,  0., ...,  0.,  0.,  0.])"
       ]
      }
     ],
     "prompt_number": 14
    },
    {
     "cell_type": "code",
     "collapsed": false,
     "input": [
      "q_synth.get(False)"
     ],
     "language": "python",
     "metadata": {},
     "outputs": [
      {
       "ename": "Empty",
       "evalue": "",
       "output_type": "pyerr",
       "traceback": [
        "\u001b[0;31m---------------------------------------------------------------------------\u001b[0m\n\u001b[0;31mEmpty\u001b[0m                                     Traceback (most recent call last)",
        "\u001b[0;32m<ipython-input-34-3bb9e589998a>\u001b[0m in \u001b[0;36m<module>\u001b[0;34m()\u001b[0m\n\u001b[0;32m----> 1\u001b[0;31m \u001b[0mq_synth\u001b[0m\u001b[0;34m.\u001b[0m\u001b[0mget\u001b[0m\u001b[0;34m(\u001b[0m\u001b[0mFalse\u001b[0m\u001b[0;34m)\u001b[0m\u001b[0;34m\u001b[0m\u001b[0m\n\u001b[0m",
        "\u001b[0;32m/usr/lib/python2.7/multiprocessing/queues.pyc\u001b[0m in \u001b[0;36mget\u001b[0;34m(self, block, timeout)\u001b[0m\n\u001b[1;32m    132\u001b[0m                         \u001b[0;32mraise\u001b[0m \u001b[0mEmpty\u001b[0m\u001b[0;34m\u001b[0m\u001b[0m\n\u001b[1;32m    133\u001b[0m                 \u001b[0;32melif\u001b[0m \u001b[0;32mnot\u001b[0m \u001b[0mself\u001b[0m\u001b[0;34m.\u001b[0m\u001b[0m_poll\u001b[0m\u001b[0;34m(\u001b[0m\u001b[0;34m)\u001b[0m\u001b[0;34m:\u001b[0m\u001b[0;34m\u001b[0m\u001b[0m\n\u001b[0;32m--> 134\u001b[0;31m                     \u001b[0;32mraise\u001b[0m \u001b[0mEmpty\u001b[0m\u001b[0;34m\u001b[0m\u001b[0m\n\u001b[0m\u001b[1;32m    135\u001b[0m                 \u001b[0mres\u001b[0m \u001b[0;34m=\u001b[0m \u001b[0mself\u001b[0m\u001b[0;34m.\u001b[0m\u001b[0m_recv\u001b[0m\u001b[0;34m(\u001b[0m\u001b[0;34m)\u001b[0m\u001b[0;34m\u001b[0m\u001b[0m\n\u001b[1;32m    136\u001b[0m                 \u001b[0mself\u001b[0m\u001b[0;34m.\u001b[0m\u001b[0m_sem\u001b[0m\u001b[0;34m.\u001b[0m\u001b[0mrelease\u001b[0m\u001b[0;34m(\u001b[0m\u001b[0;34m)\u001b[0m\u001b[0;34m\u001b[0m\u001b[0m\n",
        "\u001b[0;31mEmpty\u001b[0m: "
       ]
      }
     ],
     "prompt_number": 34
    },
    {
     "cell_type": "code",
     "collapsed": false,
     "input": [
      "print q_synth.empty(), q_sound.empty(), q_ack_stream.empty()"
     ],
     "language": "python",
     "metadata": {},
     "outputs": [
      {
       "output_type": "stream",
       "stream": "stdout",
       "text": [
        "False True True\n"
       ]
      }
     ],
     "prompt_number": 15
    },
    {
     "cell_type": "code",
     "collapsed": false,
     "input": [
      "while 1:\n",
      "    print q_sound.get(False)"
     ],
     "language": "python",
     "metadata": {},
     "outputs": [
      {
       "ename": "Empty",
       "evalue": "",
       "output_type": "pyerr",
       "traceback": [
        "\u001b[0;31m---------------------------------------------------------------------------\u001b[0m\n\u001b[0;31mEmpty\u001b[0m                                     Traceback (most recent call last)",
        "\u001b[0;32m<ipython-input-11-e4d1ea2af43b>\u001b[0m in \u001b[0;36m<module>\u001b[0;34m()\u001b[0m\n\u001b[1;32m      1\u001b[0m \u001b[0;32mwhile\u001b[0m \u001b[0;36m1\u001b[0m\u001b[0;34m:\u001b[0m\u001b[0;34m\u001b[0m\u001b[0m\n\u001b[0;32m----> 2\u001b[0;31m     \u001b[0;32mprint\u001b[0m \u001b[0mq_sound\u001b[0m\u001b[0;34m.\u001b[0m\u001b[0mget\u001b[0m\u001b[0;34m(\u001b[0m\u001b[0mFalse\u001b[0m\u001b[0;34m)\u001b[0m\u001b[0;34m\u001b[0m\u001b[0m\n\u001b[0m",
        "\u001b[0;32m/usr/lib/python2.7/multiprocessing/queues.pyc\u001b[0m in \u001b[0;36mget\u001b[0;34m(self, block, timeout)\u001b[0m\n\u001b[1;32m    132\u001b[0m                         \u001b[0;32mraise\u001b[0m \u001b[0mEmpty\u001b[0m\u001b[0;34m\u001b[0m\u001b[0m\n\u001b[1;32m    133\u001b[0m                 \u001b[0;32melif\u001b[0m \u001b[0;32mnot\u001b[0m \u001b[0mself\u001b[0m\u001b[0;34m.\u001b[0m\u001b[0m_poll\u001b[0m\u001b[0;34m(\u001b[0m\u001b[0;34m)\u001b[0m\u001b[0;34m:\u001b[0m\u001b[0;34m\u001b[0m\u001b[0m\n\u001b[0;32m--> 134\u001b[0;31m                     \u001b[0;32mraise\u001b[0m \u001b[0mEmpty\u001b[0m\u001b[0;34m\u001b[0m\u001b[0m\n\u001b[0m\u001b[1;32m    135\u001b[0m                 \u001b[0mres\u001b[0m \u001b[0;34m=\u001b[0m \u001b[0mself\u001b[0m\u001b[0;34m.\u001b[0m\u001b[0m_recv\u001b[0m\u001b[0;34m(\u001b[0m\u001b[0;34m)\u001b[0m\u001b[0;34m\u001b[0m\u001b[0m\n\u001b[1;32m    136\u001b[0m                 \u001b[0mself\u001b[0m\u001b[0;34m.\u001b[0m\u001b[0m_sem\u001b[0m\u001b[0;34m.\u001b[0m\u001b[0mrelease\u001b[0m\u001b[0;34m(\u001b[0m\u001b[0;34m)\u001b[0m\u001b[0;34m\u001b[0m\u001b[0m\n",
        "\u001b[0;31mEmpty\u001b[0m: "
       ]
      }
     ],
     "prompt_number": 11
    },
    {
     "cell_type": "code",
     "collapsed": false,
     "input": [
      "lengths = [1] + [20*(i + 1) for i in range(10)]\n",
      "durs = []\n",
      "durs2 = []\n",
      "start = 0\n",
      "for l in lengths:\n",
      "    art = 0.5 * ones((13,l))\n",
      "    start = time.time()\n",
      "    s = synth.sound_wave(art)\n",
      "    dur = time.time() - start\n",
      "    stream.write(s.astype(float32).tostring())\n",
      "    #while not stream.get_write_available() == 3072:\n",
      "    #    pass\n",
      "    dur2 = s.shape[0]/11025. #time.time() - dur - start\n",
      "    durs += [dur]\n",
      "    durs2 += [dur2]"
     ],
     "language": "python",
     "metadata": {},
     "outputs": [],
     "prompt_number": 43
    },
    {
     "cell_type": "code",
     "collapsed": false,
     "input": [
      "art = 0.5 * ones((13,100))\n",
      "art[-3, :] = 1.\n",
      "s = synth.sound_wave(art)"
     ],
     "language": "python",
     "metadata": {},
     "outputs": [],
     "prompt_number": 26
    },
    {
     "cell_type": "code",
     "collapsed": false,
     "input": [
      "#start = time.time()\n",
      "stream.write(s.astype(float32).tostring())\n",
      "#while not stream.get_write_available() == 3072:    \n",
      "#    pass #print stream.get_write_available()\n",
      "#print time.time() - start"
     ],
     "language": "python",
     "metadata": {},
     "outputs": [],
     "prompt_number": 27
    },
    {
     "cell_type": "code",
     "collapsed": false,
     "input": [
      "s.shape[0]"
     ],
     "language": "python",
     "metadata": {},
     "outputs": [
      {
       "metadata": {},
       "output_type": "pyout",
       "prompt_number": 46,
       "text": [
        "552"
       ]
      }
     ],
     "prompt_number": 46
    },
    {
     "cell_type": "code",
     "collapsed": false,
     "input": [
      "stream.get_write_available()"
     ],
     "language": "python",
     "metadata": {},
     "outputs": [
      {
       "metadata": {},
       "output_type": "pyout",
       "prompt_number": 14,
       "text": [
        "2520"
       ]
      }
     ],
     "prompt_number": 14
    },
    {
     "cell_type": "code",
     "collapsed": false,
     "input": [
      "print s.shape\n",
      "s_l = array([[x, x] for x in s]).flatten()\n",
      "print s_l.shape"
     ],
     "language": "python",
     "metadata": {},
     "outputs": [
      {
       "output_type": "stream",
       "stream": "stdout",
       "text": [
        "(5513,)\n",
        "(11026,)"
       ]
      },
      {
       "output_type": "stream",
       "stream": "stdout",
       "text": [
        "\n"
       ]
      }
     ],
     "prompt_number": 20
    },
    {
     "cell_type": "code",
     "collapsed": false,
     "input": [
      "stream_22 = pa.open(format=pyaudio.paFloat32,\n",
      "                channels=1,\n",
      "                rate=22050,\n",
      "                output=True)"
     ],
     "language": "python",
     "metadata": {},
     "outputs": [],
     "prompt_number": 21
    },
    {
     "cell_type": "code",
     "collapsed": false,
     "input": [
      "start = time.time()\n",
      "stream.write(s_l.astype(float32).tostring())\n",
      "while not stream_22.get_write_available() == 3072:\n",
      "    pass #print stream.get_write_available()\n",
      "print time.time() - start"
     ],
     "language": "python",
     "metadata": {},
     "outputs": [
      {
       "output_type": "stream",
       "stream": "stdout",
       "text": [
        "0.738049030304\n"
       ]
      }
     ],
     "prompt_number": 30
    },
    {
     "cell_type": "code",
     "collapsed": false,
     "input": [
      "plot(lengths, array(durs)/array(durs2))\n",
      "plot([0, 3], [0, 3])"
     ],
     "language": "python",
     "metadata": {},
     "outputs": [
      {
       "metadata": {},
       "output_type": "pyout",
       "prompt_number": 44,
       "text": [
        "[<matplotlib.lines.Line2D at 0x4261190>]"
       ]
      }
     ],
     "prompt_number": 44
    },
    {
     "cell_type": "code",
     "collapsed": false,
     "input": [
      "art = 0.5 * ones((13,20))\n",
      "stream.write(synth.sound_wave(art).astype(float32).tostring())"
     ],
     "language": "python",
     "metadata": {},
     "outputs": [],
     "prompt_number": 26
    },
    {
     "cell_type": "code",
     "collapsed": false,
     "input": [
      "synth.sound_wave(art).shape"
     ],
     "language": "python",
     "metadata": {},
     "outputs": [
      {
       "metadata": {},
       "output_type": "pyout",
       "prompt_number": 7,
       "text": [
        "(2757,)"
       ]
      }
     ],
     "prompt_number": 7
    },
    {
     "cell_type": "code",
     "collapsed": false,
     "input": [
      "plot(hamming(51))"
     ],
     "language": "python",
     "metadata": {},
     "outputs": [
      {
       "metadata": {},
       "output_type": "pyout",
       "prompt_number": 9,
       "text": [
        "[<matplotlib.lines.Line2D at 0x3331d10>]"
       ]
      }
     ],
     "prompt_number": 9
    },
    {
     "cell_type": "code",
     "collapsed": false,
     "input": [
      "q.put(None)"
     ],
     "language": "python",
     "metadata": {},
     "outputs": [
      {
       "ename": "NameError",
       "evalue": "name 'q' is not defined",
       "output_type": "pyerr",
       "traceback": [
        "\u001b[0;31m---------------------------------------------------------------------------\u001b[0m\n\u001b[0;31mNameError\u001b[0m                                 Traceback (most recent call last)",
        "\u001b[0;32m<ipython-input-2-aefa23a9359e>\u001b[0m in \u001b[0;36m<module>\u001b[0;34m()\u001b[0m\n\u001b[0;32m----> 1\u001b[0;31m \u001b[0mq\u001b[0m\u001b[0;34m.\u001b[0m\u001b[0mput\u001b[0m\u001b[0;34m(\u001b[0m\u001b[0mNone\u001b[0m\u001b[0;34m)\u001b[0m\u001b[0;34m\u001b[0m\u001b[0m\n\u001b[0m",
        "\u001b[0;31mNameError\u001b[0m: name 'q' is not defined"
       ]
      }
     ],
     "prompt_number": 2
    },
    {
     "cell_type": "code",
     "collapsed": false,
     "input": [
      "sys.path.append('/home/clement/T\u00e9l\u00e9chargements/LeapDeveloperKit/LeapSDK/lib/x64/')\n",
      "sys.path.append('/home/clement/T\u00e9l\u00e9chargements/LeapDeveloperKit/LeapSDK/lib/')\n",
      "sys.path.append('/home/clement/T\u00e9l\u00e9chargements/LeapDeveloperKit/LeapSDK/samples/')\n",
      "from Sample import *"
     ],
     "language": "python",
     "metadata": {},
     "outputs": [],
     "prompt_number": 3
    },
    {
     "cell_type": "code",
     "collapsed": false,
     "input": [
      "import time\n",
      "# Create a sample listener and controller\n",
      "listener = SampleListener()\n",
      "controller = Leap.Controller()\n",
      "\n",
      "# Have the sample listener receive events from the controller\n",
      "controller.add_listener(listener)\n",
      "\n",
      "# Keep this process running until Enter is pressed\n",
      "print \"Press Enter to quit...\"\n",
      "time.sleep(3)  #sys.stdin.readline()\n",
      "\n",
      "# Remove the sample listener when done\n",
      "controller.remove_listener(listener)"
     ],
     "language": "python",
     "metadata": {},
     "outputs": [
      {
       "ename": "NameError",
       "evalue": "name 'SampleListener' is not defined",
       "output_type": "pyerr",
       "traceback": [
        "\u001b[0;31m---------------------------------------------------------------------------\u001b[0m\n\u001b[0;31mNameError\u001b[0m                                 Traceback (most recent call last)",
        "\u001b[0;32m<ipython-input-63-7c1be545445b>\u001b[0m in \u001b[0;36m<module>\u001b[0;34m()\u001b[0m\n\u001b[1;32m      1\u001b[0m \u001b[0;32mimport\u001b[0m \u001b[0mtime\u001b[0m\u001b[0;34m\u001b[0m\u001b[0m\n\u001b[1;32m      2\u001b[0m \u001b[0;31m# Create a sample listener and controller\u001b[0m\u001b[0;34m\u001b[0m\u001b[0;34m\u001b[0m\u001b[0m\n\u001b[0;32m----> 3\u001b[0;31m \u001b[0mlistener\u001b[0m \u001b[0;34m=\u001b[0m \u001b[0mSampleListener\u001b[0m\u001b[0;34m(\u001b[0m\u001b[0;34m)\u001b[0m\u001b[0;34m\u001b[0m\u001b[0m\n\u001b[0m\u001b[1;32m      4\u001b[0m \u001b[0mcontroller\u001b[0m \u001b[0;34m=\u001b[0m \u001b[0mLeap\u001b[0m\u001b[0;34m.\u001b[0m\u001b[0mController\u001b[0m\u001b[0;34m(\u001b[0m\u001b[0;34m)\u001b[0m\u001b[0;34m\u001b[0m\u001b[0m\n\u001b[1;32m      5\u001b[0m \u001b[0;34m\u001b[0m\u001b[0m\n",
        "\u001b[0;31mNameError\u001b[0m: name 'SampleListener' is not defined"
       ]
      }
     ],
     "prompt_number": 63
    },
    {
     "cell_type": "code",
     "collapsed": false,
     "input": [
      "sys.stdin.readline()"
     ],
     "language": "python",
     "metadata": {},
     "outputs": [
      {
       "metadata": {},
       "output_type": "pyout",
       "prompt_number": 10,
       "text": [
        "''"
       ]
      }
     ],
     "prompt_number": 10
    },
    {
     "cell_type": "code",
     "collapsed": false,
     "input": [
      "main()"
     ],
     "language": "python",
     "metadata": {},
     "outputs": [
      {
       "output_type": "stream",
       "stream": "stdout",
       "text": [
        "Initialized\n",
        "Press Enter to quit...\n",
        "Exited\n"
       ]
      }
     ],
     "prompt_number": 7
    },
    {
     "cell_type": "code",
     "collapsed": false,
     "input": [],
     "language": "python",
     "metadata": {},
     "outputs": []
    },
    {
     "cell_type": "code",
     "collapsed": false,
     "input": [
      "while (1):\n",
      "    frame = controller.frame()\n",
      "    print f.finger(2).tip_position[0]"
     ],
     "language": "python",
     "metadata": {},
     "outputs": [
      {
       "ename": "NameError",
       "evalue": "name 'controller' is not defined",
       "output_type": "pyerr",
       "traceback": [
        "\u001b[0;31m---------------------------------------------------------------------------\u001b[0m\n\u001b[0;31mNameError\u001b[0m                                 Traceback (most recent call last)",
        "\u001b[0;32m<ipython-input-64-dbe41c81dbbf>\u001b[0m in \u001b[0;36m<module>\u001b[0;34m()\u001b[0m\n\u001b[1;32m      1\u001b[0m \u001b[0;32mwhile\u001b[0m \u001b[0;34m(\u001b[0m\u001b[0;36m1\u001b[0m\u001b[0;34m)\u001b[0m\u001b[0;34m:\u001b[0m\u001b[0;34m\u001b[0m\u001b[0m\n\u001b[0;32m----> 2\u001b[0;31m     \u001b[0mframe\u001b[0m \u001b[0;34m=\u001b[0m \u001b[0mcontroller\u001b[0m\u001b[0;34m.\u001b[0m\u001b[0mframe\u001b[0m\u001b[0;34m(\u001b[0m\u001b[0;34m)\u001b[0m\u001b[0;34m\u001b[0m\u001b[0m\n\u001b[0m\u001b[1;32m      3\u001b[0m     \u001b[0;32mprint\u001b[0m \u001b[0mf\u001b[0m\u001b[0;34m.\u001b[0m\u001b[0mfinger\u001b[0m\u001b[0;34m(\u001b[0m\u001b[0;36m2\u001b[0m\u001b[0;34m)\u001b[0m\u001b[0;34m.\u001b[0m\u001b[0mtip_position\u001b[0m\u001b[0;34m[\u001b[0m\u001b[0;36m0\u001b[0m\u001b[0;34m]\u001b[0m\u001b[0;34m\u001b[0m\u001b[0m\n",
        "\u001b[0;31mNameError\u001b[0m: name 'controller' is not defined"
       ]
      }
     ],
     "prompt_number": 64
    },
    {
     "cell_type": "code",
     "collapsed": false,
     "input": [
      "f.finger(2).tip_position[0]"
     ],
     "language": "python",
     "metadata": {},
     "outputs": [
      {
       "metadata": {},
       "output_type": "pyout",
       "prompt_number": 23,
       "text": [
        "0.0"
       ]
      }
     ],
     "prompt_number": 23
    },
    {
     "cell_type": "code",
     "collapsed": false,
     "input": [
      "controller.remove_listener(listener)"
     ],
     "language": "python",
     "metadata": {},
     "outputs": []
    },
    {
     "cell_type": "code",
     "collapsed": false,
     "input": [
      "import time"
     ],
     "language": "python",
     "metadata": {},
     "outputs": [],
     "prompt_number": 10
    },
    {
     "cell_type": "code",
     "collapsed": false,
     "input": [
      "art = 0.5 * ones((13,100))\n",
      "art_q.put(art)"
     ],
     "language": "python",
     "metadata": {},
     "outputs": [],
     "prompt_number": 9
    },
    {
     "cell_type": "code",
     "collapsed": false,
     "input": [
      "sound = sound_q.get()\n",
      "for _ in range(10):\n",
      "    art_q.put(art)    \n",
      "    #print '1', time.time()\n",
      "    stream.write(sound)\n",
      "    #print '2', time.time()\n",
      "    sound = sound_q.get()\n",
      "    \n",
      "#    sound = synth.sound_wave(0.5*ones((13,100)))\n",
      "    #print q.get()   # prints \"[42, None, 'hello']\"\n",
      "#p.join()"
     ],
     "language": "python",
     "metadata": {},
     "outputs": []
    },
    {
     "cell_type": "code",
     "collapsed": false,
     "input": [
      "art = 0.5 * ones((13,100))"
     ],
     "language": "python",
     "metadata": {},
     "outputs": [],
     "prompt_number": 31
    },
    {
     "cell_type": "code",
     "collapsed": false,
     "input": [
      "t = linspace(0., duration, sample_rate * duration)\n",
      "wave = sin(t * 2. * pi * freq)"
     ],
     "language": "python",
     "metadata": {},
     "outputs": [],
     "prompt_number": 7
    },
    {
     "cell_type": "code",
     "collapsed": false,
     "input": [
      "q.get()"
     ],
     "language": "python",
     "metadata": {},
     "outputs": [
      {
       "ename": "NameError",
       "evalue": "name 'q' is not defined",
       "output_type": "pyerr",
       "traceback": [
        "\u001b[0;31m---------------------------------------------------------------------------\u001b[0m\n\u001b[0;31mNameError\u001b[0m                                 Traceback (most recent call last)",
        "\u001b[0;32m<ipython-input-1-b0c5082abed4>\u001b[0m in \u001b[0;36m<module>\u001b[0;34m()\u001b[0m\n\u001b[0;32m----> 1\u001b[0;31m \u001b[0mq\u001b[0m\u001b[0;34m.\u001b[0m\u001b[0mget\u001b[0m\u001b[0;34m(\u001b[0m\u001b[0;34m)\u001b[0m\u001b[0;34m\u001b[0m\u001b[0m\n\u001b[0m",
        "\u001b[0;31mNameError\u001b[0m: name 'q' is not defined"
       ]
      }
     ],
     "prompt_number": 1
    },
    {
     "cell_type": "code",
     "collapsed": false,
     "input": [
      "q.put(art)\n",
      "sound = q.get()"
     ],
     "language": "python",
     "metadata": {},
     "outputs": [],
     "prompt_number": 38
    },
    {
     "cell_type": "code",
     "collapsed": false,
     "input": [
      "sound = synth.sound_wave(art)"
     ],
     "language": "python",
     "metadata": {},
     "outputs": [
      {
       "ename": "NameError",
       "evalue": "name 'synth' is not defined",
       "output_type": "pyerr",
       "traceback": [
        "\u001b[0;31m---------------------------------------------------------------------------\u001b[0m\n\u001b[0;31mNameError\u001b[0m                                 Traceback (most recent call last)",
        "\u001b[0;32m<ipython-input-26-49fd5f3ecd89>\u001b[0m in \u001b[0;36m<module>\u001b[0;34m()\u001b[0m\n\u001b[0;32m----> 1\u001b[0;31m \u001b[0msound\u001b[0m \u001b[0;34m=\u001b[0m \u001b[0msynth\u001b[0m\u001b[0;34m.\u001b[0m\u001b[0msound_wave\u001b[0m\u001b[0;34m(\u001b[0m\u001b[0mart\u001b[0m\u001b[0;34m)\u001b[0m\u001b[0;34m\u001b[0m\u001b[0m\n\u001b[0m",
        "\u001b[0;31mNameError\u001b[0m: name 'synth' is not defined"
       ]
      }
     ],
     "prompt_number": 26
    },
    {
     "cell_type": "code",
     "collapsed": false,
     "input": [
      "stream.write(sound.astype(float32).tostring())"
     ],
     "language": "python",
     "metadata": {},
     "outputs": [],
     "prompt_number": 34
    },
    {
     "cell_type": "code",
     "collapsed": false,
     "input": [
      "plot(sound)"
     ],
     "language": "python",
     "metadata": {},
     "outputs": [
      {
       "metadata": {},
       "output_type": "pyout",
       "prompt_number": 39,
       "text": [
        "[<matplotlib.lines.Line2D at 0x4d82e50>]"
       ]
      }
     ],
     "prompt_number": 39
    },
    {
     "cell_type": "code",
     "collapsed": false,
     "input": [
      "del p, q"
     ],
     "language": "python",
     "metadata": {},
     "outputs": [
      {
       "ename": "NameError",
       "evalue": "name 'p' is not defined",
       "output_type": "pyerr",
       "traceback": [
        "\u001b[0;31m---------------------------------------------------------------------------\u001b[0m\n\u001b[0;31mNameError\u001b[0m                                 Traceback (most recent call last)",
        "\u001b[0;32m<ipython-input-2-8462e7817186>\u001b[0m in \u001b[0;36m<module>\u001b[0;34m()\u001b[0m\n\u001b[0;32m----> 1\u001b[0;31m \u001b[0;32mdel\u001b[0m \u001b[0mp\u001b[0m\u001b[0;34m,\u001b[0m \u001b[0mq\u001b[0m\u001b[0;34m\u001b[0m\u001b[0m\n\u001b[0m",
        "\u001b[0;31mNameError\u001b[0m: name 'p' is not defined"
       ]
      }
     ],
     "prompt_number": 2
    },
    {
     "cell_type": "code",
     "collapsed": false,
     "input": [
      "sound.shape"
     ],
     "language": "python",
     "metadata": {},
     "outputs": [
      {
       "metadata": {},
       "output_type": "pyout",
       "prompt_number": 19,
       "text": [
        "(5513,)"
       ]
      }
     ],
     "prompt_number": 19
    },
    {
     "cell_type": "code",
     "collapsed": false,
     "input": [
      "std(sound)"
     ],
     "language": "python",
     "metadata": {},
     "outputs": [
      {
       "metadata": {},
       "output_type": "pyout",
       "prompt_number": 20,
       "text": [
        "4.9105468711248591e-05"
       ]
      }
     ],
     "prompt_number": 20
    },
    {
     "cell_type": "code",
     "collapsed": false,
     "input": [
      "class art_conf"
     ],
     "language": "python",
     "metadata": {},
     "outputs": []
    },
    {
     "cell_type": "code",
     "collapsed": false,
     "input": [
      "art_conf()\n",
      "for _ in range(10):\n",
      "    stream.write(s.astype(float32).tostring())\n",
      "    "
     ],
     "language": "python",
     "metadata": {},
     "outputs": [],
     "prompt_number": 13
    },
    {
     "cell_type": "code",
     "collapsed": false,
     "input": [
      "import threading"
     ],
     "language": "python",
     "metadata": {},
     "outputs": [],
     "prompt_number": 14
    },
    {
     "cell_type": "code",
     "collapsed": false,
     "input": [
      "s = None\n",
      "def art_conf(s):\n",
      "    s = synth.sound_wave(0.5*ones((13,100)))\n",
      "th_art = threading.Thread(target=art_conf)\n",
      "def play_synth():\n",
      "    stream.write(s.astype(float32).tostring())\n",
      "th_synth = threading.Thread(target=play_synth)"
     ],
     "language": "python",
     "metadata": {},
     "outputs": [],
     "prompt_number": 20
    },
    {
     "cell_type": "code",
     "collapsed": false,
     "input": [
      "chunk = 1024"
     ],
     "language": "python",
     "metadata": {},
     "outputs": [],
     "prompt_number": 5
    },
    {
     "cell_type": "code",
     "collapsed": false,
     "input": [
      "t = linspace(0., duration, sample_rate * duration)\n",
      "wave = sin(t * 2. * pi * freq)"
     ],
     "language": "python",
     "metadata": {},
     "outputs": [],
     "prompt_number": 6
    },
    {
     "cell_type": "code",
     "collapsed": false,
     "input": [
      "plot(wave[:len(t)/freq/duration])"
     ],
     "language": "python",
     "metadata": {},
     "outputs": [
      {
       "metadata": {},
       "output_type": "pyout",
       "prompt_number": 8,
       "text": [
        "[<matplotlib.lines.Line2D at 0x2be5910>]"
       ]
      }
     ],
     "prompt_number": 8
    },
    {
     "cell_type": "code",
     "collapsed": false,
     "input": [
      "import time"
     ],
     "language": "python",
     "metadata": {},
     "outputs": [],
     "prompt_number": 8
    },
    {
     "cell_type": "code",
     "collapsed": false,
     "input": [
      "import Leap"
     ],
     "language": "python",
     "metadata": {},
     "outputs": [
      {
       "ename": "ImportError",
       "evalue": "No module named Leap",
       "output_type": "pyerr",
       "traceback": [
        "\u001b[0;31m---------------------------------------------------------------------------\u001b[0m\n\u001b[0;31mImportError\u001b[0m                               Traceback (most recent call last)",
        "\u001b[0;32m<ipython-input-14-fb490deefd02>\u001b[0m in \u001b[0;36m<module>\u001b[0;34m()\u001b[0m\n\u001b[0;32m----> 1\u001b[0;31m \u001b[0;32mimport\u001b[0m \u001b[0mLeap\u001b[0m\u001b[0;34m\u001b[0m\u001b[0m\n\u001b[0m",
        "\u001b[0;31mImportError\u001b[0m: No module named Leap"
       ]
      }
     ],
     "prompt_number": 14
    },
    {
     "cell_type": "code",
     "collapsed": false,
     "input": [
      "data = wave.astype(float32).tostring()"
     ],
     "language": "python",
     "metadata": {},
     "outputs": [],
     "prompt_number": 9
    },
    {
     "cell_type": "code",
     "collapsed": false,
     "input": [
      "start = time.time()\n",
      "stream.write(data)\n",
      "time.time() - start"
     ],
     "language": "python",
     "metadata": {},
     "outputs": [
      {
       "metadata": {},
       "output_type": "pyout",
       "prompt_number": 11,
       "text": [
        "2.8368608951568604"
       ]
      }
     ],
     "prompt_number": 11
    },
    {
     "cell_type": "code",
     "collapsed": false,
     "input": [
      "start = time.time()\n",
      "for x in range(len(wave)/chunk):\n",
      "    stream.write(wave[x*chunk:(x+1)*chunk])\n",
      "dur = time.time() - start"
     ],
     "language": "python",
     "metadata": {},
     "outputs": [],
     "prompt_number": 14
    },
    {
     "cell_type": "code",
     "collapsed": false,
     "input": [
      "dur"
     ],
     "language": "python",
     "metadata": {},
     "outputs": [
      {
       "metadata": {},
       "output_type": "pyout",
       "prompt_number": 15,
       "text": [
        "0.5659739971160889"
       ]
      }
     ],
     "prompt_number": 15
    },
    {
     "cell_type": "code",
     "collapsed": false,
     "input": [
      "t.shape"
     ],
     "language": "python",
     "metadata": {},
     "outputs": [
      {
       "metadata": {},
       "output_type": "pyout",
       "prompt_number": 26,
       "text": [
        "(132300,)"
       ]
      }
     ],
     "prompt_number": 26
    },
    {
     "cell_type": "code",
     "collapsed": false,
     "input": [
      "3./ 1024"
     ],
     "language": "python",
     "metadata": {},
     "outputs": [
      {
       "metadata": {},
       "output_type": "pyout",
       "prompt_number": 27,
       "text": [
        "0.0029296875"
       ]
      }
     ],
     "prompt_number": 27
    },
    {
     "cell_type": "code",
     "collapsed": false,
     "input": [
      "import wave as wave_"
     ],
     "language": "python",
     "metadata": {},
     "outputs": [],
     "prompt_number": 16
    },
    {
     "cell_type": "code",
     "collapsed": false,
     "input": [
      "wf = wave_.open('../../Projet/GMM_IM/vocalizations.wav', 'rb')"
     ],
     "language": "python",
     "metadata": {},
     "outputs": [],
     "prompt_number": 17
    },
    {
     "cell_type": "code",
     "collapsed": false,
     "input": [
      "pa.get_format_from_width(wf.getsampwidth()), wf.getnchannels(), wf.getframerate()"
     ],
     "language": "python",
     "metadata": {},
     "outputs": [
      {
       "metadata": {},
       "output_type": "pyout",
       "prompt_number": 18,
       "text": [
        "(8, 1, 11095)"
       ]
      }
     ],
     "prompt_number": 18
    },
    {
     "cell_type": "code",
     "collapsed": false,
     "input": [
      "wf.getsampwidth()"
     ],
     "language": "python",
     "metadata": {},
     "outputs": [
      {
       "metadata": {},
       "output_type": "pyout",
       "prompt_number": 19,
       "text": [
        "2"
       ]
      }
     ],
     "prompt_number": 19
    },
    {
     "cell_type": "code",
     "collapsed": false,
     "input": [
      "plot(wf.readframes(chunk).to)"
     ],
     "language": "python",
     "metadata": {},
     "outputs": [
      {
       "ename": "AttributeError",
       "evalue": "'str' object has no attribute 'astype'",
       "output_type": "pyerr",
       "traceback": [
        "\u001b[0;31m---------------------------------------------------------------------------\u001b[0m\n\u001b[0;31mAttributeError\u001b[0m                            Traceback (most recent call last)",
        "\u001b[0;32m<ipython-input-22-782f33df08b8>\u001b[0m in \u001b[0;36m<module>\u001b[0;34m()\u001b[0m\n\u001b[0;32m----> 1\u001b[0;31m \u001b[0mplot\u001b[0m\u001b[0;34m(\u001b[0m\u001b[0mwf\u001b[0m\u001b[0;34m.\u001b[0m\u001b[0mreadframes\u001b[0m\u001b[0;34m(\u001b[0m\u001b[0mchunk\u001b[0m\u001b[0;34m)\u001b[0m\u001b[0;34m.\u001b[0m\u001b[0mastype\u001b[0m\u001b[0;34m(\u001b[0m\u001b[0muint16\u001b[0m\u001b[0;34m)\u001b[0m\u001b[0;34m)\u001b[0m\u001b[0;34m\u001b[0m\u001b[0m\n\u001b[0m",
        "\u001b[0;31mAttributeError\u001b[0m: 'str' object has no attribute 'astype'"
       ]
      }
     ],
     "prompt_number": 22
    },
    {
     "cell_type": "code",
     "collapsed": false,
     "input": [
      "x = wf.readframes(chunk)"
     ],
     "language": "python",
     "metadata": {},
     "outputs": [],
     "prompt_number": 23
    },
    {
     "cell_type": "code",
     "collapsed": false,
     "input": [
      "x."
     ],
     "language": "python",
     "metadata": {},
     "outputs": [],
     "prompt_number": 26
    },
    {
     "cell_type": "code",
     "collapsed": false,
     "input": [
      "import math\n",
      "import numpy\n",
      "import pyaudio\n",
      "import itertools\n",
      "from scipy import interpolate\n",
      "from operator import itemgetter\n",
      "\n",
      "\n",
      "class Note:\n",
      "\n",
      "  NOTES = ['c','c#','d','d#','e','f','f#','g','g#','a','a#','b']\n",
      "\n",
      "  def __init__(self, note, octave=4):\n",
      "    self.octave = octave\n",
      "    if isinstance(note, int):\n",
      "      self.index = note\n",
      "      self.note = Note.NOTES[note]\n",
      "    elif isinstance(note, str):\n",
      "      self.note = note.strip().lower()\n",
      "      self.index = Note.NOTES.index(self.note)\n",
      "\n",
      "  def transpose(self, halfsteps):\n",
      "    octave_delta, note = divmod(self.index + halfsteps, 12)\n",
      "    return Note(note, self.octave + octave_delta)\n",
      "\n",
      "  def frequency(self):\n",
      "    base_frequency = 16.35159783128741 * 2.0 ** (float(self.index) / 12.0)\n",
      "    return base_frequency * (2.0 ** self.octave)\n",
      "\n",
      "  def __float__(self):\n",
      "    return self.frequency()\n",
      "\n",
      "\n",
      "class Scale:\n",
      "\n",
      "  def __init__(self, root, intervals):\n",
      "    self.root = Note(root.index, 0)\n",
      "    self.intervals = intervals\n",
      "\n",
      "  def get(self, index):\n",
      "    intervals = self.intervals\n",
      "    if index < 0:\n",
      "      index = abs(index)\n",
      "      intervals = reversed(self.intervals)\n",
      "    intervals = itertools.cycle(self.intervals)\n",
      "    note = self.root\n",
      "    for i in xrange(index):\n",
      "      note = note.transpose(intervals.next())\n",
      "    return note\n",
      "\n",
      "  def index(self, note):\n",
      "    intervals = itertools.cycle(self.intervals)\n",
      "    index = 0\n",
      "    x = self.root\n",
      "    while x.octave != note.octave or x.note != note.note:\n",
      "      x = x.transpose(intervals.next())\n",
      "      index += 1\n",
      "    return index\n",
      "\n",
      "  def transpose(self, note, interval):\n",
      "    return self.get(self.index(note) + interval)\n",
      "\n",
      "\n",
      "def sine(frequency, length, rate):\n",
      "  length = int(length * rate)\n",
      "  factor = float(frequency) * (math.pi * 2) / rate\n",
      "  return numpy.sin(numpy.arange(length) * factor)\n",
      "\n",
      "def shape(data, points, kind='slinear'):\n",
      "    items = points.items()\n",
      "    items.sort(key=itemgetter(0))\n",
      "    keys = map(itemgetter(0), items)\n",
      "    vals = map(itemgetter(1), items)\n",
      "    interp = interpolate.interp1d(keys, vals, kind=kind)\n",
      "    factor = 1.0 / len(data)\n",
      "    shape = interp(numpy.arange(len(data)) * factor)\n",
      "    return data * shape\n",
      "\n",
      "def harmonics1(freq, length):\n",
      "  a = sine(freq * 1.00, length, 44100)\n",
      "  b = sine(freq * 2.00, length, 44100) * 0.5\n",
      "  c = sine(freq * 4.00, length, 44100) * 0.125\n",
      "  return (a + b + c) * 0.2\n",
      "\n",
      "def harmonics2(freq, length):\n",
      "  a = sine(freq * 1.00, length, 44100)\n",
      "  b = sine(freq * 2.00, length, 44100) * 0.5\n",
      "  return (a + b) * 0.2\n",
      "\n",
      "def pluck1(note):\n",
      "  chunk = harmonics1(note.frequency(), 2)\n",
      "  return shape(chunk, {0.0: 0.0, 0.005: 1.0, 0.25: 0.5, 0.9: 0.1, 1.0:0.0})\n",
      "\n",
      "def pluck2(note):\n",
      "  chunk = harmonics2(note.frequency(), 2)\n",
      "  return shape(chunk, {0.0: 0.0, 0.5:0.75, 0.8:0.4, 1.0:0.1})\n",
      "\n",
      "def chord(n, scale):\n",
      "  root = scale.get(n)\n",
      "  third = scale.transpose(root, 2)\n",
      "  fifth = scale.transpose(root, 4)\n",
      "  return pluck1(root) + pluck1(third) + pluck1(fifth)\n",
      "\n",
      "root = Note('A', 3)\n",
      "scale = Scale(root, [2, 1, 2, 2, 1, 3, 1])\n",
      "\n",
      "chunks = []\n",
      "chunks.append(chord(21, scale))\n",
      "chunks.append(chord(19, scale))\n",
      "chunks.append(chord(18, scale))\n",
      "chunks.append(chord(20, scale))\n",
      "chunks.append(chord(21, scale))\n",
      "chunks.append(chord(22, scale))\n",
      "chunks.append(chord(20, scale))\n",
      "chunks.append(chord(21, scale))\n",
      "\n",
      "chunks.append(chord(21, scale) + pluck2(scale.get(38)))\n",
      "chunks.append(chord(19, scale) + pluck2(scale.get(37)))\n",
      "chunks.append(chord(18, scale) + pluck2(scale.get(33)))\n",
      "chunks.append(chord(20, scale) + pluck2(scale.get(32)))\n",
      "chunks.append(chord(21, scale) + pluck2(scale.get(31)))\n",
      "chunks.append(chord(22, scale) + pluck2(scale.get(32)))\n",
      "chunks.append(chord(20, scale) + pluck2(scale.get(29)))\n",
      "chunks.append(chord(21, scale) + pluck2(scale.get(28)))\n",
      "\n",
      "chunk = numpy.concatenate(chunks) * 0.25\n",
      "\n",
      "p = pyaudio.PyAudio()\n",
      "stream = p.open(format=pyaudio.paFloat32, channels=1, rate=44100, output=1)\n",
      "stream.write(chunk.astype(numpy.float32).tostring())\n",
      "stream.close()\n",
      "p.terminate()"
     ],
     "language": "python",
     "metadata": {},
     "outputs": [],
     "prompt_number": 1
    },
    {
     "cell_type": "code",
     "collapsed": false,
     "input": [
      "chunk"
     ],
     "language": "python",
     "metadata": {},
     "outputs": [
      {
       "metadata": {},
       "output_type": "pyout",
       "prompt_number": 2,
       "text": [
        "array([  0.00000000e+00,   3.27162116e-05,   1.30318749e-04, ...,\n",
        "        -1.85090718e-03,  -1.24386149e-03,  -6.24872521e-04])"
       ]
      }
     ],
     "prompt_number": 2
    },
    {
     "cell_type": "code",
     "collapsed": false,
     "input": [],
     "language": "python",
     "metadata": {},
     "outputs": []
    }
   ],
   "metadata": {}
  }
 ]
}
{
 "metadata": {
  "name": "",
  "signature": "sha256:df79b41500c53460803550b1c1dab6bce66119701377a812381e31e10508c82e"
 },
 "nbformat": 3,
 "nbformat_minor": 0,
 "worksheets": [
  {
   "cells": [
    {
     "cell_type": "code",
     "collapsed": false,
     "input": [
      "%pylab"
     ],
     "language": "python",
     "metadata": {},
     "outputs": [
      {
       "output_type": "stream",
       "stream": "stdout",
       "text": [
        "Using matplotlib backend: TkAgg\n",
        "Populating the interactive namespace from numpy and matplotlib\n"
       ]
      }
     ],
     "prompt_number": 1
    },
    {
     "cell_type": "code",
     "collapsed": false,
     "input": [
      "#from explauto.environment.simple_arm import SimpleArmEnvironment, test_config\n",
      "from explauto.environment.pendulum import PendulumEnvironment, test_config"
     ],
     "language": "python",
     "metadata": {},
     "outputs": [],
     "prompt_number": 2
    },
    {
     "cell_type": "code",
     "collapsed": false,
     "input": [
      "#from explauto.utils.config import Configuration\n",
      "#conf = Configuration(test_config)"
     ],
     "language": "python",
     "metadata": {},
     "outputs": [],
     "prompt_number": 3
    },
    {
     "cell_type": "code",
     "collapsed": false,
     "input": [
      "#env = SimpleArmEnvironment(**conf)\n",
      "env = PendulumEnvironment(**test_config)"
     ],
     "language": "python",
     "metadata": {},
     "outputs": [],
     "prompt_number": 4
    },
    {
     "cell_type": "code",
     "collapsed": false,
     "input": [
      "from explauto.environment.adapter import Robot\n",
      "r = Robot(env)"
     ],
     "language": "python",
     "metadata": {},
     "outputs": [],
     "prompt_number": 5
    },
    {
     "cell_type": "code",
     "collapsed": false,
     "input": [
      "testset = r.test_set(1000)"
     ],
     "language": "python",
     "metadata": {},
     "outputs": [],
     "prompt_number": 12
    },
    {
     "cell_type": "code",
     "collapsed": false,
     "input": [
      "testset = array([list(test[1]) for test in testset])"
     ],
     "language": "python",
     "metadata": {},
     "outputs": [],
     "prompt_number": 13
    },
    {
     "cell_type": "code",
     "collapsed": false,
     "input": [
      "plot(testset[:, 0], testset[:, 1], 'o')"
     ],
     "language": "python",
     "metadata": {},
     "outputs": [
      {
       "metadata": {},
       "output_type": "pyout",
       "prompt_number": 14,
       "text": [
        "[<matplotlib.lines.Line2D at 0x4844750>]"
       ]
      }
     ],
     "prompt_number": 14
    },
    {
     "cell_type": "code",
     "collapsed": false,
     "input": [
      "conf.expl_dims = conf.s_dims\n",
      "conf.inf_dims = conf.m_dims"
     ],
     "language": "python",
     "metadata": {},
     "outputs": [],
     "prompt_number": 4
    },
    {
     "cell_type": "code",
     "collapsed": false,
     "input": [
      "from explauto.sensorimotor_models import NonParametric\n",
      "#from explauto.interest_models.random import RandomInterest\n",
      "from explauto.interest_models.learning_progress import GmmInterest\n",
      "from explauto.interest_models.competences import competence_exp"
     ],
     "language": "python",
     "metadata": {},
     "outputs": [],
     "prompt_number": 5
    },
    {
     "cell_type": "code",
     "collapsed": false,
     "input": [
      "sm_model = NonParametric(conf, fwd='LWLR', inv='L-BFGS-B') #, sigma = 0.1)\n",
      "#i_model = RandomInterest(conf.expl_dims, conf.bounds)\n",
      "i_model = GmmInterest(conf.expl_dims, conf.bounds, competence_exp)"
     ],
     "language": "python",
     "metadata": {},
     "outputs": [
      {
       "output_type": "stream",
       "stream": "stdout",
       "text": [
        "upd -30\n",
        "upd -20\n",
        "upd -10\n",
        "upd"
       ]
      },
      {
       "output_type": "stream",
       "stream": "stdout",
       "text": [
        " 0\n"
       ]
      }
     ],
     "prompt_number": 6
    },
    {
     "cell_type": "code",
     "collapsed": false,
     "input": [
      "#from explauto.utils.utils import rand_bounds\n",
      "#data = env.dataset(rand_bounds(conf.m_bounds, 30))\n",
      "#sm_model.bootstrap(data[:, conf.m_dims], data[:, conf.s_dims])"
     ],
     "language": "python",
     "metadata": {},
     "outputs": [],
     "prompt_number": 7
    },
    {
     "cell_type": "code",
     "collapsed": false,
     "input": [
      "from explauto.agent import Agent"
     ],
     "language": "python",
     "metadata": {},
     "outputs": [],
     "prompt_number": 8
    },
    {
     "cell_type": "code",
     "collapsed": false,
     "input": [
      "ag = Agent(sm_model, i_model, conf)\n",
      "#ag = Agent(**ag_config)"
     ],
     "language": "python",
     "metadata": {},
     "outputs": [],
     "prompt_number": 9
    },
    {
     "cell_type": "code",
     "collapsed": false,
     "input": [
      "from explauto.experiment.experiment import Experiment"
     ],
     "language": "python",
     "metadata": {},
     "outputs": [],
     "prompt_number": 10
    },
    {
     "cell_type": "code",
     "collapsed": false,
     "input": [
      "expe_1 = Experiment(env, ag)"
     ],
     "language": "python",
     "metadata": {},
     "outputs": [],
     "prompt_number": 11
    },
    {
     "cell_type": "code",
     "collapsed": false,
     "input": [
      "%connect_info"
     ],
     "language": "python",
     "metadata": {},
     "outputs": [
      {
       "output_type": "stream",
       "stream": "stdout",
       "text": [
        "{\n",
        "  \"stdin_port\": 43514, \n",
        "  \"ip\": \"127.0.0.1\", \n",
        "  \"control_port\": 52325, \n",
        "  \"hb_port\": 55255, \n",
        "  \"signature_scheme\": \"hmac-sha256\", \n",
        "  \"key\": \"5cad6e23-9ae7-429a-8148-cdbd1f52ba27\", \n",
        "  \"shell_port\": 47812, \n",
        "  \"transport\": \"tcp\", \n",
        "  \"iopub_port\": 34429\n",
        "}\n",
        "\n",
        "Paste the above JSON into a file, and connect with:\n",
        "    $> ipython <app> --existing <file>\n",
        "or, if you are local, you can connect with just:\n",
        "    $> ipython <app> --existing kernel-79c8ee9f-1dde-4524-a5b0-ce817a96b684.json \n",
        "or even just:\n",
        "    $> ipython <app> --existing \n",
        "if this is the most recent IPython session you have started.\n"
       ]
      }
     ],
     "prompt_number": 31
    },
    {
     "cell_type": "code",
     "collapsed": false,
     "input": [
      "expe_1.run(1000)"
     ],
     "language": "python",
     "metadata": {},
     "outputs": [
      {
       "output_type": "stream",
       "stream": "stdout",
       "text": [
        "upd 1310\n",
        "upd"
       ]
      },
      {
       "output_type": "stream",
       "stream": "stdout",
       "text": [
        " 1320\n",
        "upd"
       ]
      },
      {
       "output_type": "stream",
       "stream": "stdout",
       "text": [
        " 1330\n",
        "upd"
       ]
      },
      {
       "output_type": "stream",
       "stream": "stdout",
       "text": [
        " 1340\n",
        "upd"
       ]
      },
      {
       "output_type": "stream",
       "stream": "stdout",
       "text": [
        " 1350\n",
        "upd"
       ]
      },
      {
       "output_type": "stream",
       "stream": "stdout",
       "text": [
        " 1360\n",
        "upd"
       ]
      },
      {
       "output_type": "stream",
       "stream": "stdout",
       "text": [
        " 1370\n",
        "upd"
       ]
      },
      {
       "output_type": "stream",
       "stream": "stdout",
       "text": [
        " 1380\n",
        "upd"
       ]
      },
      {
       "output_type": "stream",
       "stream": "stdout",
       "text": [
        " 1390\n",
        "upd"
       ]
      },
      {
       "output_type": "stream",
       "stream": "stdout",
       "text": [
        " 1400\n",
        "upd"
       ]
      },
      {
       "output_type": "stream",
       "stream": "stdout",
       "text": [
        " 1410\n",
        "upd"
       ]
      },
      {
       "output_type": "stream",
       "stream": "stdout",
       "text": [
        " 1420\n",
        "upd"
       ]
      },
      {
       "output_type": "stream",
       "stream": "stdout",
       "text": [
        " 1430\n",
        "upd"
       ]
      },
      {
       "output_type": "stream",
       "stream": "stdout",
       "text": [
        " 1440\n",
        "upd"
       ]
      },
      {
       "output_type": "stream",
       "stream": "stdout",
       "text": [
        " 1450\n",
        "upd"
       ]
      },
      {
       "output_type": "stream",
       "stream": "stdout",
       "text": [
        " 1460\n",
        "upd"
       ]
      },
      {
       "output_type": "stream",
       "stream": "stdout",
       "text": [
        " 1470\n",
        "upd"
       ]
      },
      {
       "output_type": "stream",
       "stream": "stdout",
       "text": [
        " 1480\n",
        "upd"
       ]
      },
      {
       "output_type": "stream",
       "stream": "stdout",
       "text": [
        " 1490\n",
        "upd"
       ]
      },
      {
       "output_type": "stream",
       "stream": "stdout",
       "text": [
        " 1500\n",
        "upd"
       ]
      },
      {
       "output_type": "stream",
       "stream": "stdout",
       "text": [
        " 1510\n",
        "upd"
       ]
      },
      {
       "output_type": "stream",
       "stream": "stdout",
       "text": [
        " 1520\n",
        "upd"
       ]
      },
      {
       "output_type": "stream",
       "stream": "stdout",
       "text": [
        " 1530\n",
        "upd"
       ]
      },
      {
       "output_type": "stream",
       "stream": "stdout",
       "text": [
        " 1540\n",
        "upd"
       ]
      },
      {
       "output_type": "stream",
       "stream": "stdout",
       "text": [
        " 1550\n",
        "upd"
       ]
      },
      {
       "output_type": "stream",
       "stream": "stdout",
       "text": [
        " 1560\n",
        "upd"
       ]
      },
      {
       "output_type": "stream",
       "stream": "stdout",
       "text": [
        " 1570\n",
        "upd"
       ]
      },
      {
       "output_type": "stream",
       "stream": "stdout",
       "text": [
        " 1580\n",
        "upd"
       ]
      },
      {
       "output_type": "stream",
       "stream": "stdout",
       "text": [
        " 1590\n",
        "upd"
       ]
      },
      {
       "output_type": "stream",
       "stream": "stdout",
       "text": [
        " 1600\n",
        "upd"
       ]
      },
      {
       "output_type": "stream",
       "stream": "stdout",
       "text": [
        " 1610\n",
        "upd"
       ]
      },
      {
       "output_type": "stream",
       "stream": "stdout",
       "text": [
        " 1620\n",
        "upd"
       ]
      },
      {
       "output_type": "stream",
       "stream": "stdout",
       "text": [
        " 1630\n",
        "upd"
       ]
      },
      {
       "output_type": "stream",
       "stream": "stdout",
       "text": [
        " 1640\n",
        "upd"
       ]
      },
      {
       "output_type": "stream",
       "stream": "stdout",
       "text": [
        " 1650\n",
        "upd"
       ]
      },
      {
       "output_type": "stream",
       "stream": "stdout",
       "text": [
        " 1660\n",
        "upd"
       ]
      },
      {
       "output_type": "stream",
       "stream": "stdout",
       "text": [
        " 1670\n",
        "upd"
       ]
      },
      {
       "output_type": "stream",
       "stream": "stdout",
       "text": [
        " 1680\n",
        "upd"
       ]
      },
      {
       "output_type": "stream",
       "stream": "stdout",
       "text": [
        " 1690\n",
        "upd"
       ]
      },
      {
       "output_type": "stream",
       "stream": "stdout",
       "text": [
        " 1700\n",
        "upd"
       ]
      },
      {
       "output_type": "stream",
       "stream": "stdout",
       "text": [
        " 1710\n",
        "upd"
       ]
      },
      {
       "output_type": "stream",
       "stream": "stdout",
       "text": [
        " 1720\n",
        "upd"
       ]
      },
      {
       "output_type": "stream",
       "stream": "stdout",
       "text": [
        " 1730\n",
        "upd"
       ]
      },
      {
       "output_type": "stream",
       "stream": "stdout",
       "text": [
        " 1740\n",
        "upd"
       ]
      },
      {
       "output_type": "stream",
       "stream": "stdout",
       "text": [
        " 1750\n",
        "upd"
       ]
      },
      {
       "output_type": "stream",
       "stream": "stdout",
       "text": [
        " 1760\n",
        "upd"
       ]
      },
      {
       "output_type": "stream",
       "stream": "stdout",
       "text": [
        " 1770\n",
        "upd"
       ]
      },
      {
       "output_type": "stream",
       "stream": "stdout",
       "text": [
        " 1780\n",
        "upd"
       ]
      },
      {
       "output_type": "stream",
       "stream": "stdout",
       "text": [
        " 1790\n",
        "upd"
       ]
      },
      {
       "output_type": "stream",
       "stream": "stdout",
       "text": [
        " 1800\n",
        "upd"
       ]
      },
      {
       "output_type": "stream",
       "stream": "stdout",
       "text": [
        " 1810\n",
        "upd"
       ]
      },
      {
       "output_type": "stream",
       "stream": "stdout",
       "text": [
        " 1820\n",
        "upd"
       ]
      },
      {
       "output_type": "stream",
       "stream": "stdout",
       "text": [
        " 1830\n",
        "upd"
       ]
      },
      {
       "output_type": "stream",
       "stream": "stdout",
       "text": [
        " 1840\n",
        "upd"
       ]
      },
      {
       "output_type": "stream",
       "stream": "stdout",
       "text": [
        " 1850\n",
        "upd"
       ]
      },
      {
       "output_type": "stream",
       "stream": "stdout",
       "text": [
        " 1860\n",
        "upd"
       ]
      },
      {
       "output_type": "stream",
       "stream": "stdout",
       "text": [
        " 1870\n",
        "upd"
       ]
      },
      {
       "output_type": "stream",
       "stream": "stdout",
       "text": [
        " 1880\n",
        "upd"
       ]
      },
      {
       "output_type": "stream",
       "stream": "stdout",
       "text": [
        " 1890\n",
        "upd"
       ]
      },
      {
       "output_type": "stream",
       "stream": "stdout",
       "text": [
        " 1900\n",
        "upd"
       ]
      },
      {
       "output_type": "stream",
       "stream": "stdout",
       "text": [
        " 1910\n",
        "upd"
       ]
      },
      {
       "output_type": "stream",
       "stream": "stdout",
       "text": [
        " 1920\n",
        "upd"
       ]
      },
      {
       "output_type": "stream",
       "stream": "stdout",
       "text": [
        " 1930\n",
        "upd"
       ]
      },
      {
       "output_type": "stream",
       "stream": "stdout",
       "text": [
        " 1940\n",
        "upd"
       ]
      },
      {
       "output_type": "stream",
       "stream": "stdout",
       "text": [
        " 1950\n",
        "upd"
       ]
      },
      {
       "output_type": "stream",
       "stream": "stdout",
       "text": [
        " 1960\n",
        "upd"
       ]
      },
      {
       "output_type": "stream",
       "stream": "stdout",
       "text": [
        " 1970\n",
        "upd"
       ]
      },
      {
       "output_type": "stream",
       "stream": "stdout",
       "text": [
        " 1980\n",
        "upd"
       ]
      },
      {
       "output_type": "stream",
       "stream": "stdout",
       "text": [
        " 1990\n",
        "upd"
       ]
      },
      {
       "output_type": "stream",
       "stream": "stdout",
       "text": [
        " 2000\n",
        "upd"
       ]
      },
      {
       "output_type": "stream",
       "stream": "stdout",
       "text": [
        " 2010\n",
        "upd"
       ]
      },
      {
       "output_type": "stream",
       "stream": "stdout",
       "text": [
        " 2020\n",
        "upd"
       ]
      },
      {
       "output_type": "stream",
       "stream": "stdout",
       "text": [
        " 2030\n",
        "upd"
       ]
      },
      {
       "output_type": "stream",
       "stream": "stdout",
       "text": [
        " 2040\n",
        "upd"
       ]
      },
      {
       "output_type": "stream",
       "stream": "stdout",
       "text": [
        " 2050\n",
        "upd"
       ]
      },
      {
       "output_type": "stream",
       "stream": "stdout",
       "text": [
        " 2060\n",
        "upd"
       ]
      },
      {
       "output_type": "stream",
       "stream": "stdout",
       "text": [
        " 2070\n",
        "upd"
       ]
      },
      {
       "output_type": "stream",
       "stream": "stdout",
       "text": [
        " 2080\n",
        "upd"
       ]
      },
      {
       "output_type": "stream",
       "stream": "stdout",
       "text": [
        " 2090\n",
        "upd"
       ]
      },
      {
       "output_type": "stream",
       "stream": "stdout",
       "text": [
        " 2100\n",
        "upd"
       ]
      },
      {
       "output_type": "stream",
       "stream": "stdout",
       "text": [
        " 2110\n",
        "upd"
       ]
      },
      {
       "output_type": "stream",
       "stream": "stdout",
       "text": [
        " 2120\n",
        "upd"
       ]
      },
      {
       "output_type": "stream",
       "stream": "stdout",
       "text": [
        " 2130\n",
        "upd"
       ]
      },
      {
       "output_type": "stream",
       "stream": "stdout",
       "text": [
        " 2140\n",
        "upd"
       ]
      },
      {
       "output_type": "stream",
       "stream": "stdout",
       "text": [
        " 2150\n",
        "upd"
       ]
      },
      {
       "output_type": "stream",
       "stream": "stdout",
       "text": [
        " 2160\n",
        "upd"
       ]
      },
      {
       "output_type": "stream",
       "stream": "stdout",
       "text": [
        " 2170\n",
        "upd"
       ]
      },
      {
       "output_type": "stream",
       "stream": "stdout",
       "text": [
        " 2180\n",
        "upd"
       ]
      },
      {
       "output_type": "stream",
       "stream": "stdout",
       "text": [
        " 2190\n",
        "upd"
       ]
      },
      {
       "output_type": "stream",
       "stream": "stdout",
       "text": [
        " 2200\n",
        "upd"
       ]
      },
      {
       "output_type": "stream",
       "stream": "stdout",
       "text": [
        " 2210\n",
        "upd"
       ]
      },
      {
       "output_type": "stream",
       "stream": "stdout",
       "text": [
        " 2220\n",
        "upd"
       ]
      },
      {
       "output_type": "stream",
       "stream": "stdout",
       "text": [
        " 2230\n",
        "upd"
       ]
      },
      {
       "output_type": "stream",
       "stream": "stdout",
       "text": [
        " 2240\n",
        "upd"
       ]
      },
      {
       "output_type": "stream",
       "stream": "stdout",
       "text": [
        " 2250\n",
        "upd"
       ]
      },
      {
       "output_type": "stream",
       "stream": "stdout",
       "text": [
        " 2260\n",
        "upd"
       ]
      },
      {
       "output_type": "stream",
       "stream": "stdout",
       "text": [
        " 2270\n",
        "upd"
       ]
      },
      {
       "output_type": "stream",
       "stream": "stdout",
       "text": [
        " 2280\n",
        "upd"
       ]
      },
      {
       "output_type": "stream",
       "stream": "stdout",
       "text": [
        " 2290\n",
        "upd"
       ]
      },
      {
       "output_type": "stream",
       "stream": "stdout",
       "text": [
        " 2300\n"
       ]
      }
     ],
     "prompt_number": 29
    },
    {
     "cell_type": "code",
     "collapsed": false,
     "input": [
      "plot(expe_1.records[:expe_1.i_rec,-2], expe_1.records[:expe_1.i_rec,-1], '.') \n",
      "#axis([-1, 1, -1, 1])"
     ],
     "language": "python",
     "metadata": {},
     "outputs": [
      {
       "metadata": {},
       "output_type": "pyout",
       "prompt_number": 30,
       "text": [
        "[<matplotlib.lines.Line2D at 0x666df10>]"
       ]
      }
     ],
     "prompt_number": 30
    },
    {
     "cell_type": "code",
     "collapsed": false,
     "input": [
      "i_model.gmm.covars_"
     ],
     "language": "python",
     "metadata": {},
     "outputs": [
      {
       "metadata": {},
       "output_type": "pyout",
       "prompt_number": 43,
       "text": [
        "array([[[ 0.10488066,  0.05486111, -0.01203372,  0.06040169],\n",
        "        [ 0.05486111,  0.14757483,  0.00293804, -0.19274664],\n",
        "        [-0.01203372,  0.00293804,  0.00350061, -0.02682327],\n",
        "        [ 0.06040169, -0.19274664, -0.02682327,  0.47846842]],\n",
        "\n",
        "       [[ 0.08633004,  0.04316015, -0.0142747 , -0.06274083],\n",
        "        [ 0.04316015,  0.62528278, -0.09828627,  0.18337364],\n",
        "        [-0.0142747 , -0.09828627,  0.02436936, -0.00056556],\n",
        "        [-0.06274083,  0.18337364, -0.00056556,  0.33402147]],\n",
        "\n",
        "       [[ 0.28959583,  0.01408268, -0.0088124 ,  0.0380191 ],\n",
        "        [ 0.01408268,  0.10546984,  0.00036321, -0.22250245],\n",
        "        [-0.0088124 ,  0.00036321,  0.00227141, -0.00073005],\n",
        "        [ 0.0380191 , -0.22250245, -0.00073005,  0.53139856]],\n",
        "\n",
        "       [[ 0.14546527, -0.12635399,  0.02296745, -0.02312004],\n",
        "        [-0.12635399,  0.35281815, -0.08724489,  0.04128307],\n",
        "        [ 0.02296745, -0.08724489,  0.0280434 , -0.01289484],\n",
        "        [-0.02312004,  0.04128307, -0.01289484,  0.01277305]],\n",
        "\n",
        "       [[ 0.99349531,  0.05713883, -0.01184879, -0.61938084],\n",
        "        [ 0.05713883,  0.00428953, -0.00068215, -0.0356583 ],\n",
        "        [-0.01184879, -0.00068215,  0.00114146,  0.0073944 ],\n",
        "        [-0.61938084, -0.0356583 ,  0.0073944 ,  0.38753344]],\n",
        "\n",
        "       [[ 0.33031232,  0.05197387, -0.02941307, -0.02076278],\n",
        "        [ 0.05197387,  0.20985195, -0.09809522, -0.21105093],\n",
        "        [-0.02941307, -0.09809522,  0.06427398,  0.09375178],\n",
        "        [-0.02076278, -0.21105093,  0.09375178,  0.25621388]]])"
       ]
      }
     ],
     "prompt_number": 43
    },
    {
     "cell_type": "code",
     "collapsed": false,
     "input": [
      "from mpl_toolkits.mplot3d import Axes3D\n",
      "fig = figure()\n",
      "ax = fig.add_subplot(111, projection='3d')\n",
      "xlabel('X')\n",
      "ylabel('Y')\n",
      "ag.i_model.gmm.plotProjection(ax, [0,1,-1])"
     ],
     "language": "python",
     "metadata": {},
     "outputs": [],
     "prompt_number": 28
    },
    {
     "cell_type": "code",
     "collapsed": false,
     "input": [
      "m = ag.sm_model.infer(conf.s_dims, conf.m_dims, array([0.,0.]))"
     ],
     "language": "python",
     "metadata": {},
     "outputs": [],
     "prompt_number": 20
    },
    {
     "cell_type": "code",
     "collapsed": false,
     "input": [
      "env.next_state(m)\n",
      "print env.state"
     ],
     "language": "python",
     "metadata": {},
     "outputs": [
      {
       "output_type": "stream",
       "stream": "stdout",
       "text": [
        "[-0.21718128  0.19777046 -0.12340033 -0.20520942  0.22227579 -0.21107099\n",
        "  0.04988479  0.13098303 -0.02768681 -0.10819882]\n"
       ]
      }
     ],
     "prompt_number": 22
    },
    {
     "cell_type": "code",
     "collapsed": false,
     "input": [
      "from sklearn.preprocessing import StandardScaler\n",
      "scaler = StandardScaler()\n",
      "data = randn(100, 3) * array([1., 2., 3.])\n",
      "scaled_data = scaler.fit_transform(data)\n"
     ],
     "language": "python",
     "metadata": {},
     "outputs": [],
     "prompt_number": 22
    },
    {
     "cell_type": "code",
     "collapsed": false,
     "input": [
      "scaler.inverse_transform"
     ],
     "language": "python",
     "metadata": {},
     "outputs": [
      {
       "metadata": {},
       "output_type": "pyout",
       "prompt_number": 30,
       "text": [
        "array([ 1.,  1.,  1.])"
       ]
      }
     ],
     "prompt_number": 30
    },
    {
     "cell_type": "code",
     "collapsed": false,
     "input": [
      "a=subplot(111)\n"
     ],
     "language": "python",
     "metadata": {},
     "outputs": [],
     "prompt_number": 14
    },
    {
     "cell_type": "code",
     "collapsed": false,
     "input": [
      "clf()\n",
      "proj=[-2,-1]\n",
      "a=subplot(111)\n",
      "plot(expe_1.records[:expe_1.i_rec,proj[0]], expe_1.records[:expe_1.i_rec,proj[1]], '.', ms=4)\n",
      "ag.sm_model.imle.to_gmm().plotProjection(a, proj)"
     ],
     "language": "python",
     "metadata": {},
     "outputs": [],
     "prompt_number": 9
    },
    {
     "cell_type": "code",
     "collapsed": false,
     "input": [
      "import time"
     ],
     "language": "python",
     "metadata": {},
     "outputs": [],
     "prompt_number": 9
    },
    {
     "cell_type": "code",
     "collapsed": false,
     "input": [
      "start = time.time()\n",
      "cond = ag.sm_model.imle.to_gmm().conditional([0, 1, 3, 4, 5], [2, 6, 7, 8])\n",
      "print time.time() - start\n",
      "for _ in range(1000):\n",
      "    g = cond(rand(5))\n",
      "print time.time() - start"
     ],
     "language": "python",
     "metadata": {},
     "outputs": [
      {
       "output_type": "stream",
       "stream": "stdout",
       "text": [
        "0.00837302207947\n",
        "6.56605195999"
       ]
      },
      {
       "output_type": "stream",
       "stream": "stdout",
       "text": [
        "\n"
       ]
      }
     ],
     "prompt_number": 10
    },
    {
     "cell_type": "code",
     "collapsed": false,
     "input": [
      "start = time.time()\n",
      "gmm = ag.sm_model.imle.to_gmm()\n",
      "print time.time() - start\n",
      "for _ in range(1000):\n",
      "    g = gmm.inference([0, 1, 3, 4, 5], [2, 6, 7, 8], rand(5, 1))\n",
      "print time.time() - start"
     ],
     "language": "python",
     "metadata": {},
     "outputs": [
      {
       "output_type": "stream",
       "stream": "stdout",
       "text": [
        "0.0132720470428\n",
        "7.59486794472"
       ]
      },
      {
       "output_type": "stream",
       "stream": "stdout",
       "text": [
        "\n"
       ]
      }
     ],
     "prompt_number": 11
    },
    {
     "cell_type": "code",
     "collapsed": false,
     "input": [
      "g.means_"
     ],
     "language": "python",
     "metadata": {},
     "outputs": [
      {
       "metadata": {},
       "output_type": "pyout",
       "prompt_number": 14,
       "text": [
        "array([[ 0.07721778,  0.07678617,  0.07655683],\n",
        "       [-1.04719755, -1.04719755, -1.04719755],\n",
        "       [-1.02530996, -1.02429465, -1.02459375],\n",
        "       [ 1.04719755,  1.04719755,  1.04719755],\n",
        "       [-0.91967124, -0.925361  , -0.91077215],\n",
        "       [ 1.04719755,  1.04719755,  1.04719755],\n",
        "       [-1.04719755, -1.04719755, -1.04719755],\n",
        "       [ 1.04719755,  1.04719755,  1.04719755],\n",
        "       [ 1.04719755,  1.04719755,  1.04719755],\n",
        "       [-0.9646517 , -0.96742038, -0.96556171],\n",
        "       [ 0.98736954,  0.98647985,  0.98345913],\n",
        "       [-1.04719755, -1.04719755, -1.04719755],\n",
        "       [ 0.91456354,  0.9099177 ,  0.89898289],\n",
        "       [-1.04719755, -1.04719755, -1.04719755],\n",
        "       [-1.04719755, -1.04719755, -1.04719755],\n",
        "       [-0.91348895, -0.91348895, -0.91348895],\n",
        "       [ 1.02645549,  1.02645549,  1.02645549],\n",
        "       [ 0.63531404,  0.63531404,  0.63531404],\n",
        "       [-0.87417609, -0.8730019 , -0.8823463 ],\n",
        "       [ 1.04719755,  1.04719755,  1.04719755],\n",
        "       [ 1.04719755,  1.04719755,  1.04719755],\n",
        "       [-0.97749121, -0.97975444, -0.97749121],\n",
        "       [-1.04719755, -1.04719755, -1.04719755],\n",
        "       [-1.04719755, -1.04719755, -1.04719755],\n",
        "       [-0.98435381, -0.98518083, -0.98518083],\n",
        "       [-1.04719755, -1.04719755, -1.04719755],\n",
        "       [ 1.04719755,  1.04719755,  1.04719755],\n",
        "       [ 0.93850736,  0.93850736,  0.93574694]])"
       ]
      }
     ],
     "prompt_number": 14
    },
    {
     "cell_type": "code",
     "collapsed": false,
     "input": [
      "cond2 = ag.sm_model.imle.to_gmm().inference([0, 1, 3], [2], rand(3, 1))"
     ],
     "language": "python",
     "metadata": {},
     "outputs": [],
     "prompt_number": 17
    },
    {
     "cell_type": "code",
     "collapsed": false,
     "input": [
      "cond2.means_"
     ],
     "language": "python",
     "metadata": {},
     "outputs": [
      {
       "metadata": {},
       "output_type": "pyout",
       "prompt_number": 11,
       "text": [
        "array([[ 0.07705855],\n",
        "       [-1.04719755],\n",
        "       [-1.02464227],\n",
        "       [ 1.04719755],\n",
        "       [-0.90680299],\n",
        "       [ 1.04719755],\n",
        "       [-1.04719755],\n",
        "       [ 1.04719755],\n",
        "       [ 1.04719755],\n",
        "       [-0.96556171],\n",
        "       [ 0.98392523],\n",
        "       [-1.04719755],\n",
        "       [ 0.90012512],\n",
        "       [-1.04719755],\n",
        "       [-1.04719755],\n",
        "       [-0.91348895],\n",
        "       [ 1.02645549],\n",
        "       [ 0.63531404],\n",
        "       [-0.88156287],\n",
        "       [ 1.04719755],\n",
        "       [ 1.04719755],\n",
        "       [-0.97749121],\n",
        "       [-1.04719755],\n",
        "       [-1.04719755],\n",
        "       [-0.98518083],\n",
        "       [-1.04719755],\n",
        "       [ 1.04719755],\n",
        "       [ 0.93550285]])"
       ]
      }
     ],
     "prompt_number": 11
    },
    {
     "cell_type": "code",
     "collapsed": false,
     "input": [
      "dt = 0.01\n",
      "from im_learning.agent.motor_primitive import MovementPrimitive\n",
      "mp = MovementPrimitive(3., 3, dt, stiffness = 1., damping = 0.05)\n",
      "commands = [rand(3) *6. - 3. for _ in range(2)]\n",
      "positions = []\n",
      "for command in commands:\n",
      "    x_v_acc = mp.trajectory([0., 0.], command)\n",
      "    positions.append(x_v_acc)\n",
      "    plot(tile(arange(0., 3., dt), (3,1)).T, x_v_acc)\n",
      "positions = array(positions)"
     ],
     "language": "python",
     "metadata": {},
     "outputs": [],
     "prompt_number": 8
    },
    {
     "cell_type": "code",
     "collapsed": false,
     "input": [
      "positions.shape"
     ],
     "language": "python",
     "metadata": {},
     "outputs": [
      {
       "metadata": {},
       "output_type": "pyout",
       "prompt_number": 9,
       "text": [
        "(2, 300, 3)"
       ]
      }
     ],
     "prompt_number": 9
    },
    {
     "cell_type": "code",
     "collapsed": false,
     "input": [
      "env.next_state"
     ],
     "language": "python",
     "metadata": {},
     "outputs": [
      {
       "metadata": {},
       "output_type": "pyout",
       "prompt_number": 15,
       "text": [
        "4"
       ]
      }
     ],
     "prompt_number": 15
    },
    {
     "cell_type": "code",
     "collapsed": false,
     "input": [
      "bounds_min_max(expe_1.records[1,-7:], m_mins, m_maxs)"
     ],
     "language": "python",
     "metadata": {},
     "outputs": [
      {
       "metadata": {},
       "output_type": "pyout",
       "prompt_number": 15,
       "text": [
        "array([  1.95545240e+14,   2.38001651e+14,  -1.04719755e+00,\n",
        "         2.07696893e+14,  -1.04719755e+00,  -1.04719755e+00,\n",
        "         1.70444407e+14])"
       ]
      }
     ],
     "prompt_number": 15
    },
    {
     "cell_type": "code",
     "collapsed": false,
     "input": [
      "bounds_min_max(expe_1.records[1,-7:], m_mins, m_maxs)"
     ],
     "language": "python",
     "metadata": {},
     "outputs": [
      {
       "metadata": {},
       "output_type": "pyout",
       "prompt_number": 17,
       "text": [
        "array([  1.95545240e+14,   2.38001651e+14,  -1.04719755e+00,\n",
        "         2.07696893e+14,  -1.04719755e+00,  -1.04719755e+00,\n",
        "         1.70444407e+14])"
       ]
      }
     ],
     "prompt_number": 17
    },
    {
     "cell_type": "code",
     "collapsed": false,
     "input": [
      "minimum(expe_1.records[1,-7:], m_maxs)"
     ],
     "language": "python",
     "metadata": {},
     "outputs": [
      {
       "metadata": {},
       "output_type": "pyout",
       "prompt_number": 18,
       "text": [
        "array([ 1.04719755,  1.04719755, -1.04719755,  1.04719755, -1.04719755,\n",
        "       -1.04719755,  1.04719755])"
       ]
      }
     ],
     "prompt_number": 18
    },
    {
     "cell_type": "code",
     "collapsed": false,
     "input": [
      "m_maxs"
     ],
     "language": "python",
     "metadata": {},
     "outputs": [
      {
       "metadata": {},
       "output_type": "pyout",
       "prompt_number": 22,
       "text": [
        "array([ 1.04719755,  1.04719755,  1.04719755,  1.04719755,  1.04719755,\n",
        "        1.04719755,  1.04719755])"
       ]
      }
     ],
     "prompt_number": 22
    },
    {
     "cell_type": "code",
     "collapsed": false,
     "input": [
      "ag.sm_model.imle.to_gmm().inference([],proj,[]).covars_"
     ],
     "language": "python",
     "metadata": {},
     "outputs": [
      {
       "metadata": {},
       "output_type": "pyout",
       "prompt_number": 15,
       "text": [
        "array([[[ nan,  nan],\n",
        "        [ nan,  nan]],\n",
        "\n",
        "       [[ nan,  nan],\n",
        "        [ nan,  nan]],\n",
        "\n",
        "       [[ nan,  nan],\n",
        "        [ nan,  nan]]])"
       ]
      }
     ],
     "prompt_number": 15
    },
    {
     "cell_type": "code",
     "collapsed": false,
     "input": [],
     "language": "python",
     "metadata": {},
     "outputs": []
    },
    {
     "cell_type": "code",
     "collapsed": false,
     "input": [],
     "language": "python",
     "metadata": {},
     "outputs": []
    }
   ],
   "metadata": {}
  }
 ]
}